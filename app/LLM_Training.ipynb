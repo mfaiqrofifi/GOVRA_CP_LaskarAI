{
  "nbformat": 4,
  "nbformat_minor": 0,
  "metadata": {
    "colab": {
      "provenance": [],
      "gpuType": "T4"
    },
    "kernelspec": {
      "name": "python3",
      "display_name": "Python 3"
    },
    "language_info": {
      "name": "python"
    },
    "accelerator": "GPU"
  },
  "cells": [
    {
      "cell_type": "code",
      "execution_count": null,
      "metadata": {
        "colab": {
          "base_uri": "https://localhost:8080/"
        },
        "id": "psiJFVKfUR2Z",
        "outputId": "d84fb9fa-0837-4989-a508-ceb713091739"
      },
      "outputs": [
        {
          "output_type": "stream",
          "name": "stdout",
          "text": [
            "Requirement already satisfied: transformers in /usr/local/lib/python3.11/dist-packages (4.52.4)\n",
            "Requirement already satisfied: datasets in /usr/local/lib/python3.11/dist-packages (2.14.4)\n",
            "Requirement already satisfied: filelock in /usr/local/lib/python3.11/dist-packages (from transformers) (3.18.0)\n",
            "Requirement already satisfied: huggingface-hub<1.0,>=0.30.0 in /usr/local/lib/python3.11/dist-packages (from transformers) (0.32.4)\n",
            "Requirement already satisfied: numpy>=1.17 in /usr/local/lib/python3.11/dist-packages (from transformers) (2.0.2)\n",
            "Requirement already satisfied: packaging>=20.0 in /usr/local/lib/python3.11/dist-packages (from transformers) (24.2)\n",
            "Requirement already satisfied: pyyaml>=5.1 in /usr/local/lib/python3.11/dist-packages (from transformers) (6.0.2)\n",
            "Requirement already satisfied: regex!=2019.12.17 in /usr/local/lib/python3.11/dist-packages (from transformers) (2024.11.6)\n",
            "Requirement already satisfied: requests in /usr/local/lib/python3.11/dist-packages (from transformers) (2.32.3)\n",
            "Requirement already satisfied: tokenizers<0.22,>=0.21 in /usr/local/lib/python3.11/dist-packages (from transformers) (0.21.1)\n",
            "Requirement already satisfied: safetensors>=0.4.3 in /usr/local/lib/python3.11/dist-packages (from transformers) (0.5.3)\n",
            "Requirement already satisfied: tqdm>=4.27 in /usr/local/lib/python3.11/dist-packages (from transformers) (4.67.1)\n",
            "Requirement already satisfied: pyarrow>=8.0.0 in /usr/local/lib/python3.11/dist-packages (from datasets) (18.1.0)\n",
            "Requirement already satisfied: dill<0.3.8,>=0.3.0 in /usr/local/lib/python3.11/dist-packages (from datasets) (0.3.7)\n",
            "Requirement already satisfied: pandas in /usr/local/lib/python3.11/dist-packages (from datasets) (2.2.2)\n",
            "Requirement already satisfied: xxhash in /usr/local/lib/python3.11/dist-packages (from datasets) (3.5.0)\n",
            "Requirement already satisfied: multiprocess in /usr/local/lib/python3.11/dist-packages (from datasets) (0.70.15)\n",
            "Requirement already satisfied: fsspec>=2021.11.1 in /usr/local/lib/python3.11/dist-packages (from fsspec[http]>=2021.11.1->datasets) (2025.3.2)\n",
            "Requirement already satisfied: aiohttp in /usr/local/lib/python3.11/dist-packages (from datasets) (3.11.15)\n",
            "Requirement already satisfied: aiohappyeyeballs>=2.3.0 in /usr/local/lib/python3.11/dist-packages (from aiohttp->datasets) (2.6.1)\n",
            "Requirement already satisfied: aiosignal>=1.1.2 in /usr/local/lib/python3.11/dist-packages (from aiohttp->datasets) (1.3.2)\n",
            "Requirement already satisfied: attrs>=17.3.0 in /usr/local/lib/python3.11/dist-packages (from aiohttp->datasets) (25.3.0)\n",
            "Requirement already satisfied: frozenlist>=1.1.1 in /usr/local/lib/python3.11/dist-packages (from aiohttp->datasets) (1.6.0)\n",
            "Requirement already satisfied: multidict<7.0,>=4.5 in /usr/local/lib/python3.11/dist-packages (from aiohttp->datasets) (6.4.4)\n",
            "Requirement already satisfied: propcache>=0.2.0 in /usr/local/lib/python3.11/dist-packages (from aiohttp->datasets) (0.3.1)\n",
            "Requirement already satisfied: yarl<2.0,>=1.17.0 in /usr/local/lib/python3.11/dist-packages (from aiohttp->datasets) (1.20.0)\n",
            "Requirement already satisfied: typing-extensions>=3.7.4.3 in /usr/local/lib/python3.11/dist-packages (from huggingface-hub<1.0,>=0.30.0->transformers) (4.14.0)\n",
            "Requirement already satisfied: hf-xet<2.0.0,>=1.1.2 in /usr/local/lib/python3.11/dist-packages (from huggingface-hub<1.0,>=0.30.0->transformers) (1.1.2)\n",
            "Requirement already satisfied: charset-normalizer<4,>=2 in /usr/local/lib/python3.11/dist-packages (from requests->transformers) (3.4.2)\n",
            "Requirement already satisfied: idna<4,>=2.5 in /usr/local/lib/python3.11/dist-packages (from requests->transformers) (3.10)\n",
            "Requirement already satisfied: urllib3<3,>=1.21.1 in /usr/local/lib/python3.11/dist-packages (from requests->transformers) (2.4.0)\n",
            "Requirement already satisfied: certifi>=2017.4.17 in /usr/local/lib/python3.11/dist-packages (from requests->transformers) (2025.4.26)\n",
            "Requirement already satisfied: python-dateutil>=2.8.2 in /usr/local/lib/python3.11/dist-packages (from pandas->datasets) (2.9.0.post0)\n",
            "Requirement already satisfied: pytz>=2020.1 in /usr/local/lib/python3.11/dist-packages (from pandas->datasets) (2025.2)\n",
            "Requirement already satisfied: tzdata>=2022.7 in /usr/local/lib/python3.11/dist-packages (from pandas->datasets) (2025.2)\n",
            "Requirement already satisfied: six>=1.5 in /usr/local/lib/python3.11/dist-packages (from python-dateutil>=2.8.2->pandas->datasets) (1.17.0)\n"
          ]
        }
      ],
      "source": [
        "!pip install transformers datasets"
      ]
    },
    {
      "cell_type": "code",
      "source": [
        "from google.colab import files\n",
        "uploaded = files.upload()"
      ],
      "metadata": {
        "colab": {
          "base_uri": "https://localhost:8080/",
          "height": 73
        },
        "id": "V0hfp1IeUy_Q",
        "outputId": "1a5e1e0e-658d-4f58-ad84-ea9d30806d04"
      },
      "execution_count": null,
      "outputs": [
        {
          "output_type": "display_data",
          "data": {
            "text/plain": [
              "<IPython.core.display.HTML object>"
            ],
            "text/html": [
              "\n",
              "     <input type=\"file\" id=\"files-46b6a9a9-36ab-4c0c-a539-7bbf368acbac\" name=\"files[]\" multiple disabled\n",
              "        style=\"border:none\" />\n",
              "     <output id=\"result-46b6a9a9-36ab-4c0c-a539-7bbf368acbac\">\n",
              "      Upload widget is only available when the cell has been executed in the\n",
              "      current browser session. Please rerun this cell to enable.\n",
              "      </output>\n",
              "      <script>// Copyright 2017 Google LLC\n",
              "//\n",
              "// Licensed under the Apache License, Version 2.0 (the \"License\");\n",
              "// you may not use this file except in compliance with the License.\n",
              "// You may obtain a copy of the License at\n",
              "//\n",
              "//      http://www.apache.org/licenses/LICENSE-2.0\n",
              "//\n",
              "// Unless required by applicable law or agreed to in writing, software\n",
              "// distributed under the License is distributed on an \"AS IS\" BASIS,\n",
              "// WITHOUT WARRANTIES OR CONDITIONS OF ANY KIND, either express or implied.\n",
              "// See the License for the specific language governing permissions and\n",
              "// limitations under the License.\n",
              "\n",
              "/**\n",
              " * @fileoverview Helpers for google.colab Python module.\n",
              " */\n",
              "(function(scope) {\n",
              "function span(text, styleAttributes = {}) {\n",
              "  const element = document.createElement('span');\n",
              "  element.textContent = text;\n",
              "  for (const key of Object.keys(styleAttributes)) {\n",
              "    element.style[key] = styleAttributes[key];\n",
              "  }\n",
              "  return element;\n",
              "}\n",
              "\n",
              "// Max number of bytes which will be uploaded at a time.\n",
              "const MAX_PAYLOAD_SIZE = 100 * 1024;\n",
              "\n",
              "function _uploadFiles(inputId, outputId) {\n",
              "  const steps = uploadFilesStep(inputId, outputId);\n",
              "  const outputElement = document.getElementById(outputId);\n",
              "  // Cache steps on the outputElement to make it available for the next call\n",
              "  // to uploadFilesContinue from Python.\n",
              "  outputElement.steps = steps;\n",
              "\n",
              "  return _uploadFilesContinue(outputId);\n",
              "}\n",
              "\n",
              "// This is roughly an async generator (not supported in the browser yet),\n",
              "// where there are multiple asynchronous steps and the Python side is going\n",
              "// to poll for completion of each step.\n",
              "// This uses a Promise to block the python side on completion of each step,\n",
              "// then passes the result of the previous step as the input to the next step.\n",
              "function _uploadFilesContinue(outputId) {\n",
              "  const outputElement = document.getElementById(outputId);\n",
              "  const steps = outputElement.steps;\n",
              "\n",
              "  const next = steps.next(outputElement.lastPromiseValue);\n",
              "  return Promise.resolve(next.value.promise).then((value) => {\n",
              "    // Cache the last promise value to make it available to the next\n",
              "    // step of the generator.\n",
              "    outputElement.lastPromiseValue = value;\n",
              "    return next.value.response;\n",
              "  });\n",
              "}\n",
              "\n",
              "/**\n",
              " * Generator function which is called between each async step of the upload\n",
              " * process.\n",
              " * @param {string} inputId Element ID of the input file picker element.\n",
              " * @param {string} outputId Element ID of the output display.\n",
              " * @return {!Iterable<!Object>} Iterable of next steps.\n",
              " */\n",
              "function* uploadFilesStep(inputId, outputId) {\n",
              "  const inputElement = document.getElementById(inputId);\n",
              "  inputElement.disabled = false;\n",
              "\n",
              "  const outputElement = document.getElementById(outputId);\n",
              "  outputElement.innerHTML = '';\n",
              "\n",
              "  const pickedPromise = new Promise((resolve) => {\n",
              "    inputElement.addEventListener('change', (e) => {\n",
              "      resolve(e.target.files);\n",
              "    });\n",
              "  });\n",
              "\n",
              "  const cancel = document.createElement('button');\n",
              "  inputElement.parentElement.appendChild(cancel);\n",
              "  cancel.textContent = 'Cancel upload';\n",
              "  const cancelPromise = new Promise((resolve) => {\n",
              "    cancel.onclick = () => {\n",
              "      resolve(null);\n",
              "    };\n",
              "  });\n",
              "\n",
              "  // Wait for the user to pick the files.\n",
              "  const files = yield {\n",
              "    promise: Promise.race([pickedPromise, cancelPromise]),\n",
              "    response: {\n",
              "      action: 'starting',\n",
              "    }\n",
              "  };\n",
              "\n",
              "  cancel.remove();\n",
              "\n",
              "  // Disable the input element since further picks are not allowed.\n",
              "  inputElement.disabled = true;\n",
              "\n",
              "  if (!files) {\n",
              "    return {\n",
              "      response: {\n",
              "        action: 'complete',\n",
              "      }\n",
              "    };\n",
              "  }\n",
              "\n",
              "  for (const file of files) {\n",
              "    const li = document.createElement('li');\n",
              "    li.append(span(file.name, {fontWeight: 'bold'}));\n",
              "    li.append(span(\n",
              "        `(${file.type || 'n/a'}) - ${file.size} bytes, ` +\n",
              "        `last modified: ${\n",
              "            file.lastModifiedDate ? file.lastModifiedDate.toLocaleDateString() :\n",
              "                                    'n/a'} - `));\n",
              "    const percent = span('0% done');\n",
              "    li.appendChild(percent);\n",
              "\n",
              "    outputElement.appendChild(li);\n",
              "\n",
              "    const fileDataPromise = new Promise((resolve) => {\n",
              "      const reader = new FileReader();\n",
              "      reader.onload = (e) => {\n",
              "        resolve(e.target.result);\n",
              "      };\n",
              "      reader.readAsArrayBuffer(file);\n",
              "    });\n",
              "    // Wait for the data to be ready.\n",
              "    let fileData = yield {\n",
              "      promise: fileDataPromise,\n",
              "      response: {\n",
              "        action: 'continue',\n",
              "      }\n",
              "    };\n",
              "\n",
              "    // Use a chunked sending to avoid message size limits. See b/62115660.\n",
              "    let position = 0;\n",
              "    do {\n",
              "      const length = Math.min(fileData.byteLength - position, MAX_PAYLOAD_SIZE);\n",
              "      const chunk = new Uint8Array(fileData, position, length);\n",
              "      position += length;\n",
              "\n",
              "      const base64 = btoa(String.fromCharCode.apply(null, chunk));\n",
              "      yield {\n",
              "        response: {\n",
              "          action: 'append',\n",
              "          file: file.name,\n",
              "          data: base64,\n",
              "        },\n",
              "      };\n",
              "\n",
              "      let percentDone = fileData.byteLength === 0 ?\n",
              "          100 :\n",
              "          Math.round((position / fileData.byteLength) * 100);\n",
              "      percent.textContent = `${percentDone}% done`;\n",
              "\n",
              "    } while (position < fileData.byteLength);\n",
              "  }\n",
              "\n",
              "  // All done.\n",
              "  yield {\n",
              "    response: {\n",
              "      action: 'complete',\n",
              "    }\n",
              "  };\n",
              "}\n",
              "\n",
              "scope.google = scope.google || {};\n",
              "scope.google.colab = scope.google.colab || {};\n",
              "scope.google.colab._files = {\n",
              "  _uploadFiles,\n",
              "  _uploadFilesContinue,\n",
              "};\n",
              "})(self);\n",
              "</script> "
            ]
          },
          "metadata": {}
        },
        {
          "output_type": "stream",
          "name": "stdout",
          "text": [
            "Saving dataset_narasi_kebijakan_sentimen_publik.txt to dataset_narasi_kebijakan_sentimen_publik.txt\n"
          ]
        }
      ]
    },
    {
      "cell_type": "code",
      "source": [
        "# STEP 3: Load tokenizer dan model GPT-2\n",
        "from transformers import GPT2LMHeadModel, GPT2Tokenizer, TextDataset, DataCollatorForLanguageModeling, Trainer, TrainingArguments\n",
        "\n",
        "model = GPT2LMHeadModel.from_pretrained(\"gpt2\")\n",
        "tokenizer = GPT2Tokenizer.from_pretrained(\"gpt2\")\n",
        "tokenizer.pad_token = tokenizer.eos_token\n",
        "model.resize_token_embeddings(len(tokenizer))\n",
        "\n",
        "# STEP 4: Load dataset (ubah nama sesuai file kamu)\n",
        "dataset = TextDataset(\n",
        "    tokenizer=tokenizer,\n",
        "    file_path=\"dataset_narasi_kebijakan_sentimen_publik.txt\",  # ← ubah kalau nama beda\n",
        "    block_size=128,\n",
        ")\n",
        "\n",
        "data_collator = DataCollatorForLanguageModeling(\n",
        "    tokenizer=tokenizer, mlm=False\n",
        ")"
      ],
      "metadata": {
        "id": "7McL1OM-UzdG"
      },
      "execution_count": null,
      "outputs": []
    },
    {
      "cell_type": "code",
      "source": [
        "from transformers import TrainingArguments\n",
        "\n",
        "training_args = TrainingArguments(\n",
        "    output_dir=\"./gpt2-kebijakan-output\",\n",
        "    overwrite_output_dir=True,\n",
        "    per_device_train_batch_size=2,\n",
        "    num_train_epochs=3,\n",
        "    save_steps=500,\n",
        "    save_total_limit=2,\n",
        "    logging_steps=100,\n",
        "    fp16=True,\n",
        "    report_to=\"none\"  # 🔥 ini kunci mematikan wandb\n",
        ")\n"
      ],
      "metadata": {
        "id": "IJjPmfmRU5QO"
      },
      "execution_count": null,
      "outputs": []
    },
    {
      "cell_type": "code",
      "source": [
        "# STEP 6: Trainer\n",
        "trainer = Trainer(\n",
        "    model=model,\n",
        "    args=training_args,\n",
        "    data_collator=data_collator,\n",
        "    train_dataset=dataset,\n",
        ")\n",
        "\n",
        "# STEP 7: Train\n",
        "trainer.train()"
      ],
      "metadata": {
        "colab": {
          "base_uri": "https://localhost:8080/",
          "height": 419
        },
        "id": "s9CZRrShVMuH",
        "outputId": "c461e2fe-1fb8-4af3-fd82-710f14cb7445"
      },
      "execution_count": null,
      "outputs": [
        {
          "output_type": "stream",
          "name": "stderr",
          "text": [
            "`loss_type=None` was set in the config but it is unrecognised.Using the default loss: `ForCausalLMLoss`.\n"
          ]
        },
        {
          "output_type": "display_data",
          "data": {
            "text/plain": [
              "<IPython.core.display.HTML object>"
            ],
            "text/html": [
              "\n",
              "    <div>\n",
              "      \n",
              "      <progress value='861' max='861' style='width:300px; height:20px; vertical-align: middle;'></progress>\n",
              "      [861/861 00:42, Epoch 3/3]\n",
              "    </div>\n",
              "    <table border=\"1\" class=\"dataframe\">\n",
              "  <thead>\n",
              " <tr style=\"text-align: left;\">\n",
              "      <th>Step</th>\n",
              "      <th>Training Loss</th>\n",
              "    </tr>\n",
              "  </thead>\n",
              "  <tbody>\n",
              "    <tr>\n",
              "      <td>100</td>\n",
              "      <td>2.507900</td>\n",
              "    </tr>\n",
              "    <tr>\n",
              "      <td>200</td>\n",
              "      <td>0.550800</td>\n",
              "    </tr>\n",
              "    <tr>\n",
              "      <td>300</td>\n",
              "      <td>0.291100</td>\n",
              "    </tr>\n",
              "    <tr>\n",
              "      <td>400</td>\n",
              "      <td>0.184800</td>\n",
              "    </tr>\n",
              "    <tr>\n",
              "      <td>500</td>\n",
              "      <td>0.150700</td>\n",
              "    </tr>\n",
              "    <tr>\n",
              "      <td>600</td>\n",
              "      <td>0.129500</td>\n",
              "    </tr>\n",
              "    <tr>\n",
              "      <td>700</td>\n",
              "      <td>0.112400</td>\n",
              "    </tr>\n",
              "    <tr>\n",
              "      <td>800</td>\n",
              "      <td>0.114500</td>\n",
              "    </tr>\n",
              "  </tbody>\n",
              "</table><p>"
            ]
          },
          "metadata": {}
        },
        {
          "output_type": "execute_result",
          "data": {
            "text/plain": [
              "TrainOutput(global_step=861, training_loss=0.47705690979819126, metrics={'train_runtime': 44.0455, 'train_samples_per_second': 39.028, 'train_steps_per_second': 19.548, 'total_flos': 112290250752000.0, 'train_loss': 0.47705690979819126, 'epoch': 3.0})"
            ]
          },
          "metadata": {},
          "execution_count": 6
        }
      ]
    },
    {
      "cell_type": "code",
      "source": [
        "model.save_pretrained(\"./gpt2_sentimen\")\n",
        "tokenizer.save_pretrained(\"./gpt2_sentimen\")"
      ],
      "metadata": {
        "colab": {
          "base_uri": "https://localhost:8080/"
        },
        "id": "kMRG-3-4vQFe",
        "outputId": "c5ef9b17-b733-4caf-9e51-80fb7c21c933"
      },
      "execution_count": null,
      "outputs": [
        {
          "output_type": "execute_result",
          "data": {
            "text/plain": [
              "('./gpt2_sentimen/tokenizer_config.json',\n",
              " './gpt2_sentimen/special_tokens_map.json',\n",
              " './gpt2_sentimen/vocab.json',\n",
              " './gpt2_sentimen/merges.txt',\n",
              " './gpt2_sentimen/added_tokens.json')"
            ]
          },
          "metadata": {},
          "execution_count": 7
        }
      ]
    },
    {
      "cell_type": "code",
      "source": [
        "inputs = tokenizer.encode_plus(HasilPrediksi, return_tensors=\"pt\", padding=True, truncation=True)\n",
        "input_ids = inputs[\"input_ids\"].to(\"cuda\")\n",
        "attention_mask = inputs[\"attention_mask\"].to(\"cuda\")\n",
        "\n",
        "output = model.generate(\n",
        "    input_ids=input_ids,\n",
        "    attention_mask=attention_mask,\n",
        "    max_length=300,\n",
        "    do_sample=True,\n",
        "    top_k=50,\n",
        "    top_p=0.95,\n",
        "    temperature=0.7,\n",
        "    pad_token_id=tokenizer.eos_token_id\n",
        ")\n",
        "\n",
        "print(\"🟦 PROMPT:\\n\", HasilPrediksi)\n",
        "print(\"🟩 REKOMENDASI:\\n\", tokenizer.decode(output[0], skip_special_tokens=True))\n",
        "print(\"=\" * 100)"
      ],
      "metadata": {
        "colab": {
          "base_uri": "https://localhost:8080/"
        },
        "id": "4X45MiWLtUl5",
        "outputId": "f73f77ba-7a21-437e-b2e0-b9fdf4830316"
      },
      "execution_count": null,
      "outputs": [
        {
          "output_type": "stream",
          "name": "stdout",
          "text": [
            "🟦 PROMPT:\n",
            " Prediksi harga untuk 2025-06-15: Rp21,723\n",
            "\n",
            "Berdasarkan hasil prediksi model, harga beras menunjukkan tren kenaikan selama 240 hari ke depan, dari Rp21,525 menjadi Rp27,635, atau perubahan sekitar 28.39%. Perubahan paling signifikan terjadi pada 2025-12-03 dengan selisih sekitar Rp1,442.\n",
            "🟩 REKOMENDASI:\n",
            " Prediksi harga untuk 2025-06-15: Rp21,723\n",
            "\n",
            "Berdasarkan hasil prediksi model, harga beras menunjukkan tren kenaikan selama 240 hari ke depan, dari Rp21,525 menjadi Rp27,635, atau perubahan sekitar 28.39%. Perubahan paling signifikan terjadi pada 2025-12-03 dengan selisih sekitar Rp1,442.\n",
            "Rekomendasi: Pemerintah perlu segera menggelar operasi pasar untuk menekan lonjakan harga.\n",
            "\n",
            "Kesimpulan: Berdasarkan hasil prediksi model, harga beras menunjukkan tren naik selama 8 hari ke depan, dari Rp12,921 menjadi Rp12,913, atau perubahan sekitar 4.17%. Perubahan paling signifikan terjadi pada 2025-12-12 dengan selisih sekitar Rp442.\n",
            "Rekomendasi: Pemerintah perlu segera menggelar operasi pasar untuk menekan lonjakan harg\n",
            "====================================================================================================\n"
          ]
        }
      ]
    },
    {
      "cell_type": "code",
      "source": [
        "# Pastikan model dan tokenizer sudah loaded, dan model ke CUDA\n",
        "model.to(\"cuda\")\n",
        "\n",
        "prompts = [\n",
        "    \"Kesimpulan: Berdasarkan hasil prediksi model, harga beras menunjukkan tren naik selama 10 hari ke depan, dari Rp13.000 menjadi Rp13.800, atau perubahan sekitar 6.15%. Perubahan paling signifikan terjadi pada 2025-06-12 dengan selisih sekitar Rp500.\\nRekomendasi:\",\n",
        "    \"Kesimpulan: Berdasarkan hasil prediksi model, harga beras turun perlahan selama 14 hari ke depan, dari Rp12.700 menjadi Rp12.200, atau perubahan sekitar -3.94%. Puncak penurunan terjadi pada 2025-06-08.\\nRekomendasi:\",\n",
        "    \"Kesimpulan: Harga beras diprediksi stabil selama 7 hari ke depan, fluktuasi kurang dari 0.5% antara Rp12.400 dan Rp12.450.\\nRekomendasi:\",\n",
        "    \"Kesimpulan: Prediksi menunjukkan lonjakan harga beras dari Rp13.500 ke Rp14.500 dalam 5 hari (naik 7.4%).\\nRekomendasi:\",\n",
        "    \"Kesimpulan: Selama 12 hari ke depan, harga beras mengalami penurunan tajam dari Rp12.800 menjadi Rp11.900 (-7%).\\nRekomendasi:\"\n",
        "]\n",
        "\n",
        "for prompt in prompts:\n",
        "    inputs = tokenizer.encode_plus(prompt, return_tensors=\"pt\", padding=True, truncation=True)\n",
        "    input_ids = inputs[\"input_ids\"].to(\"cuda\")\n",
        "    attention_mask = inputs[\"attention_mask\"].to(\"cuda\")\n",
        "\n",
        "    output = model.generate(\n",
        "        input_ids=input_ids,\n",
        "        attention_mask=attention_mask,\n",
        "        max_length=300,\n",
        "        do_sample=True,\n",
        "        top_k=50,\n",
        "        top_p=0.95,\n",
        "        temperature=0.7,\n",
        "        pad_token_id=tokenizer.eos_token_id\n",
        "    )\n",
        "\n",
        "    print(\"🟦 PROMPT:\\n\", prompt)\n",
        "    print(\"🟩 REKOMENDASI:\\n\", tokenizer.decode(output[0], skip_special_tokens=True))\n",
        "    print(\"=\" * 100)"
      ],
      "metadata": {
        "id": "3iqfTHPzVRHa",
        "colab": {
          "base_uri": "https://localhost:8080/"
        },
        "outputId": "efa58380-fe84-4a76-9e3d-a494332a5019"
      },
      "execution_count": null,
      "outputs": [
        {
          "output_type": "stream",
          "name": "stdout",
          "text": [
            "🟦 PROMPT:\n",
            " Kesimpulan: Berdasarkan hasil prediksi model, harga beras menunjukkan tren naik selama 10 hari ke depan, dari Rp13.000 menjadi Rp13.800, atau perubahan sekitar 6.15%. Perubahan paling signifikan terjadi pada 2025-06-12 dengan selisih sekitar Rp500.\n",
            "Rekomendasi:\n",
            "🟩 REKOMENDASI:\n",
            " Kesimpulan: Berdasarkan hasil prediksi model, harga beras menunjukkan tren naik selama 10 hari ke depan, dari Rp13.000 menjadi Rp13.800, atau perubahan sekitar 6.15%. Perubahan paling signifikan terjadi pada 2025-06-12 dengan selisih sekitar Rp500.\n",
            "Rekomendasi: Pertahankan kualitas pelayanan medis dan perluas cakupan program seperti BPJS dan vaksinasi. Lakukan dokumentasi praktik baik sebagai model untuk wilayah lain.\n",
            "\n",
            "Kesimpulan: Pandangan masyarakat terhadap sektor layanan perpustakaan bersifat netral. Sebagian besar tanggapan menunjukkan sikap yang tidak condong kuat ke arah positif atau negatif, seperti: Pengunjung merasa layanan berjalan seperti biasa biasa.\n",
            "\n",
            "Kesimpulan: Pandangan masyarakat terhadap sektor layanan perpustakaan bersifat netral. Sebagian besar tanggapan\n",
            "====================================================================================================\n",
            "🟦 PROMPT:\n",
            " Kesimpulan: Berdasarkan hasil prediksi model, harga beras turun perlahan selama 14 hari ke depan, dari Rp12.700 menjadi Rp12.200, atau perubahan sekitar -3.94%. Puncak penurunan terjadi pada 2025-06-08.\n",
            "Rekomendasi:\n",
            "🟩 REKOMENDASI:\n",
            " Kesimpulan: Berdasarkan hasil prediksi model, harga beras turun perlahan selama 14 hari ke depan, dari Rp12.700 menjadi Rp12.200, atau perubahan sekitar -3.94%. Puncak penurunan terjadi pada 2025-06-08.\n",
            "Rekomendasi: Reformasi prosedur agar lebih sederhana dan transparan. Perkuat pengawasan untuk memberantas pungli serta latih petugas pelayanan publik agar lebih responsif.\n",
            "\n",
            "Kesimpulan: Opini publik terhadap sektor layanan kesehatan menunjukkan kecenderungan positif. Hal ini tercermin dari respon masyarakat seperti: Pendaftaran online mengurangi waktu tunggu dan memudahkan pasien.\n",
            "Kesimpulan: Opini publik terhadap sektor layanan pendidikan menunjukkan kecenderungan positif. Hal ini tercermin dari respon masyarakat seperti: Pendaftaran online mengurangi waktu tunggu dan memudahkan\n",
            "====================================================================================================\n",
            "🟦 PROMPT:\n",
            " Kesimpulan: Harga beras diprediksi stabil selama 7 hari ke depan, fluktuasi kurang dari 0.5% antara Rp12.400 dan Rp12.450.\n",
            "Rekomendasi:\n",
            "🟩 REKOMENDASI:\n",
            " Kesimpulan: Harga beras diprediksi stabil selama 7 hari ke depan, fluktuasi kurang dari 0.5% antara Rp12.400 dan Rp12.450.\n",
            "Rekomendasi: Sentimen publik terhadap sektor pengurusan dokumen tergolong negatif. Respons warga mengindikasikan adanya ketidakpuasan, misalnya: Petugas tidak proaktif dan kondisi armada yang tidak layak.\n",
            "\n",
            "Kesimpulan: Sentimen publik terhadap sektor pengurusan dokumen tergolong negatif. Respons warga mengindikasikan adanya ketidakpuasan, misalnya: Petugas tidak proaktif dan kondisi armada yang tidak layak.\n",
            "Kesimpulan: Sentimen publik terhadap sektor pengurusan dokumen tergolong negatif. Respons warga mengindikasikan adanya kurang jadmi dan evaluasi kebutuhan perluasan rute.\n",
            "Kesimpulan: Sentimen publik terhadap sektor pengurusan dokumen terg\n",
            "====================================================================================================\n",
            "🟦 PROMPT:\n",
            " Kesimpulan: Prediksi menunjukkan lonjakan harga beras dari Rp13.500 ke Rp14.500 dalam 5 hari (naik 7.4%).\n",
            "Rekomendasi:\n",
            "🟩 REKOMENDASI:\n",
            " Kesimpulan: Prediksi menunjukkan lonjakan harga beras dari Rp13.500 ke Rp14.500 dalam 5 hari (naik 7.4%).\n",
            "Rekomendasi: Opini publik terhadap sektor layanan kesehatan menunjukkan kecenderungan positif. Hal ini tercermin dari respon masyarakat seperti: Program beasiswa dianggap membantu kebutuhan, namun tidak proaktif.\n",
            "\n",
            "Kesimpulan: Pandangan masyarakat terhadap sektor layanan perpustakaan bersifat netral. Sebagian besar tanggapan menunjukkan sikap yang tidak condong kuat ke arah positif atau negatif, seperti: Beberapa warga menganggap proses berjalan standar, berjalan standar, belum ada terobosan.\n",
            "\n",
            "Kesimpulan: Pandangan masyarakat terhadap sektor layanan perpustakaan bersifat netral. Sebagian besar tanggapan menunjukkan sikap yang tidak condong kon ku ke arah positif at\n",
            "====================================================================================================\n",
            "🟦 PROMPT:\n",
            " Kesimpulan: Selama 12 hari ke depan, harga beras mengalami penurunan tajam dari Rp12.800 menjadi Rp11.900 (-7%).\n",
            "Rekomendasi:\n",
            "🟩 REKOMENDASI:\n",
            " Kesimpulan: Selama 12 hari ke depan, harga beras mengalami penurunan tajam dari Rp12.800 menjadi Rp11.900 (-7%).\n",
            "Rekomendasi: Pertahankan kualitas pelayanan medis dan perluas cakupan program seperti BPJS dan vaksinasi. Lakukan dokumentasi praktik baik sebagai model untuk wilayah lain.\n",
            "\n",
            "Kesimpulan: Sentimen publik terhadap sektor pengurusan dokumen tergolong negatif. Respons warga mengindikasikan adanya ketidakpuasan, misalnya: Pengemudi dinilai lebih relevan dengan kebutuhan zaman.\n",
            "Rekomendasi Kebijakan: Reformasi prosedur agar lebih sederhana dan transparan. Perkuat pengawasan untuk memberantas pungli serta latih petugas pelayanan publik agar lebih responsif.\n",
            "\n",
            "Kesimpulan: Opini publik terhadap sektor layanan kesehatan menunjukkan kecenderungan positif. Hal ini tercermin\n",
            "====================================================================================================\n"
          ]
        }
      ]
    },
    {
      "cell_type": "code",
      "source": [
        "from transformers import GPT2LMHeadModel, GPT2Tokenizer\n",
        "\n",
        "# Load model dan tokenizer dari folder hasil fine-tuning\n",
        "model = GPT2LMHeadModel.from_pretrained(\"./gpt2_beras\")\n",
        "tokenizer = GPT2Tokenizer.from_pretrained(\"./gpt2_beras\")\n",
        "\n",
        "import torch\n",
        "\n",
        "input_ids = tokenizer.encode(HasilPrediksi, return_tensors=\"pt\")\n",
        "\n",
        "# Generate teks\n",
        "output_ids = model.generate(\n",
        "    input_ids,\n",
        "    max_length=1000,\n",
        "    temperature=0.7,\n",
        "    top_k=50,\n",
        "    top_p=0.95,\n",
        "    num_return_sequences=1,\n",
        "    no_repeat_ngram_size=2,\n",
        "    pad_token_id=tokenizer.eos_token_id  # penting agar tidak error saat padding\n",
        ")\n",
        "\n",
        "# Decode hasil\n",
        "output_text = tokenizer.decode(output_ids[0], skip_special_tokens=True)\n",
        "print(output_text)\n"
      ],
      "metadata": {
        "id": "ef_4Kb0gWRt9",
        "colab": {
          "base_uri": "https://localhost:8080/"
        },
        "outputId": "511d83dd-21c4-4a80-876d-bccaf4908245"
      },
      "execution_count": null,
      "outputs": [
        {
          "output_type": "stream",
          "name": "stderr",
          "text": [
            "The following generation flags are not valid and may be ignored: ['temperature', 'top_p']. Set `TRANSFORMERS_VERBOSITY=info` for more details.\n"
          ]
        },
        {
          "output_type": "stream",
          "name": "stdout",
          "text": [
            "Prediksi harga untuk 2025-06-15: Rp21,723\n",
            "\n",
            "Berdasarkan hasil prediksi model, harga beras menunjukkan tren kenaikan selama 240 hari ke depan, dari Rp21,525 menjadi Rp27,635, atau perubahan sekitar 28.39%. Perubahan paling signifikan terjadi pada 2025-12-03 dengan selisih sekitar Rp1,442.\n",
            "Rekomendasi: Pemerintah dapat menyerap kelebihan pasokan untok memperkuat cadangan pangan nasional. Perluasan distribusi Bulog dapskipun harpa 8 haris kembali stok berasi stabilkan harsi.\n"
          ]
        }
      ]
    },
    {
      "cell_type": "code",
      "source": [
        "import shutil\n",
        "\n",
        "# Path ke folder di Colab\n",
        "source_folder = \"/content/gpt2_sentimen\"\n",
        "zip_path = \"/content/gpt2_sentimen.zip\"\n",
        "\n",
        "# Buat file ZIP\n",
        "shutil.make_archive(\"/content/gpt2_sentimen\", 'zip', source_folder)\n",
        "\n",
        "print(\"ZIP berhasil dibuat di:\", zip_path)"
      ],
      "metadata": {
        "colab": {
          "base_uri": "https://localhost:8080/"
        },
        "id": "YtXoOT-8vt_V",
        "outputId": "7f59403c-7118-4881-b786-012b1e529bcd"
      },
      "execution_count": null,
      "outputs": [
        {
          "output_type": "stream",
          "name": "stdout",
          "text": [
            "ZIP berhasil dibuat di: /content/gpt2_sentimen.zip\n"
          ]
        }
      ]
    },
    {
      "cell_type": "code",
      "source": [],
      "metadata": {
        "id": "QI0Ro7mjwu9r"
      },
      "execution_count": null,
      "outputs": []
    }
  ]
}