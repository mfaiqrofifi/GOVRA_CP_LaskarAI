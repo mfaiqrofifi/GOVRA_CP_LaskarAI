{
 "cells": [
  {
   "cell_type": "markdown",
   "id": "3d40c54d-d30b-4212-add9-8a5fdc5fa59b",
   "metadata": {},
   "source": [
    "# Model LLM Untuk Narasi Kebijakan Sampah"
   ]
  },
  {
   "cell_type": "markdown",
   "id": "f76a95ee-2c8d-4eae-9894-34ad1d6cd52e",
   "metadata": {
    "tags": []
   },
   "source": [
    "Alifia Mustika Sari"
   ]
  },
  {
   "cell_type": "markdown",
   "id": "56353297-1f1b-4970-a9d6-15d9399c16f6",
   "metadata": {},
   "source": [
    "## 1. Import Libraries"
   ]
  },
  {
   "cell_type": "code",
   "execution_count": 1,
   "id": "76518b1a-e015-41ac-ac4e-f74698535cde",
   "metadata": {
    "tags": []
   },
   "outputs": [
    {
     "name": "stderr",
     "output_type": "stream",
     "text": [
      "2025-06-09 16:42:36.900239: E external/local_xla/xla/stream_executor/cuda/cuda_fft.cc:467] Unable to register cuFFT factory: Attempting to register factory for plugin cuFFT when one has already been registered\n",
      "WARNING: All log messages before absl::InitializeLog() is called are written to STDERR\n",
      "E0000 00:00:1749487357.241261   25534 cuda_dnn.cc:8579] Unable to register cuDNN factory: Attempting to register factory for plugin cuDNN when one has already been registered\n",
      "E0000 00:00:1749487357.339151   25534 cuda_blas.cc:1407] Unable to register cuBLAS factory: Attempting to register factory for plugin cuBLAS when one has already been registered\n",
      "W0000 00:00:1749487358.193109   25534 computation_placer.cc:177] computation placer already registered. Please check linkage and avoid linking the same target more than once.\n",
      "W0000 00:00:1749487358.193153   25534 computation_placer.cc:177] computation placer already registered. Please check linkage and avoid linking the same target more than once.\n",
      "W0000 00:00:1749487358.193156   25534 computation_placer.cc:177] computation placer already registered. Please check linkage and avoid linking the same target more than once.\n",
      "W0000 00:00:1749487358.193158   25534 computation_placer.cc:177] computation placer already registered. Please check linkage and avoid linking the same target more than once.\n",
      "2025-06-09 16:42:38.286087: I tensorflow/core/platform/cpu_feature_guard.cc:210] This TensorFlow binary is optimized to use available CPU instructions in performance-critical operations.\n",
      "To enable the following instructions: AVX2 FMA, in other operations, rebuild TensorFlow with the appropriate compiler flags.\n"
     ]
    }
   ],
   "source": [
    "import torch\n",
    "import accelerate\n",
    "import os\n",
    "import pandas as pd\n",
    "\n",
    "from transformers import (\n",
    "    GPT2LMHeadModel,\n",
    "    GPT2Tokenizer,\n",
    "    TextDataset,\n",
    "    DataCollatorForLanguageModeling,\n",
    "    Trainer,\n",
    "    TrainingArguments,\n",
    ")\n",
    "from transformers import AutoTokenizer, AutoModelForCausalLM"
   ]
  },
  {
   "cell_type": "markdown",
   "id": "e069bd0b-e5c6-4660-b21c-73b71c87852a",
   "metadata": {
    "tags": []
   },
   "source": [
    "## 2. Setup Environment"
   ]
  },
  {
   "cell_type": "code",
   "execution_count": 1,
   "id": "3d136b33-d510-4c5b-bf7e-52ed8e1394a2",
   "metadata": {
    "tags": []
   },
   "outputs": [
    {
     "name": "stdout",
     "output_type": "stream",
     "text": [
      "Collecting transformers\n",
      "  Downloading transformers-4.52.4-py3-none-any.whl.metadata (38 kB)\n",
      "Collecting datasets\n",
      "  Downloading datasets-3.6.0-py3-none-any.whl.metadata (19 kB)\n",
      "Requirement already satisfied: filelock in /opt/conda/lib/python3.10/site-packages (from transformers) (3.18.0)\n",
      "Collecting huggingface-hub<1.0,>=0.30.0 (from transformers)\n",
      "  Downloading huggingface_hub-0.32.4-py3-none-any.whl.metadata (14 kB)\n",
      "Requirement already satisfied: numpy>=1.17 in /opt/conda/lib/python3.10/site-packages (from transformers) (2.1.3)\n",
      "Requirement already satisfied: packaging>=20.0 in /opt/conda/lib/python3.10/site-packages (from transformers) (25.0)\n",
      "Requirement already satisfied: pyyaml>=5.1 in /opt/conda/lib/python3.10/site-packages (from transformers) (6.0.2)\n",
      "Collecting regex!=2019.12.17 (from transformers)\n",
      "  Downloading regex-2024.11.6-cp310-cp310-manylinux_2_17_x86_64.manylinux2014_x86_64.whl.metadata (40 kB)\n",
      "Requirement already satisfied: requests in /opt/conda/lib/python3.10/site-packages (from transformers) (2.32.3)\n",
      "Collecting tokenizers<0.22,>=0.21 (from transformers)\n",
      "  Downloading tokenizers-0.21.1-cp39-abi3-manylinux_2_17_x86_64.manylinux2014_x86_64.whl.metadata (6.8 kB)\n",
      "Collecting safetensors>=0.4.3 (from transformers)\n",
      "  Downloading safetensors-0.5.3-cp38-abi3-manylinux_2_17_x86_64.manylinux2014_x86_64.whl.metadata (3.8 kB)\n",
      "Requirement already satisfied: tqdm>=4.27 in /opt/conda/lib/python3.10/site-packages (from transformers) (4.67.1)\n",
      "Requirement already satisfied: pyarrow>=15.0.0 in /opt/conda/lib/python3.10/site-packages (from datasets) (19.0.1)\n",
      "Collecting dill<0.3.9,>=0.3.0 (from datasets)\n",
      "  Downloading dill-0.3.8-py3-none-any.whl.metadata (10 kB)\n",
      "Requirement already satisfied: pandas in /opt/conda/lib/python3.10/site-packages (from datasets) (2.2.3)\n",
      "Collecting xxhash (from datasets)\n",
      "  Downloading xxhash-3.5.0-cp310-cp310-manylinux_2_17_x86_64.manylinux2014_x86_64.whl.metadata (12 kB)\n",
      "Collecting multiprocess<0.70.17 (from datasets)\n",
      "  Downloading multiprocess-0.70.16-py310-none-any.whl.metadata (7.2 kB)\n",
      "Requirement already satisfied: fsspec<=2025.3.0,>=2023.1.0 in /opt/conda/lib/python3.10/site-packages (from fsspec[http]<=2025.3.0,>=2023.1.0->datasets) (2025.3.0)\n",
      "Requirement already satisfied: aiohttp!=4.0.0a0,!=4.0.0a1 in /opt/conda/lib/python3.10/site-packages (from fsspec[http]<=2025.3.0,>=2023.1.0->datasets) (3.11.14)\n",
      "Requirement already satisfied: typing-extensions>=3.7.4.3 in /opt/conda/lib/python3.10/site-packages (from huggingface-hub<1.0,>=0.30.0->transformers) (4.13.0)\n",
      "Collecting hf-xet<2.0.0,>=1.1.2 (from huggingface-hub<1.0,>=0.30.0->transformers)\n",
      "  Downloading hf_xet-1.1.3-cp37-abi3-manylinux_2_17_x86_64.manylinux2014_x86_64.whl.metadata (879 bytes)\n",
      "Requirement already satisfied: charset_normalizer<4,>=2 in /opt/conda/lib/python3.10/site-packages (from requests->transformers) (3.4.1)\n",
      "Requirement already satisfied: idna<4,>=2.5 in /opt/conda/lib/python3.10/site-packages (from requests->transformers) (3.10)\n",
      "Requirement already satisfied: urllib3<3,>=1.21.1 in /opt/conda/lib/python3.10/site-packages (from requests->transformers) (1.26.20)\n",
      "Requirement already satisfied: certifi>=2017.4.17 in /opt/conda/lib/python3.10/site-packages (from requests->transformers) (2025.1.31)\n",
      "Requirement already satisfied: python-dateutil>=2.8.2 in /opt/conda/lib/python3.10/site-packages (from pandas->datasets) (2.9.0.post0)\n",
      "Requirement already satisfied: pytz>=2020.1 in /opt/conda/lib/python3.10/site-packages (from pandas->datasets) (2025.2)\n",
      "Requirement already satisfied: tzdata>=2022.7 in /opt/conda/lib/python3.10/site-packages (from pandas->datasets) (2025.2)\n",
      "Requirement already satisfied: aiohappyeyeballs>=2.3.0 in /opt/conda/lib/python3.10/site-packages (from aiohttp!=4.0.0a0,!=4.0.0a1->fsspec[http]<=2025.3.0,>=2023.1.0->datasets) (2.6.1)\n",
      "Requirement already satisfied: aiosignal>=1.1.2 in /opt/conda/lib/python3.10/site-packages (from aiohttp!=4.0.0a0,!=4.0.0a1->fsspec[http]<=2025.3.0,>=2023.1.0->datasets) (1.3.2)\n",
      "Requirement already satisfied: async-timeout<6.0,>=4.0 in /opt/conda/lib/python3.10/site-packages (from aiohttp!=4.0.0a0,!=4.0.0a1->fsspec[http]<=2025.3.0,>=2023.1.0->datasets) (5.0.1)\n",
      "Requirement already satisfied: attrs>=17.3.0 in /opt/conda/lib/python3.10/site-packages (from aiohttp!=4.0.0a0,!=4.0.0a1->fsspec[http]<=2025.3.0,>=2023.1.0->datasets) (25.3.0)\n",
      "Requirement already satisfied: frozenlist>=1.1.1 in /opt/conda/lib/python3.10/site-packages (from aiohttp!=4.0.0a0,!=4.0.0a1->fsspec[http]<=2025.3.0,>=2023.1.0->datasets) (1.5.0)\n",
      "Requirement already satisfied: multidict<7.0,>=4.5 in /opt/conda/lib/python3.10/site-packages (from aiohttp!=4.0.0a0,!=4.0.0a1->fsspec[http]<=2025.3.0,>=2023.1.0->datasets) (6.2.0)\n",
      "Requirement already satisfied: propcache>=0.2.0 in /opt/conda/lib/python3.10/site-packages (from aiohttp!=4.0.0a0,!=4.0.0a1->fsspec[http]<=2025.3.0,>=2023.1.0->datasets) (0.3.1)\n",
      "Requirement already satisfied: yarl<2.0,>=1.17.0 in /opt/conda/lib/python3.10/site-packages (from aiohttp!=4.0.0a0,!=4.0.0a1->fsspec[http]<=2025.3.0,>=2023.1.0->datasets) (1.18.3)\n",
      "Requirement already satisfied: six>=1.5 in /opt/conda/lib/python3.10/site-packages (from python-dateutil>=2.8.2->pandas->datasets) (1.17.0)\n",
      "Downloading transformers-4.52.4-py3-none-any.whl (10.5 MB)\n",
      "\u001b[2K   \u001b[90m━━━━━━━━━━━━━━━━━━━━━━━━━━━━━━━━━━━━━━━━\u001b[0m \u001b[32m10.5/10.5 MB\u001b[0m \u001b[31m82.4 MB/s\u001b[0m eta \u001b[36m0:00:00\u001b[0m\n",
      "\u001b[?25hDownloading datasets-3.6.0-py3-none-any.whl (491 kB)\n",
      "Downloading dill-0.3.8-py3-none-any.whl (116 kB)\n",
      "Downloading huggingface_hub-0.32.4-py3-none-any.whl (512 kB)\n",
      "Downloading multiprocess-0.70.16-py310-none-any.whl (134 kB)\n",
      "Downloading regex-2024.11.6-cp310-cp310-manylinux_2_17_x86_64.manylinux2014_x86_64.whl (781 kB)\n",
      "\u001b[2K   \u001b[90m━━━━━━━━━━━━━━━━━━━━━━━━━━━━━━━━━━━━━━━━\u001b[0m \u001b[32m781.7/781.7 kB\u001b[0m \u001b[31m30.7 MB/s\u001b[0m eta \u001b[36m0:00:00\u001b[0m\n",
      "\u001b[?25hDownloading safetensors-0.5.3-cp38-abi3-manylinux_2_17_x86_64.manylinux2014_x86_64.whl (471 kB)\n",
      "Downloading tokenizers-0.21.1-cp39-abi3-manylinux_2_17_x86_64.manylinux2014_x86_64.whl (3.0 MB)\n",
      "\u001b[2K   \u001b[90m━━━━━━━━━━━━━━━━━━━━━━━━━━━━━━━━━━━━━━━━\u001b[0m \u001b[32m3.0/3.0 MB\u001b[0m \u001b[31m97.3 MB/s\u001b[0m eta \u001b[36m0:00:00\u001b[0m\n",
      "\u001b[?25hDownloading xxhash-3.5.0-cp310-cp310-manylinux_2_17_x86_64.manylinux2014_x86_64.whl (194 kB)\n",
      "Downloading hf_xet-1.1.3-cp37-abi3-manylinux_2_17_x86_64.manylinux2014_x86_64.whl (4.8 MB)\n",
      "\u001b[2K   \u001b[90m━━━━━━━━━━━━━━━━━━━━━━━━━━━━━━━━━━━━━━━━\u001b[0m \u001b[32m4.8/4.8 MB\u001b[0m \u001b[31m110.1 MB/s\u001b[0m eta \u001b[36m0:00:00\u001b[0m\n",
      "\u001b[?25hInstalling collected packages: xxhash, safetensors, regex, hf-xet, dill, multiprocess, huggingface-hub, tokenizers, transformers, datasets\n",
      "Successfully installed datasets-3.6.0 dill-0.3.8 hf-xet-1.1.3 huggingface-hub-0.32.4 multiprocess-0.70.16 regex-2024.11.6 safetensors-0.5.3 tokenizers-0.21.1 transformers-4.52.4 xxhash-3.5.0\n"
     ]
    }
   ],
   "source": [
    "!pip install transformers datasets"
   ]
  },
  {
   "cell_type": "code",
   "execution_count": 4,
   "id": "d31671fc-9393-4326-b6a2-d7748ae8dfd6",
   "metadata": {
    "tags": []
   },
   "outputs": [
    {
     "name": "stdout",
     "output_type": "stream",
     "text": [
      "Collecting torch\n",
      "  Downloading torch-2.7.1-cp310-cp310-manylinux_2_28_x86_64.whl.metadata (29 kB)\n",
      "Requirement already satisfied: filelock in /opt/conda/lib/python3.10/site-packages (from torch) (3.18.0)\n",
      "Requirement already satisfied: typing-extensions>=4.10.0 in /opt/conda/lib/python3.10/site-packages (from torch) (4.13.0)\n",
      "Collecting sympy>=1.13.3 (from torch)\n",
      "  Downloading sympy-1.14.0-py3-none-any.whl.metadata (12 kB)\n",
      "Requirement already satisfied: networkx in /opt/conda/lib/python3.10/site-packages (from torch) (3.4.2)\n",
      "Requirement already satisfied: jinja2 in /opt/conda/lib/python3.10/site-packages (from torch) (3.1.6)\n",
      "Requirement already satisfied: fsspec in /opt/conda/lib/python3.10/site-packages (from torch) (2025.3.0)\n",
      "Collecting nvidia-cuda-nvrtc-cu12==12.6.77 (from torch)\n",
      "  Downloading nvidia_cuda_nvrtc_cu12-12.6.77-py3-none-manylinux2014_x86_64.whl.metadata (1.5 kB)\n",
      "Collecting nvidia-cuda-runtime-cu12==12.6.77 (from torch)\n",
      "  Downloading nvidia_cuda_runtime_cu12-12.6.77-py3-none-manylinux2014_x86_64.manylinux_2_17_x86_64.whl.metadata (1.5 kB)\n",
      "Collecting nvidia-cuda-cupti-cu12==12.6.80 (from torch)\n",
      "  Downloading nvidia_cuda_cupti_cu12-12.6.80-py3-none-manylinux2014_x86_64.manylinux_2_17_x86_64.whl.metadata (1.6 kB)\n",
      "Collecting nvidia-cudnn-cu12==9.5.1.17 (from torch)\n",
      "  Downloading nvidia_cudnn_cu12-9.5.1.17-py3-none-manylinux_2_28_x86_64.whl.metadata (1.6 kB)\n",
      "Collecting nvidia-cublas-cu12==12.6.4.1 (from torch)\n",
      "  Downloading nvidia_cublas_cu12-12.6.4.1-py3-none-manylinux2014_x86_64.manylinux_2_17_x86_64.whl.metadata (1.5 kB)\n",
      "Collecting nvidia-cufft-cu12==11.3.0.4 (from torch)\n",
      "  Downloading nvidia_cufft_cu12-11.3.0.4-py3-none-manylinux2014_x86_64.manylinux_2_17_x86_64.whl.metadata (1.5 kB)\n",
      "Collecting nvidia-curand-cu12==10.3.7.77 (from torch)\n",
      "  Downloading nvidia_curand_cu12-10.3.7.77-py3-none-manylinux2014_x86_64.manylinux_2_17_x86_64.whl.metadata (1.5 kB)\n",
      "Collecting nvidia-cusolver-cu12==11.7.1.2 (from torch)\n",
      "  Downloading nvidia_cusolver_cu12-11.7.1.2-py3-none-manylinux2014_x86_64.manylinux_2_17_x86_64.whl.metadata (1.6 kB)\n",
      "Collecting nvidia-cusparse-cu12==12.5.4.2 (from torch)\n",
      "  Downloading nvidia_cusparse_cu12-12.5.4.2-py3-none-manylinux2014_x86_64.manylinux_2_17_x86_64.whl.metadata (1.6 kB)\n",
      "Collecting nvidia-cusparselt-cu12==0.6.3 (from torch)\n",
      "  Downloading nvidia_cusparselt_cu12-0.6.3-py3-none-manylinux2014_x86_64.whl.metadata (6.8 kB)\n",
      "Collecting nvidia-nccl-cu12==2.26.2 (from torch)\n",
      "  Downloading nvidia_nccl_cu12-2.26.2-py3-none-manylinux2014_x86_64.manylinux_2_17_x86_64.whl.metadata (2.0 kB)\n",
      "Collecting nvidia-nvtx-cu12==12.6.77 (from torch)\n",
      "  Downloading nvidia_nvtx_cu12-12.6.77-py3-none-manylinux2014_x86_64.manylinux_2_17_x86_64.whl.metadata (1.6 kB)\n",
      "Collecting nvidia-nvjitlink-cu12==12.6.85 (from torch)\n",
      "  Downloading nvidia_nvjitlink_cu12-12.6.85-py3-none-manylinux2010_x86_64.manylinux_2_12_x86_64.whl.metadata (1.5 kB)\n",
      "Collecting nvidia-cufile-cu12==1.11.1.6 (from torch)\n",
      "  Downloading nvidia_cufile_cu12-1.11.1.6-py3-none-manylinux2014_x86_64.manylinux_2_17_x86_64.whl.metadata (1.5 kB)\n",
      "Collecting triton==3.3.1 (from torch)\n",
      "  Downloading triton-3.3.1-cp310-cp310-manylinux_2_27_x86_64.manylinux_2_28_x86_64.whl.metadata (1.5 kB)\n",
      "Requirement already satisfied: setuptools>=40.8.0 in /opt/conda/lib/python3.10/site-packages (from triton==3.3.1->torch) (75.8.2)\n",
      "Collecting mpmath<1.4,>=1.1.0 (from sympy>=1.13.3->torch)\n",
      "  Downloading mpmath-1.3.0-py3-none-any.whl.metadata (8.6 kB)\n",
      "Requirement already satisfied: MarkupSafe>=2.0 in /opt/conda/lib/python3.10/site-packages (from jinja2->torch) (3.0.2)\n",
      "Downloading torch-2.7.1-cp310-cp310-manylinux_2_28_x86_64.whl (821.2 MB)\n",
      "\u001b[2K   \u001b[90m━━━━━━━━━━━━━━━━━━━━━━━━━━━━━━━━━━━━━━━━\u001b[0m \u001b[32m821.2/821.2 MB\u001b[0m \u001b[31m48.2 MB/s\u001b[0m eta \u001b[36m0:00:00\u001b[0m00:01\u001b[0m00:01\u001b[0m\n",
      "\u001b[?25hDownloading nvidia_cublas_cu12-12.6.4.1-py3-none-manylinux2014_x86_64.manylinux_2_17_x86_64.whl (393.1 MB)\n",
      "\u001b[2K   \u001b[90m━━━━━━━━━━━━━━━━━━━━━━━━━━━━━━━━━━━━━━━━\u001b[0m \u001b[32m393.1/393.1 MB\u001b[0m \u001b[31m41.9 MB/s\u001b[0m eta \u001b[36m0:00:00\u001b[0m00:01\u001b[0m00:01\u001b[0m\n",
      "\u001b[?25hDownloading nvidia_cuda_cupti_cu12-12.6.80-py3-none-manylinux2014_x86_64.manylinux_2_17_x86_64.whl (8.9 MB)\n",
      "\u001b[2K   \u001b[90m━━━━━━━━━━━━━━━━━━━━━━━━━━━━━━━━━━━━━━━━\u001b[0m \u001b[32m8.9/8.9 MB\u001b[0m \u001b[31m31.1 MB/s\u001b[0m eta \u001b[36m0:00:00\u001b[0m:00:01\u001b[0m\n",
      "\u001b[?25hDownloading nvidia_cuda_nvrtc_cu12-12.6.77-py3-none-manylinux2014_x86_64.whl (23.7 MB)\n",
      "\u001b[2K   \u001b[90m━━━━━━━━━━━━━━━━━━━━━━━━━━━━━━━━━━━━━━━━\u001b[0m \u001b[32m23.7/23.7 MB\u001b[0m \u001b[31m74.7 MB/s\u001b[0m eta \u001b[36m0:00:00\u001b[0m:00:01\u001b[0m\n",
      "\u001b[?25hDownloading nvidia_cuda_runtime_cu12-12.6.77-py3-none-manylinux2014_x86_64.manylinux_2_17_x86_64.whl (897 kB)\n",
      "\u001b[2K   \u001b[90m━━━━━━━━━━━━━━━━━━━━━━━━━━━━━━━━━━━━━━━━\u001b[0m \u001b[32m897.7/897.7 kB\u001b[0m \u001b[31m24.2 MB/s\u001b[0m eta \u001b[36m0:00:00\u001b[0m\n",
      "\u001b[?25hDownloading nvidia_cudnn_cu12-9.5.1.17-py3-none-manylinux_2_28_x86_64.whl (571.0 MB)\n",
      "\u001b[2K   \u001b[90m━━━━━━━━━━━━━━━━━━━━━━━━━━━━━━━━━━━━━━━━\u001b[0m \u001b[32m571.0/571.0 MB\u001b[0m \u001b[31m34.9 MB/s\u001b[0m eta \u001b[36m0:00:00\u001b[0m00:01\u001b[0m00:01\u001b[0m\n",
      "\u001b[?25hDownloading nvidia_cufft_cu12-11.3.0.4-py3-none-manylinux2014_x86_64.manylinux_2_17_x86_64.whl (200.2 MB)\n",
      "\u001b[2K   \u001b[90m━━━━━━━━━━━━━━━━━━━━━━━━━━━━━━━━━━━━━━━━\u001b[0m \u001b[32m200.2/200.2 MB\u001b[0m \u001b[31m61.8 MB/s\u001b[0m eta \u001b[36m0:00:00\u001b[0m00:01\u001b[0m00:01\u001b[0m\n",
      "\u001b[?25hDownloading nvidia_cufile_cu12-1.11.1.6-py3-none-manylinux2014_x86_64.manylinux_2_17_x86_64.whl (1.1 MB)\n",
      "\u001b[2K   \u001b[90m━━━━━━━━━━━━━━━━━━━━━━━━━━━━━━━━━━━━━━━━\u001b[0m \u001b[32m1.1/1.1 MB\u001b[0m \u001b[31m33.5 MB/s\u001b[0m eta \u001b[36m0:00:00\u001b[0m\n",
      "\u001b[?25hDownloading nvidia_curand_cu12-10.3.7.77-py3-none-manylinux2014_x86_64.manylinux_2_17_x86_64.whl (56.3 MB)\n",
      "\u001b[2K   \u001b[90m━━━━━━━━━━━━━━━━━━━━━━━━━━━━━━━━━━━━━━━━\u001b[0m \u001b[32m56.3/56.3 MB\u001b[0m \u001b[31m65.8 MB/s\u001b[0m eta \u001b[36m0:00:00\u001b[0m:00:01\u001b[0m00:01\u001b[0m\n",
      "\u001b[?25hDownloading nvidia_cusolver_cu12-11.7.1.2-py3-none-manylinux2014_x86_64.manylinux_2_17_x86_64.whl (158.2 MB)\n",
      "\u001b[2K   \u001b[90m━━━━━━━━━━━━━━━━━━━━━━━━━━━━━━━━━━━━━━━━\u001b[0m \u001b[32m158.2/158.2 MB\u001b[0m \u001b[31m48.1 MB/s\u001b[0m eta \u001b[36m0:00:00\u001b[0m00:01\u001b[0m00:01\u001b[0m\n",
      "\u001b[?25hDownloading nvidia_cusparse_cu12-12.5.4.2-py3-none-manylinux2014_x86_64.manylinux_2_17_x86_64.whl (216.6 MB)\n",
      "\u001b[2K   \u001b[90m━━━━━━━━━━━━━━━━━━━━━━━━━━━━━━━━━━━━━━━━\u001b[0m \u001b[32m216.6/216.6 MB\u001b[0m \u001b[31m36.5 MB/s\u001b[0m eta \u001b[36m0:00:00\u001b[0m00:01\u001b[0m00:01\u001b[0m\n",
      "\u001b[?25hDownloading nvidia_cusparselt_cu12-0.6.3-py3-none-manylinux2014_x86_64.whl (156.8 MB)\n",
      "\u001b[2K   \u001b[90m━━━━━━━━━━━━━━━━━━━━━━━━━━━━━━━━━━━━━━━━\u001b[0m \u001b[32m156.8/156.8 MB\u001b[0m \u001b[31m37.9 MB/s\u001b[0m eta \u001b[36m0:00:00\u001b[0m00:01\u001b[0m00:01\u001b[0m\n",
      "\u001b[?25hDownloading nvidia_nccl_cu12-2.26.2-py3-none-manylinux2014_x86_64.manylinux_2_17_x86_64.whl (201.3 MB)\n",
      "\u001b[2K   \u001b[90m━━━━━━━━━━━━━━━━━━━━━━━━━━━━━━━━━━━━━━━━\u001b[0m \u001b[32m201.3/201.3 MB\u001b[0m \u001b[31m51.1 MB/s\u001b[0m eta \u001b[36m0:00:00\u001b[0m00:01\u001b[0m00:01\u001b[0m\n",
      "\u001b[?25hDownloading nvidia_nvjitlink_cu12-12.6.85-py3-none-manylinux2010_x86_64.manylinux_2_12_x86_64.whl (19.7 MB)\n",
      "\u001b[2K   \u001b[90m━━━━━━━━━━━━━━━━━━━━━━━━━━━━━━━━━━━━━━━━\u001b[0m \u001b[32m19.7/19.7 MB\u001b[0m \u001b[31m61.2 MB/s\u001b[0m eta \u001b[36m0:00:00\u001b[0ma \u001b[36m0:00:01\u001b[0m\n",
      "\u001b[?25hDownloading nvidia_nvtx_cu12-12.6.77-py3-none-manylinux2014_x86_64.manylinux_2_17_x86_64.whl (89 kB)\n",
      "Downloading triton-3.3.1-cp310-cp310-manylinux_2_27_x86_64.manylinux_2_28_x86_64.whl (155.6 MB)\n",
      "\u001b[2K   \u001b[90m━━━━━━━━━━━━━━━━━━━━━━━━━━━━━━━━━━━━━━━━\u001b[0m \u001b[32m155.6/155.6 MB\u001b[0m \u001b[31m47.6 MB/s\u001b[0m eta \u001b[36m0:00:00\u001b[0m00:01\u001b[0m00:01\u001b[0m\n",
      "\u001b[?25hDownloading sympy-1.14.0-py3-none-any.whl (6.3 MB)\n",
      "\u001b[2K   \u001b[90m━━━━━━━━━━━━━━━━━━━━━━━━━━━━━━━━━━━━━━━━\u001b[0m \u001b[32m6.3/6.3 MB\u001b[0m \u001b[31m29.6 MB/s\u001b[0m eta \u001b[36m0:00:00\u001b[0m:00:01\u001b[0m\n",
      "\u001b[?25hDownloading mpmath-1.3.0-py3-none-any.whl (536 kB)\n",
      "\u001b[2K   \u001b[90m━━━━━━━━━━━━━━━━━━━━━━━━━━━━━━━━━━━━━━━━\u001b[0m \u001b[32m536.2/536.2 kB\u001b[0m \u001b[31m10.4 MB/s\u001b[0m eta \u001b[36m0:00:00\u001b[0m\n",
      "\u001b[?25hInstalling collected packages: nvidia-cusparselt-cu12, mpmath, triton, sympy, nvidia-nvtx-cu12, nvidia-nvjitlink-cu12, nvidia-nccl-cu12, nvidia-curand-cu12, nvidia-cufile-cu12, nvidia-cuda-runtime-cu12, nvidia-cuda-nvrtc-cu12, nvidia-cuda-cupti-cu12, nvidia-cublas-cu12, nvidia-cusparse-cu12, nvidia-cufft-cu12, nvidia-cudnn-cu12, nvidia-cusolver-cu12, torch\n",
      "Successfully installed mpmath-1.3.0 nvidia-cublas-cu12-12.6.4.1 nvidia-cuda-cupti-cu12-12.6.80 nvidia-cuda-nvrtc-cu12-12.6.77 nvidia-cuda-runtime-cu12-12.6.77 nvidia-cudnn-cu12-9.5.1.17 nvidia-cufft-cu12-11.3.0.4 nvidia-cufile-cu12-1.11.1.6 nvidia-curand-cu12-10.3.7.77 nvidia-cusolver-cu12-11.7.1.2 nvidia-cusparse-cu12-12.5.4.2 nvidia-cusparselt-cu12-0.6.3 nvidia-nccl-cu12-2.26.2 nvidia-nvjitlink-cu12-12.6.85 nvidia-nvtx-cu12-12.6.77 sympy-1.14.0 torch-2.7.1 triton-3.3.1\n"
     ]
    }
   ],
   "source": [
    "!pip install torch"
   ]
  },
  {
   "cell_type": "code",
   "execution_count": 4,
   "id": "207f3064-514d-481d-aba4-cb19ba627779",
   "metadata": {
    "tags": []
   },
   "outputs": [
    {
     "name": "stdout",
     "output_type": "stream",
     "text": [
      "Collecting accelerate>=0.26.0\n",
      "  Downloading accelerate-1.7.0-py3-none-any.whl.metadata (19 kB)\n",
      "Requirement already satisfied: numpy<3.0.0,>=1.17 in /opt/conda/lib/python3.10/site-packages (from accelerate>=0.26.0) (2.1.3)\n",
      "Requirement already satisfied: packaging>=20.0 in /opt/conda/lib/python3.10/site-packages (from accelerate>=0.26.0) (25.0)\n",
      "Requirement already satisfied: psutil in /opt/conda/lib/python3.10/site-packages (from accelerate>=0.26.0) (5.9.3)\n",
      "Requirement already satisfied: pyyaml in /opt/conda/lib/python3.10/site-packages (from accelerate>=0.26.0) (6.0.2)\n",
      "Requirement already satisfied: torch>=2.0.0 in /opt/conda/lib/python3.10/site-packages (from accelerate>=0.26.0) (2.7.1)\n",
      "Requirement already satisfied: huggingface-hub>=0.21.0 in /opt/conda/lib/python3.10/site-packages (from accelerate>=0.26.0) (0.32.4)\n",
      "Requirement already satisfied: safetensors>=0.4.3 in /opt/conda/lib/python3.10/site-packages (from accelerate>=0.26.0) (0.5.3)\n",
      "Requirement already satisfied: filelock in /opt/conda/lib/python3.10/site-packages (from huggingface-hub>=0.21.0->accelerate>=0.26.0) (3.18.0)\n",
      "Requirement already satisfied: fsspec>=2023.5.0 in /opt/conda/lib/python3.10/site-packages (from huggingface-hub>=0.21.0->accelerate>=0.26.0) (2025.3.0)\n",
      "Requirement already satisfied: requests in /opt/conda/lib/python3.10/site-packages (from huggingface-hub>=0.21.0->accelerate>=0.26.0) (2.32.3)\n",
      "Requirement already satisfied: tqdm>=4.42.1 in /opt/conda/lib/python3.10/site-packages (from huggingface-hub>=0.21.0->accelerate>=0.26.0) (4.67.1)\n",
      "Requirement already satisfied: typing-extensions>=3.7.4.3 in /opt/conda/lib/python3.10/site-packages (from huggingface-hub>=0.21.0->accelerate>=0.26.0) (4.13.0)\n",
      "Requirement already satisfied: hf-xet<2.0.0,>=1.1.2 in /opt/conda/lib/python3.10/site-packages (from huggingface-hub>=0.21.0->accelerate>=0.26.0) (1.1.3)\n",
      "Requirement already satisfied: sympy>=1.13.3 in /opt/conda/lib/python3.10/site-packages (from torch>=2.0.0->accelerate>=0.26.0) (1.14.0)\n",
      "Requirement already satisfied: networkx in /opt/conda/lib/python3.10/site-packages (from torch>=2.0.0->accelerate>=0.26.0) (3.4.2)\n",
      "Requirement already satisfied: jinja2 in /opt/conda/lib/python3.10/site-packages (from torch>=2.0.0->accelerate>=0.26.0) (3.1.6)\n",
      "Requirement already satisfied: nvidia-cuda-nvrtc-cu12==12.6.77 in /opt/conda/lib/python3.10/site-packages (from torch>=2.0.0->accelerate>=0.26.0) (12.6.77)\n",
      "Requirement already satisfied: nvidia-cuda-runtime-cu12==12.6.77 in /opt/conda/lib/python3.10/site-packages (from torch>=2.0.0->accelerate>=0.26.0) (12.6.77)\n",
      "Requirement already satisfied: nvidia-cuda-cupti-cu12==12.6.80 in /opt/conda/lib/python3.10/site-packages (from torch>=2.0.0->accelerate>=0.26.0) (12.6.80)\n",
      "Requirement already satisfied: nvidia-cudnn-cu12==9.5.1.17 in /opt/conda/lib/python3.10/site-packages (from torch>=2.0.0->accelerate>=0.26.0) (9.5.1.17)\n",
      "Requirement already satisfied: nvidia-cublas-cu12==12.6.4.1 in /opt/conda/lib/python3.10/site-packages (from torch>=2.0.0->accelerate>=0.26.0) (12.6.4.1)\n",
      "Requirement already satisfied: nvidia-cufft-cu12==11.3.0.4 in /opt/conda/lib/python3.10/site-packages (from torch>=2.0.0->accelerate>=0.26.0) (11.3.0.4)\n",
      "Requirement already satisfied: nvidia-curand-cu12==10.3.7.77 in /opt/conda/lib/python3.10/site-packages (from torch>=2.0.0->accelerate>=0.26.0) (10.3.7.77)\n",
      "Requirement already satisfied: nvidia-cusolver-cu12==11.7.1.2 in /opt/conda/lib/python3.10/site-packages (from torch>=2.0.0->accelerate>=0.26.0) (11.7.1.2)\n",
      "Requirement already satisfied: nvidia-cusparse-cu12==12.5.4.2 in /opt/conda/lib/python3.10/site-packages (from torch>=2.0.0->accelerate>=0.26.0) (12.5.4.2)\n",
      "Requirement already satisfied: nvidia-cusparselt-cu12==0.6.3 in /opt/conda/lib/python3.10/site-packages (from torch>=2.0.0->accelerate>=0.26.0) (0.6.3)\n",
      "Requirement already satisfied: nvidia-nccl-cu12==2.26.2 in /opt/conda/lib/python3.10/site-packages (from torch>=2.0.0->accelerate>=0.26.0) (2.26.2)\n",
      "Requirement already satisfied: nvidia-nvtx-cu12==12.6.77 in /opt/conda/lib/python3.10/site-packages (from torch>=2.0.0->accelerate>=0.26.0) (12.6.77)\n",
      "Requirement already satisfied: nvidia-nvjitlink-cu12==12.6.85 in /opt/conda/lib/python3.10/site-packages (from torch>=2.0.0->accelerate>=0.26.0) (12.6.85)\n",
      "Requirement already satisfied: nvidia-cufile-cu12==1.11.1.6 in /opt/conda/lib/python3.10/site-packages (from torch>=2.0.0->accelerate>=0.26.0) (1.11.1.6)\n",
      "Requirement already satisfied: triton==3.3.1 in /opt/conda/lib/python3.10/site-packages (from torch>=2.0.0->accelerate>=0.26.0) (3.3.1)\n",
      "Requirement already satisfied: setuptools>=40.8.0 in /opt/conda/lib/python3.10/site-packages (from triton==3.3.1->torch>=2.0.0->accelerate>=0.26.0) (75.8.2)\n",
      "Requirement already satisfied: mpmath<1.4,>=1.1.0 in /opt/conda/lib/python3.10/site-packages (from sympy>=1.13.3->torch>=2.0.0->accelerate>=0.26.0) (1.3.0)\n",
      "Requirement already satisfied: MarkupSafe>=2.0 in /opt/conda/lib/python3.10/site-packages (from jinja2->torch>=2.0.0->accelerate>=0.26.0) (3.0.2)\n",
      "Requirement already satisfied: charset_normalizer<4,>=2 in /opt/conda/lib/python3.10/site-packages (from requests->huggingface-hub>=0.21.0->accelerate>=0.26.0) (3.4.1)\n",
      "Requirement already satisfied: idna<4,>=2.5 in /opt/conda/lib/python3.10/site-packages (from requests->huggingface-hub>=0.21.0->accelerate>=0.26.0) (3.10)\n",
      "Requirement already satisfied: urllib3<3,>=1.21.1 in /opt/conda/lib/python3.10/site-packages (from requests->huggingface-hub>=0.21.0->accelerate>=0.26.0) (1.26.20)\n",
      "Requirement already satisfied: certifi>=2017.4.17 in /opt/conda/lib/python3.10/site-packages (from requests->huggingface-hub>=0.21.0->accelerate>=0.26.0) (2025.1.31)\n",
      "Downloading accelerate-1.7.0-py3-none-any.whl (362 kB)\n",
      "Installing collected packages: accelerate\n",
      "Successfully installed accelerate-1.7.0\n"
     ]
    }
   ],
   "source": [
    "!pip install \"accelerate>=0.26.0\""
   ]
  },
  {
   "cell_type": "code",
   "execution_count": 15,
   "id": "02f2a032-a3bc-48a2-8ac5-2203005124ec",
   "metadata": {
    "tags": []
   },
   "outputs": [
    {
     "name": "stdout",
     "output_type": "stream",
     "text": [
      "Torch Version: 2.7.1+cu126\n",
      "CUDA Available: False\n",
      "Accelerate Version: 1.7.0\n"
     ]
    }
   ],
   "source": [
    "print(\"Torch Version:\", torch.__version__)\n",
    "print(\"CUDA Available:\", torch.cuda.is_available())\n",
    "print(\"Accelerate Version:\", accelerate.__version__)"
   ]
  },
  {
   "cell_type": "code",
   "execution_count": 18,
   "id": "ae315b33-e2f6-4df5-9c71-00c094e158f9",
   "metadata": {
    "tags": []
   },
   "outputs": [],
   "source": [
    "os.environ[\"TRANSFORMERS_CACHE\"] = \"./.cache/transformers\"\n",
    "os.environ[\"USE_TF\"] = \"0\"  # Nonaktifkan TensorFlow, gunakan PyTorch"
   ]
  },
  {
   "cell_type": "code",
   "execution_count": null,
   "id": "c7af6ba6-6c41-4f9d-9acb-2bfac7186ef3",
   "metadata": {},
   "outputs": [],
   "source": [
    "base_path = '/home/jupyter'\n",
    "\n",
    "# Cek dan ubah direktori kerja\n",
    "if os.path.exists(base_path):\n",
    "    os.chdir(base_path)\n",
    "    print(f\"✅ Berhasil berpindah ke direktori: {os.getcwd()}\")\n",
    "else:\n",
    "    print(f\"❌ Path tidak ditemukan: {target_path}\")"
   ]
  },
  {
   "cell_type": "markdown",
   "id": "b7bde9b4-05ac-455a-8230-4f32b66118ea",
   "metadata": {},
   "source": [
    "## 3. Data Understanding"
   ]
  },
  {
   "cell_type": "markdown",
   "id": "bb606fe1-d6f5-4def-869b-cf77f1333aac",
   "metadata": {
    "tags": []
   },
   "source": [
    "### Preview Contoh Dataset Narasi Kebijakan Harga Beras"
   ]
  },
  {
   "cell_type": "markdown",
   "id": "26eb276e-5439-427b-8218-8d256c30da9c",
   "metadata": {
    "tags": []
   },
   "source": [
    "### Preview Dataset Narasi Kebijakan Sampah"
   ]
  },
  {
   "cell_type": "code",
   "execution_count": 2,
   "id": "628b5a0e-7150-4ffc-873d-e1b4d9c4b76d",
   "metadata": {
    "tags": []
   },
   "outputs": [
    {
     "name": "stdout",
     "output_type": "stream",
     "text": [
      "Kesimpulan: Jenis sampah yang teridentifikasi adalah kategori organik. Karakteristik utamanya adalah berbau tajam atau menyengat. Umumnya berasal dari Rumah tangga. Dampak negatif yang mungkin timbul antara lain: Mengundang lalat, kecoa, dan tikus yang menjadi vektor penyakit, Menimbulkan keluhan warga terhadap sistem pengangkutan sampah.\n",
      "Rekomendasi Penanganan: Sampah dari Rumah tangga yang memiliki karakteristik berbau tajam atau menyengat sebaiknya diolah menjadi kompos yang dapat meningkatkan kesuburan tanah. Lakukan pemilahan sejak awal dan simpan dalam wadah tertutup agar proses pengomposan berjalan optimal dan mengurangi bau tidak sedap.\n",
      "\n",
      "Kesimpulan: Jenis sampah yang teridentifikasi adalah kategori organik. Karakteristik utamanya adalah mudah membusuk. Umumnya berasal dari Restoran dan hotel. Dampak negatif yang mungkin timbul antara lain: Meningkatkan risiko kontaminasi silang dengan makanan siap saji, Memicu peningkatan emisi gas rumah kaca seperti metana (CH₄) dari tempat pembuangan.\n",
      "Rekomendasi Penanganan: Sampah dari Restoran dan hotel yang memiliki karakteristik mudah membusuk sebaiknya diolah menjadi kompos yang dapat meningkatkan kesuburan tanah. Lakukan pemilahan sejak awal dan simpan dalam wadah tertutup agar proses pengomposan berjalan optimal dan mengurangi bau tidak sedap.\n",
      "\n",
      "Kesimpulan: Jenis sampah yang teridentifikasi adalah kategori organik. Karakteristik utamanya adalah mudah membusuk. Umumnya berasal dari Restoran dan hotel. Dampak negatif yang mungkin timbul antara lain: Meningkatkan risiko kontaminasi silang dengan makanan siap saji, Potensi menurunkan citra kebersihan dan kualitas pelayanan jika tidak segera dibersihkan.\n",
      "Rekomendasi Penanganan: Sampah dari Restoran dan hotel yang memiliki karakteristik mudah membusuk sebaiknya diolah menjadi kompos yang dapat meningkatkan kesuburan tanah. Lakukan pemilahan sejak awal dan simpan dalam wadah tertutup agar proses pengomposan berjalan optimal dan mengurangi bau tidak sedap.\n",
      "\n",
      "Kesimpulan: Jenis sampah yang teridentifikasi adalah kategori organik. Karakteristik utamanya adalah mudah membusuk. Umumnya berasal dari Rumah tangga. Dampak negatif yang mungkin timbul antara lain: Menyumbat saluran air jika dibuang sembarangan, Menimbulkan bau tidak sedap di lingkungan tempat tinggal.\n",
      "Rekomendasi Penanganan: Sampah dari Rumah tangga yang memiliki karakteristik mudah membusuk sebaiknya diolah menjadi kompos yang dapat meningkatkan kesuburan tanah. Lakukan pemilahan sejak awal dan simpan dalam wadah tertutup agar proses pengomposan berjalan optimal dan mengurangi bau tidak sedap.\n",
      "\n",
      "Kesimpulan: Jenis sampah yang teridentifikasi adalah kategori organik. Karakteristik utamanya adalah tinggi kadar air. Umumnya berasal dari Restoran dan hotel. Dampak negatif yang mungkin timbul antara lain: Meningkatkan risiko pencemaran air jika tidak diproses dengan benar, Menurunkan standar kebersihan dapur profesional karena limbah berair sulit ditangani.\n",
      "Rekomendasi Penanganan: Sampah dari Restoran dan hotel yang memiliki karakteristik tinggi kadar air sebaiknya diolah menjadi kompos yang dapat meningkatkan kesuburan tanah. Lakukan pemilahan sejak awal dan simpan dalam wadah tertutup agar proses pengomposan berjalan optimal dan mengurangi bau tidak sedap.\n",
      "\n",
      "Kesimpulan: Jenis sampah yang teridentifikasi adalah kategori organik. Karakteristik utamanya adalah tinggi kadar air. Umumnya berasal dari Rumah tangga. Dampak negatif yang mungkin timbul antara lain: Menambah beban kerja sistem saluran air jika dibuang sembarangan, Membuat sampah menjadi lebih berat dan sulit diangkut ke TPA.\n",
      "Rekomendasi Penanganan: Sampah dari Rumah tangga yang memiliki karakteristik tinggi kadar air sebaiknya diolah menjadi kompos yang dapat meningkatkan kesuburan tanah. Lakukan pemilahan sejak awal dan simpan dalam wadah tertutup agar proses pengomposan berjalan optimal dan mengurangi bau tidak sedap.\n",
      "\n",
      "Kesimpulan: Jenis sampah yang teridentifikasi adalah kategori organik. Karakteristik utamanya adalah mudah membusuk. Umumnya berasal dari Restoran dan hotel. Dampak negatif yang mungkin timbul antara lain: Memicu peningkatan emisi gas rumah kaca seperti metana (CH₄) dari tempat pembuangan, Limbah makanan dalam jumlah besar yang cepat membusuk dapat mencemari area dapur dan belakang rumah makan.\n",
      "Rekomendasi Penanganan: Sampah dari Restoran dan hotel yang memiliki karakteristik mudah membusuk sebaiknya diolah menjadi kompos yang dapat meningkatkan kesuburan tanah. Lakukan pemilahan sejak awal dan simpan dalam wadah tertutup agar proses pengomposan berjalan optimal dan mengurangi bau tidak sedap.\n",
      "\n",
      "Kesimpulan: Jenis sampah yang teridentifikasi adalah kategori organik. Karakteristik utamanya adalah tinggi kadar air. Umumnya berasal dari Restoran dan hotel. Dampak negatif yang mungkin timbul antara lain: Memicu pertumbuhan mikroba yang bisa mencemari makanan siap saji, Meningkatkan risiko pencemaran air jika tidak diproses dengan benar.\n",
      "Rekomendasi Penanganan: Sampah dari Restoran dan hotel yang m\n"
     ]
    }
   ],
   "source": [
    "file_path = \"/home/jupyter/data/raw/llm_texts_raw/dataset_narasi_kebijakan_sampah_fix.txt\"\n",
    "\n",
    "with open(file_path, \"r\", encoding=\"utf-8\") as file:\n",
    "    isi = file.read()  # Baca semua isi file jadi satu string\n",
    "\n",
    "print(isi[:5000])"
   ]
  },
  {
   "cell_type": "markdown",
   "id": "82806eff-9aec-46f3-bb8c-21db8758959b",
   "metadata": {},
   "source": [
    "## 4. Data Preparation"
   ]
  },
  {
   "cell_type": "code",
   "execution_count": 3,
   "id": "75a411c6-129a-4a89-a9f1-254fa7fef0ce",
   "metadata": {
    "tags": []
   },
   "outputs": [
    {
     "name": "stderr",
     "output_type": "stream",
     "text": [
      "/opt/conda/lib/python3.10/site-packages/transformers/data/datasets/language_modeling.py:53: FutureWarning: This dataset will be removed from the library soon, preprocessing should be handled with the 🤗 Datasets library. You can have a look at this example script for pointers: https://github.com/huggingface/transformers/blob/main/examples/pytorch/language-modeling/run_mlm.py\n",
      "  warnings.warn(\n"
     ]
    }
   ],
   "source": [
    "# Load Tokenizer dan Model GPT-2\n",
    "\n",
    "# Load pre-trained GPT-2 dan tokenizer\n",
    "model = GPT2LMHeadModel.from_pretrained(\"gpt2\")\n",
    "tokenizer = GPT2Tokenizer.from_pretrained(\"gpt2\")\n",
    "\n",
    "# Atur token pad sebagai token akhir kalimat (eos)\n",
    "tokenizer.pad_token = tokenizer.eos_token\n",
    "model.config.pad_token_id = tokenizer.eos_token_id\n",
    "\n",
    "# Sesuaikan embedding model dengan jumlah token tokenizer\n",
    "model.resize_token_embeddings(len(tokenizer))\n",
    "\n",
    "# Load Dataset\n",
    "# NOTE: Pastikan file hanya berisi teks kesimpulan, satu per baris\n",
    "dataset = TextDataset(tokenizer=tokenizer,\n",
    "                      file_path=file_path,  # Ganti sesuai path file\n",
    "                      block_size=128,\n",
    ")\n",
    "\n",
    "# Buat data collator untuk language modeling (tanpa masked language modeling)\n",
    "data_collator = DataCollatorForLanguageModeling(tokenizer=tokenizer,\n",
    "                                                mlm=False  # Gunakan causal LM, bukan masked LM\n",
    ")"
   ]
  },
  {
   "cell_type": "markdown",
   "id": "ab4b17a8-6961-4505-982a-de5d212dbad0",
   "metadata": {
    "tags": []
   },
   "source": [
    "## 5. Model Development"
   ]
  },
  {
   "cell_type": "code",
   "execution_count": 4,
   "id": "f724329d-deb9-49f3-9ba8-9da943849bc8",
   "metadata": {
    "tags": []
   },
   "outputs": [],
   "source": [
    "# Konfigurasi training GPT-2\n",
    "training_args = TrainingArguments(\n",
    "    output_dir=\"models/llm_generator/result\",   # Direktori untuk menyimpan model hasil fine-tuning\n",
    "    logging_dir=\"models/llm_generator/logs\",    # Direktori untuk menyimpan log TensorBoard\n",
    "    overwrite_output_dir=True,              # Overwrite jika direktori sudah ada\n",
    "    per_device_train_batch_size=2,          # Batch size per device (GPU/CPU)\n",
    "    num_train_epochs=3,                     # Jumlah epoch pelatihan\n",
    "    save_steps=500,                         # Simpan checkpoint setiap 500 langkah\n",
    "    save_total_limit=2,                     # Maksimal 2 checkpoint disimpan\n",
    "    logging_steps=100,                      # Logging setiap 100 langkah\n",
    "    fp16=True,                              # Aktifkan mixed precision (jika menggunakan GPU dengan dukungan FP16)\n",
    "    report_to=\"tensorboard\"                 # Bisa juga \"none\" jika tidak ingin menggunakan TensorBoard\n",
    ")"
   ]
  },
  {
   "cell_type": "code",
   "execution_count": 5,
   "id": "84e5e371-afc1-44b9-afba-ecc4c3ec6954",
   "metadata": {
    "tags": []
   },
   "outputs": [
    {
     "name": "stderr",
     "output_type": "stream",
     "text": [
      "/opt/conda/lib/python3.10/site-packages/torch/utils/data/dataloader.py:665: UserWarning: 'pin_memory' argument is set as true but no accelerator is found, then device pinned memory won't be used.\n",
      "  warnings.warn(warn_msg)\n",
      "`loss_type=None` was set in the config but it is unrecognised.Using the default loss: `ForCausalLMLoss`.\n"
     ]
    },
    {
     "data": {
      "text/html": [
       "\n",
       "    <div>\n",
       "      \n",
       "      <progress value='1431' max='1431' style='width:300px; height:20px; vertical-align: middle;'></progress>\n",
       "      [1431/1431 56:40, Epoch 3/3]\n",
       "    </div>\n",
       "    <table border=\"1\" class=\"dataframe\">\n",
       "  <thead>\n",
       " <tr style=\"text-align: left;\">\n",
       "      <th>Step</th>\n",
       "      <th>Training Loss</th>\n",
       "    </tr>\n",
       "  </thead>\n",
       "  <tbody>\n",
       "    <tr>\n",
       "      <td>100</td>\n",
       "      <td>2.807500</td>\n",
       "    </tr>\n",
       "    <tr>\n",
       "      <td>200</td>\n",
       "      <td>1.132100</td>\n",
       "    </tr>\n",
       "    <tr>\n",
       "      <td>300</td>\n",
       "      <td>0.854300</td>\n",
       "    </tr>\n",
       "    <tr>\n",
       "      <td>400</td>\n",
       "      <td>0.633200</td>\n",
       "    </tr>\n",
       "    <tr>\n",
       "      <td>500</td>\n",
       "      <td>0.594200</td>\n",
       "    </tr>\n",
       "    <tr>\n",
       "      <td>600</td>\n",
       "      <td>0.487800</td>\n",
       "    </tr>\n",
       "    <tr>\n",
       "      <td>700</td>\n",
       "      <td>0.423700</td>\n",
       "    </tr>\n",
       "    <tr>\n",
       "      <td>800</td>\n",
       "      <td>0.388300</td>\n",
       "    </tr>\n",
       "    <tr>\n",
       "      <td>900</td>\n",
       "      <td>0.350800</td>\n",
       "    </tr>\n",
       "    <tr>\n",
       "      <td>1000</td>\n",
       "      <td>0.329300</td>\n",
       "    </tr>\n",
       "    <tr>\n",
       "      <td>1100</td>\n",
       "      <td>0.307000</td>\n",
       "    </tr>\n",
       "    <tr>\n",
       "      <td>1200</td>\n",
       "      <td>0.311000</td>\n",
       "    </tr>\n",
       "    <tr>\n",
       "      <td>1300</td>\n",
       "      <td>0.294400</td>\n",
       "    </tr>\n",
       "    <tr>\n",
       "      <td>1400</td>\n",
       "      <td>0.292600</td>\n",
       "    </tr>\n",
       "  </tbody>\n",
       "</table><p>"
      ],
      "text/plain": [
       "<IPython.core.display.HTML object>"
      ]
     },
     "metadata": {},
     "output_type": "display_data"
    },
    {
     "name": "stderr",
     "output_type": "stream",
     "text": [
      "/opt/conda/lib/python3.10/site-packages/torch/utils/data/dataloader.py:665: UserWarning: 'pin_memory' argument is set as true but no accelerator is found, then device pinned memory won't be used.\n",
      "  warnings.warn(warn_msg)\n"
     ]
    },
    {
     "name": "stdout",
     "output_type": "stream",
     "text": [
      "Proses fine-tuning model selesai.\n",
      "Waktu eksekusi: 3406.76 detik\n"
     ]
    }
   ],
   "source": [
    "import time\n",
    "\n",
    "start_time = time.time()\n",
    "\n",
    "# Inisialisasi Trainer untuk fine-tuning model\n",
    "trainer = Trainer(\n",
    "    model=model,                   # Model GPT-2 yang akan dilatih\n",
    "    args=training_args,            # Argumen pelatihan dari TrainingArguments\n",
    "    data_collator=data_collator,   # Collator untuk memformat batch selama pelatihan\n",
    "    train_dataset=dataset,         # Dataset yang digunakan untuk pelatihan\n",
    ")\n",
    "\n",
    "# Jalankan proses training\n",
    "trainer.train()\n",
    "\n",
    "print(\"Proses fine-tuning model selesai.\")\n",
    "print(f\"Waktu eksekusi: {time.time() - start_time:.2f} detik\")"
   ]
  },
  {
   "cell_type": "code",
   "execution_count": 6,
   "id": "f88087fe-0a61-43bb-aae7-b50903abefef",
   "metadata": {
    "tags": []
   },
   "outputs": [
    {
     "data": {
      "image/png": "[encoded data removed]",
      "text/plain": [
       "<Figure size 1000x500 with 1 Axes>"
      ]
     },
     "metadata": {},
     "output_type": "display_data"
    }
   ],
   "source": [
    "import pandas as pd\n",
    "import matplotlib.pyplot as plt\n",
    "\n",
    "# Ambil data log dari state Trainer\n",
    "log_history = trainer.state.log_history\n",
    "\n",
    "# Konversi ke DataFrame untuk visualisasi\n",
    "df_logs = pd.DataFrame(log_history)\n",
    "\n",
    "# Filter hanya data loss (beberapa log mungkin untuk eval_loss, learning_rate, etc.)\n",
    "train_loss = df_logs[df_logs['loss'].notnull()]\n",
    "\n",
    "# Plot Loss\n",
    "plt.figure(figsize=(10, 5))\n",
    "plt.plot(train_loss[\"step\"], train_loss[\"loss\"], marker='o')\n",
    "plt.xlabel(\"Step\")\n",
    "plt.ylabel(\"Training Loss\")\n",
    "plt.title(\"Training Loss over Steps\")\n",
    "plt.grid(True)\n",
    "plt.tight_layout()\n",
    "plt.show()"
   ]
  },
  {
   "cell_type": "markdown",
   "id": "be13ebf2-8282-4b87-aa94-9dbcef0ca80d",
   "metadata": {
    "tags": []
   },
   "source": [
    "### Simpan Model dan Tokenizer"
   ]
  },
  {
   "cell_type": "code",
   "execution_count": 9,
   "id": "821af4bf-2cd9-413d-b4ac-12ed831a6b02",
   "metadata": {
    "tags": []
   },
   "outputs": [
    {
     "data": {
      "text/plain": [
       "('models/llm_generator/gpt2-kebijakan-sampah-500-finetuned/tokenizer_config.json',\n",
       " 'models/llm_generator/gpt2-kebijakan-sampah-500-finetuned/special_tokens_map.json',\n",
       " 'models/llm_generator/gpt2-kebijakan-sampah-500-finetuned/vocab.json',\n",
       " 'models/llm_generator/gpt2-kebijakan-sampah-500-finetuned/merges.txt',\n",
       " 'models/llm_generator/gpt2-kebijakan-sampah-500-finetuned/added_tokens.json')"
      ]
     },
     "execution_count": 9,
     "metadata": {},
     "output_type": "execute_result"
    }
   ],
   "source": [
    "# Simpan model dan tokenizer setelah training\n",
    "trainer.save_model(\"models/llm_generator/gpt2-kebijakan-sampah-500-finetuned\")\n",
    "tokenizer.save_pretrained(\"models/llm_generator/gpt2-kebijakan-sampah-500-finetuned\")"
   ]
  },
  {
   "cell_type": "code",
   "execution_count": 4,
   "id": "3c58a8f7-9357-48b2-aaca-82e028b0c672",
   "metadata": {
    "tags": []
   },
   "outputs": [
    {
     "name": "stderr",
     "output_type": "stream",
     "text": [
      "Uploading to GCS: 100%|██████████| 8/8 [00:51<00:00,  6.50s/it]\n"
     ]
    }
   ],
   "source": [
    "from google.cloud import storage\n",
    "import os\n",
    "from tqdm import tqdm\n",
    "\n",
    "def upload_to_gcs(local_path, bucket_name, destination_folder):\n",
    "    client = storage.Client()\n",
    "    bucket = client.bucket(bucket_name)\n",
    "\n",
    "    file_list = []\n",
    "\n",
    "    if os.path.isfile(local_path):\n",
    "        # File tunggal\n",
    "        destination_blob_name = os.path.join(destination_folder, os.path.basename(local_path))\n",
    "        file_list.append((local_path, destination_blob_name))\n",
    "    \n",
    "    elif os.path.isdir(local_path):\n",
    "        # Semua file dalam folder (rekursif)\n",
    "        for root, dirs, files in os.walk(local_path):\n",
    "            for file in files:\n",
    "                local_file_path = os.path.join(root, file)\n",
    "                relative_path = os.path.relpath(local_file_path, local_path)\n",
    "                blob_path = os.path.join(destination_folder, relative_path)\n",
    "                file_list.append((local_file_path, blob_path))\n",
    "    else:\n",
    "        raise FileNotFoundError(\"Path tidak ditemukan.\")\n",
    "\n",
    "    # Upload semua file dengan satu progress bar\n",
    "    with tqdm(total=len(file_list), desc=\"Uploading to GCS\") as pbar:\n",
    "        for local_file, blob_dest in file_list:\n",
    "            blob = bucket.blob(blob_dest)\n",
    "            blob.upload_from_filename(local_file)\n",
    "            pbar.update(1)\n",
    "            \n",
    "upload_to_gcs(\n",
    "    local_path=\"models/llm_generator/gpt2-kebijakan-sampah-500-finetuned\",\n",
    "    bucket_name=\"govra-bucket-organic-anorganic-b3\",\n",
    "    destination_folder=\"notebooks/models/llm_generator/gpt2-kebijakan-sampah-500-finetuned\"\n",
    ")"
   ]
  },
  {
   "cell_type": "code",
   "execution_count": 6,
   "id": "fa1bcd88-2409-4da2-b801-0ded25ffb8d9",
   "metadata": {
    "tags": []
   },
   "outputs": [
    {
     "name": "stdout",
     "output_type": "stream",
     "text": [
      "📦 Folder berhasil dikompresi menjadi ZIP.\n"
     ]
    }
   ],
   "source": [
    "import shutil\n",
    "\n",
    "folder_to_zip = \"notebooks/models/llm_generator/gpt2-kebijakan-sampah-500-finetuned\"\n",
    "output_zip = \"gpt2-kebijakan-sampah-500-finetuned.zip\"\n",
    "\n",
    "shutil.make_archive(\"gpt2-kebijakan-sampah-500-finetuned\", 'zip', folder_to_zip)\n",
    "print(\"📦 Folder berhasil dikompresi menjadi ZIP.\")"
   ]
  },
  {
   "cell_type": "markdown",
   "id": "07fdaf2f-398c-4e87-9877-aa6494c35223",
   "metadata": {},
   "source": [
    "## 6. Testing"
   ]
  },
  {
   "cell_type": "code",
   "execution_count": 10,
   "id": "5d8f7b82-cecb-493e-89e9-e643c6a43c09",
   "metadata": {},
   "outputs": [
    {
     "name": "stdout",
     "output_type": "stream",
     "text": [
      "🚀 Loading model from: models/llm_generator/gpt2-kebijakan-sampah-500-finetuned\n",
      "\n",
      "✅ Model dan tokenizer berhasil dimuat.\n",
      "✅ Total kesimpulan yang berhasil dimuat: 498\n",
      "\n",
      "🟦 KESIMPULAN (1):\n",
      "Jenis sampah yang teridentifikasi adalah kategori organik. Karakteristik utamanya adalah berbau tajam atau menyengat. Umumnya berasal dari Rumah tangga. Dampak negatif yang mungkin timbul antara lain: Mengundang lalat, kecoa, dan tikus yang menjadi vektor penyakit, Menimbulkan keluhan warga terhadap sistem pengangkutan sampah.\n",
      "🟩 REKOMENDASI:\n",
      "Sampah dari Rumah tangga yang memiliki karakteristik mudah membusuk sebaiknya diolah menjadi kompos yang dapat meningkatkan kesuburan tanah. Lakukan pemilahan sejak awal dan simpan dalam wadah tertutup agar proses pengomposan berjalan optimal dan mengurangi bau tidak sedap\n",
      "====================================================================================================\n",
      "🟦 KESIMPULAN (2):\n",
      "Jenis sampah yang teridentifikasi adalah kategori organik. Karakteristik utamanya adalah mudah membusuk. Umumnya berasal dari Restoran dan hotel. Dampak negatif yang mungkin timbul antara lain: Meningkatkan risiko kontaminasi silang dengan makanan siap saji, Memicu peningkatan emisi gas rumah kaca seperti metana (CH₄) dari tempat pembuangan.\n",
      "🟩 REKOMENDASI:\n",
      "Kumpulkan sampah dari Restoran dan hotel secara terpisah dan hindari pembakaran terbuka. Pisahkan sesuai jenisnya, seperti plastik, logam, dan kaca, untuk memudahkan proses daur ulang dan mengurangi polusi udara.\n",
      "\n",
      "Kesimpulan: Jenis sampah yang teridentifikasi\n",
      "====================================================================================================\n",
      "🟦 KESIMPULAN (3):\n",
      "Jenis sampah yang teridentifikasi adalah kategori organik. Karakteristik utamanya adalah mudah membusuk. Umumnya berasal dari Restoran dan hotel. Dampak negatif yang mungkin timbul antara lain: Meningkatkan risiko kontaminasi silang dengan makanan siap saji, Potensi menurunkan citra kebersihan dan kualitas pelayanan jika tidak segera dibersihkan.\n",
      "🟩 REKOMENDASI:\n",
      "Sampah dari Restoran dan hotel yang memiliki karakteristik mudah membusuk sebaiknya diolah menjadi kompos yang dapat meningkatkan kesuburan tanah. Lakukan pemilahan sejak awal dan simpan dalam wadah tertutup agar proses pengomposan berjalan optimal dan mengurangi bau tidak sedap\n",
      "====================================================================================================\n",
      "🟦 KESIMPULAN (4):\n",
      "Jenis sampah yang teridentifikasi adalah kategori organik. Karakteristik utamanya adalah mudah membusuk. Umumnya berasal dari Rumah tangga. Dampak negatif yang mungkin timbul antara lain: Menyumbat saluran air jika dibuang sembarangan, Menimbulkan bau tidak sedap di lingkungan tempat tinggal.\n",
      "🟩 REKOMENDASI:\n",
      "Sampah dari Rumah tangga yang memiliki karakteristik mudah membusuk sebaiknya diolah menjadi kompos yang dapat meningkatkan kesuburan tanah. Lakukan pemilahan sejak awal dan simpan dalam wadah tertutup agar proses pengomposan berjalan optimal dan mengurangi bau tidak sedap\n",
      "====================================================================================================\n",
      "🟦 KESIMPULAN (5):\n",
      "Jenis sampah yang teridentifikasi adalah kategori organik. Karakteristik utamanya adalah tinggi kadar air. Umumnya berasal dari Restoran dan hotel. Dampak negatif yang mungkin timbul antara lain: Meningkatkan risiko pencemaran air jika tidak diproses dengan benar, Menurunkan standar kebersihan dapur profesional karena limbah berair sulit ditangani.\n",
      "🟩 REKOMENDASI:\n",
      "Kumpulkan sampah dari Restoran dan hotel secara terpisah dan hindari pembakaran terbuka. Pisahkan sesuai jenisnya, seperti plastik, logam, dan kaca, untuk memudahkan proses daur ulang dan mengurangi polusi udara.\n",
      "\n",
      "Kesimpulan: Jenis sampah yang teridentifikasi\n",
      "====================================================================================================\n",
      "🟦 KESIMPULAN (6):\n",
      "Jenis sampah yang teridentifikasi adalah kategori organik. Karakteristik utamanya adalah tinggi kadar air. Umumnya berasal dari Rumah tangga. Dampak negatif yang mungkin timbul antara lain: Menambah beban kerja sistem saluran air jika dibuang sembarangan, Membuat sampah menjadi lebih berat dan sulit diangkut ke TPA.\n",
      "🟩 REKOMENDASI:\n",
      "Sampah dari Rumah tangga yang memiliki karakteristik mudah membusuk sebaiknya diolah menjadi kompos yang dapat meningkatkan kesuburan tanah. Lakukan pemilahan sejak awal dan simpan dalam wadah tertutup agar proses pengomposan berjalan optimal dan mengurangi bau tidak sedap\n",
      "====================================================================================================\n",
      "🟦 KESIMPULAN (7):\n",
      "Jenis sampah yang teridentifikasi adalah kategori organik. Karakteristik utamanya adalah mudah membusuk. Umumnya berasal dari Restoran dan hotel. Dampak negatif yang mungkin timbul antara lain: Memicu peningkatan emisi gas rumah kaca seperti metana (CH₄) dari tempat pembuangan, Limbah makanan dalam jumlah besar yang cepat membusuk dapat mencemari area dapur dan belakang rumah makan.\n",
      "🟩 REKOMENDASI:\n",
      "Limbah dari Restoran dan hotel yang memiliki karakteristik tinggi kadar air sebaiknya diolah menjadi kompos yang dapat meningkatkan kesuburan tanah. Lakukan pemilahan sejak awal dan simpan dalam wadah tertutup agar proses pengomposan berjalan optimal dan mengurangi bau tidak\n",
      "====================================================================================================\n",
      "🟦 KESIMPULAN (8):\n",
      "Jenis sampah yang teridentifikasi adalah kategori organik. Karakteristik utamanya adalah tinggi kadar air. Umumnya berasal dari Restoran dan hotel. Dampak negatif yang mungkin timbul antara lain: Memicu pertumbuhan mikroba yang bisa mencemari makanan siap saji, Meningkatkan risiko pencemaran air jika tidak diproses dengan benar.\n",
      "🟩 REKOMENDASI:\n",
      "Kumpulkan sampah dari Restoran dan hotel secara terpisah dan hindari pembakaran terbuka. Pisahkan sesuai jenisnya, seperti plastik, logam, dan kaca, untuk memudahkan proses daur ulang dan mengurangi polusi udara.\n",
      "\n",
      "Kesimpulan: Jenis sampah yang teridentifikasi\n",
      "====================================================================================================\n",
      "🟦 KESIMPULAN (9):\n",
      "Jenis sampah yang teridentifikasi adalah kategori organik. Karakteristik utamanya adalah mudah membusuk. Umumnya berasal dari Restoran dan hotel. Dampak negatif yang mungkin timbul antara lain: Meningkatkan risiko kontaminasi silang dengan makanan siap saji, Memicu peningkatan emisi gas rumah kaca seperti metana (CH₄) dari tempat pembuangan.\n",
      "🟩 REKOMENDASI:\n",
      "Sampah dari Restoran dan hotel yang memiliki karakteristik mudah membusuk sebaiknya diolah menjadi kompos yang dapat meningkatkan kesuburan tanah. Lakukan pemilahan sejak awal dan simpan dalam wadah tertutup agar proses pengomposan berjalan optimal dan mengurangi bau tidak sedap\n",
      "====================================================================================================\n",
      "🟦 KESIMPULAN (10):\n",
      "Jenis sampah yang teridentifikasi adalah kategori organik. Karakteristik utamanya adalah tinggi kadar air. Umumnya berasal dari Restoran dan hotel. Dampak negatif yang mungkin timbul antara lain: Menurunkan standar kebersihan dapur profesional karena limbah berair sulit ditangani, Memicu pertumbuhan mikroba yang bisa mencemari makanan siap saji.\n",
      "🟩 REKOMENDASI:\n",
      "Sampah dari Restoran dan hotel yang memiliki karakteristik mudah membusuk sebaiknya diolah menjadi kompos yang dapat meningkatkan kesuburan tanah. Lakukan pemilahan sejak awal dan simpan dalam wadah tertutup agar proses pengomposan berjalan optimal dan mengurangi bau tidak sedap\n",
      "====================================================================================================\n"
     ]
    }
   ],
   "source": [
    "# === Konfigurasi ===\n",
    "MODEL_PATH = \"models/llm_generator/gpt2-kebijakan-sampah-500-finetuned\"\n",
    "DATA_PATH = \"/home/jupyter/data/raw/llm_texts_raw/dataset_narasi_kebijakan_sampah_fix.txt\"\n",
    "DEVICE = \"cpu\"  # Ubah ke 'cuda' jika pakai GPU\n",
    "MAX_SAMPLES = 10  # Batasi jumlah sampel untuk prediksi\n",
    "\n",
    "# === Load Model dan Tokenizer ===\n",
    "def load_model_and_tokenizer(model_path, device=\"cpu\"):\n",
    "    print(f\"🚀 Loading model from: {model_path}\\n\")\n",
    "    tokenizer = AutoTokenizer.from_pretrained(model_path)\n",
    "    model = AutoModelForCausalLM.from_pretrained(model_path)\n",
    "    model.to(device)\n",
    "    print(\"✅ Model dan tokenizer berhasil dimuat.\")\n",
    "    return model, tokenizer\n",
    "\n",
    "# === Load Kesimpulan dari File ===\n",
    "def load_kesimpulan(file_path):\n",
    "    if not os.path.exists(file_path):\n",
    "        raise FileNotFoundError(f\"File tidak ditemukan: {file_path}\")\n",
    "    \n",
    "    kesimpulan_list = []\n",
    "    with open(file_path, 'r', encoding='utf-8') as f:\n",
    "        text = f.read()\n",
    "    \n",
    "    entries = text.strip().split('\\n\\n')  # Asumsi dipisahkan oleh baris kosong\n",
    "    for entry in entries:\n",
    "        if \"Kesimpulan:\" in entry and \"Rekomendasi Penanganan:\" in entry:\n",
    "            try:\n",
    "                kesimpulan = entry.split(\"Kesimpulan:\")[1].split(\"Rekomendasi Penanganan:\")[0].strip()\n",
    "                kesimpulan_list.append(kesimpulan)\n",
    "            except IndexError:\n",
    "                continue\n",
    "\n",
    "    print(f\"✅ Total kesimpulan yang berhasil dimuat: {len(kesimpulan_list)}\\n\")\n",
    "    \n",
    "    return kesimpulan_list\n",
    "\n",
    "# === Generate Rekomendasi ===\n",
    "def generate_rekomendasi(model, tokenizer, kesimpulan, device=\"cpu\"):\n",
    "    prompt = f\"Kesimpulan: {kesimpulan}\\nRekomendasi Penanganan:\"\n",
    "    inputs = tokenizer.encode_plus(prompt,\n",
    "                                   return_tensors=\"pt\",\n",
    "                                   padding=True,\n",
    "                                   truncation=True)\n",
    "    input_ids = inputs[\"input_ids\"].to(device)\n",
    "    attention_mask = inputs[\"attention_mask\"].to(device)\n",
    "\n",
    "    output = model.generate(\n",
    "        input_ids=input_ids,\n",
    "        attention_mask=attention_mask,\n",
    "        max_new_tokens=100,\n",
    "        do_sample=True,\n",
    "        top_k=50,\n",
    "        top_p=0.95,\n",
    "        temperature=0.7,\n",
    "        pad_token_id=tokenizer.eos_token_id\n",
    "    )\n",
    "\n",
    "    decoded = tokenizer.decode(output[0], skip_special_tokens=True)\n",
    "    rekomendasi = decoded.replace(prompt, \"\").strip()\n",
    "    return rekomendasi\n",
    "\n",
    "# === Main ===\n",
    "def main():\n",
    "    model, tokenizer = load_model_and_tokenizer(MODEL_PATH, DEVICE)\n",
    "    kesimpulan_list = load_kesimpulan(DATA_PATH)\n",
    "\n",
    "    for i, kesimpulan in enumerate(kesimpulan_list[:MAX_SAMPLES]):\n",
    "        rekomendasi = generate_rekomendasi(model, tokenizer, kesimpulan, DEVICE)\n",
    "        print(f\"🟦 KESIMPULAN ({i+1}):\\n{kesimpulan}\")\n",
    "        print(f\"🟩 REKOMENDASI:\\n{rekomendasi}\")\n",
    "        print(\"=\" * 100)\n",
    "\n",
    "if __name__ == \"__main__\":\n",
    "    main()"
   ]
  },
  {
   "cell_type": "code",
   "execution_count": null,
   "id": "717700c9-1670-40ef-a116-ea4c6c336c8f",
   "metadata": {},
   "outputs": [],
   "source": []
  }
 ],
 "metadata": {
  "environment": {
   "kernel": "conda-base-py",
   "name": "workbench-notebooks.m129",
   "type": "gcloud",
   "uri": "us-docker.pkg.dev/deeplearning-platform-release/gcr.io/workbench-notebooks:m129"
  },
  "kernelspec": {
   "display_name": "Python 3 (ipykernel)",
   "language": "python",
   "name": "conda-base-py"
  },
  "language_info": {
   "codemirror_mode": {
    "name": "ipython",
    "version": 3
   },
   "file_extension": ".py",
   "mimetype": "text/x-python",
   "name": "python",
   "nbconvert_exporter": "python",
   "pygments_lexer": "ipython3",
   "version": "3.10.16"
  }
 },
 "nbformat": 4,
 "nbformat_minor": 5
}
