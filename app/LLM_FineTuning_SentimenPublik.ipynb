{
 "cells": [
  {
   "cell_type": "code",
   "execution_count": 2,
   "id": "43401acb-7810-40ec-b351-42749b0dc9a3",
   "metadata": {},
   "outputs": [],
   "source": [
    "import torch\n",
    "import accelerate\n",
    "import os\n",
    "import pandas as pd\n",
    "\n",
    "from transformers import (\n",
    "    GPT2LMHeadModel,\n",
    "    GPT2Tokenizer,\n",
    "    TextDataset,\n",
    "    DataCollatorForLanguageModeling,\n",
    "    Trainer,\n",
    "    TrainingArguments,\n",
    ")\n",
    "from transformers import AutoTokenizer, AutoModelForCausalLM"
   ]
  },
  {
   "cell_type": "code",
   "execution_count": 3,
   "id": "3aff5711-15fb-4eca-9459-95f0b0d5a25e",
   "metadata": {},
   "outputs": [
    {
     "name": "stdout",
     "output_type": "stream",
     "text": [
      "Requirement already satisfied: transformers in /opt/conda/lib/python3.10/site-packages (4.52.4)\n",
      "Requirement already satisfied: datasets in /opt/conda/lib/python3.10/site-packages (3.6.0)\n",
      "Requirement already satisfied: filelock in /opt/conda/lib/python3.10/site-packages (from transformers) (3.18.0)\n",
      "Requirement already satisfied: huggingface-hub<1.0,>=0.30.0 in /opt/conda/lib/python3.10/site-packages (from transformers) (0.32.4)\n",
      "Requirement already satisfied: numpy>=1.17 in /opt/conda/lib/python3.10/site-packages (from transformers) (2.1.3)\n",
      "Requirement already satisfied: packaging>=20.0 in /opt/conda/lib/python3.10/site-packages (from transformers) (25.0)\n",
      "Requirement already satisfied: pyyaml>=5.1 in /opt/conda/lib/python3.10/site-packages (from transformers) (6.0.2)\n",
      "Requirement already satisfied: regex!=2019.12.17 in /opt/conda/lib/python3.10/site-packages (from transformers) (2024.11.6)\n",
      "Requirement already satisfied: requests in /opt/conda/lib/python3.10/site-packages (from transformers) (2.32.3)\n",
      "Requirement already satisfied: tokenizers<0.22,>=0.21 in /opt/conda/lib/python3.10/site-packages (from transformers) (0.21.1)\n",
      "Requirement already satisfied: safetensors>=0.4.3 in /opt/conda/lib/python3.10/site-packages (from transformers) (0.5.3)\n",
      "Requirement already satisfied: tqdm>=4.27 in /opt/conda/lib/python3.10/site-packages (from transformers) (4.67.1)\n",
      "Requirement already satisfied: pyarrow>=15.0.0 in /opt/conda/lib/python3.10/site-packages (from datasets) (19.0.1)\n",
      "Requirement already satisfied: dill<0.3.9,>=0.3.0 in /opt/conda/lib/python3.10/site-packages (from datasets) (0.3.8)\n",
      "Requirement already satisfied: pandas in /opt/conda/lib/python3.10/site-packages (from datasets) (2.2.3)\n",
      "Requirement already satisfied: xxhash in /opt/conda/lib/python3.10/site-packages (from datasets) (3.5.0)\n",
      "Requirement already satisfied: multiprocess<0.70.17 in /opt/conda/lib/python3.10/site-packages (from datasets) (0.70.16)\n",
      "Requirement already satisfied: fsspec<=2025.3.0,>=2023.1.0 in /opt/conda/lib/python3.10/site-packages (from fsspec[http]<=2025.3.0,>=2023.1.0->datasets) (2025.3.0)\n",
      "Requirement already satisfied: aiohttp!=4.0.0a0,!=4.0.0a1 in /opt/conda/lib/python3.10/site-packages (from fsspec[http]<=2025.3.0,>=2023.1.0->datasets) (3.11.14)\n",
      "Requirement already satisfied: typing-extensions>=3.7.4.3 in /opt/conda/lib/python3.10/site-packages (from huggingface-hub<1.0,>=0.30.0->transformers) (4.13.0)\n",
      "Requirement already satisfied: hf-xet<2.0.0,>=1.1.2 in /opt/conda/lib/python3.10/site-packages (from huggingface-hub<1.0,>=0.30.0->transformers) (1.1.3)\n",
      "Requirement already satisfied: charset_normalizer<4,>=2 in /opt/conda/lib/python3.10/site-packages (from requests->transformers) (3.4.1)\n",
      "Requirement already satisfied: idna<4,>=2.5 in /opt/conda/lib/python3.10/site-packages (from requests->transformers) (3.10)\n",
      "Requirement already satisfied: urllib3<3,>=1.21.1 in /opt/conda/lib/python3.10/site-packages (from requests->transformers) (1.26.20)\n",
      "Requirement already satisfied: certifi>=2017.4.17 in /opt/conda/lib/python3.10/site-packages (from requests->transformers) (2025.1.31)\n",
      "Requirement already satisfied: python-dateutil>=2.8.2 in /opt/conda/lib/python3.10/site-packages (from pandas->datasets) (2.9.0.post0)\n",
      "Requirement already satisfied: pytz>=2020.1 in /opt/conda/lib/python3.10/site-packages (from pandas->datasets) (2025.2)\n",
      "Requirement already satisfied: tzdata>=2022.7 in /opt/conda/lib/python3.10/site-packages (from pandas->datasets) (2025.2)\n",
      "Requirement already satisfied: aiohappyeyeballs>=2.3.0 in /opt/conda/lib/python3.10/site-packages (from aiohttp!=4.0.0a0,!=4.0.0a1->fsspec[http]<=2025.3.0,>=2023.1.0->datasets) (2.6.1)\n",
      "Requirement already satisfied: aiosignal>=1.1.2 in /opt/conda/lib/python3.10/site-packages (from aiohttp!=4.0.0a0,!=4.0.0a1->fsspec[http]<=2025.3.0,>=2023.1.0->datasets) (1.3.2)\n",
      "Requirement already satisfied: async-timeout<6.0,>=4.0 in /opt/conda/lib/python3.10/site-packages (from aiohttp!=4.0.0a0,!=4.0.0a1->fsspec[http]<=2025.3.0,>=2023.1.0->datasets) (5.0.1)\n",
      "Requirement already satisfied: attrs>=17.3.0 in /opt/conda/lib/python3.10/site-packages (from aiohttp!=4.0.0a0,!=4.0.0a1->fsspec[http]<=2025.3.0,>=2023.1.0->datasets) (25.3.0)\n",
      "Requirement already satisfied: frozenlist>=1.1.1 in /opt/conda/lib/python3.10/site-packages (from aiohttp!=4.0.0a0,!=4.0.0a1->fsspec[http]<=2025.3.0,>=2023.1.0->datasets) (1.5.0)\n",
      "Requirement already satisfied: multidict<7.0,>=4.5 in /opt/conda/lib/python3.10/site-packages (from aiohttp!=4.0.0a0,!=4.0.0a1->fsspec[http]<=2025.3.0,>=2023.1.0->datasets) (6.2.0)\n",
      "Requirement already satisfied: propcache>=0.2.0 in /opt/conda/lib/python3.10/site-packages (from aiohttp!=4.0.0a0,!=4.0.0a1->fsspec[http]<=2025.3.0,>=2023.1.0->datasets) (0.3.1)\n",
      "Requirement already satisfied: yarl<2.0,>=1.17.0 in /opt/conda/lib/python3.10/site-packages (from aiohttp!=4.0.0a0,!=4.0.0a1->fsspec[http]<=2025.3.0,>=2023.1.0->datasets) (1.18.3)\n",
      "Requirement already satisfied: six>=1.5 in /opt/conda/lib/python3.10/site-packages (from python-dateutil>=2.8.2->pandas->datasets) (1.17.0)\n"
     ]
    }
   ],
   "source": [
    "!pip install transformers datasets"
   ]
  },
  {
   "cell_type": "code",
   "execution_count": 4,
   "id": "0e42ca26-4808-47c0-82b2-b463ff1d53fc",
   "metadata": {},
   "outputs": [
    {
     "name": "stdout",
     "output_type": "stream",
     "text": [
      "Requirement already satisfied: torch in /opt/conda/lib/python3.10/site-packages (2.7.1)\n",
      "Requirement already satisfied: filelock in /opt/conda/lib/python3.10/site-packages (from torch) (3.18.0)\n",
      "Requirement already satisfied: typing-extensions>=4.10.0 in /opt/conda/lib/python3.10/site-packages (from torch) (4.13.0)\n",
      "Requirement already satisfied: sympy>=1.13.3 in /opt/conda/lib/python3.10/site-packages (from torch) (1.14.0)\n",
      "Requirement already satisfied: networkx in /opt/conda/lib/python3.10/site-packages (from torch) (3.4.2)\n",
      "Requirement already satisfied: jinja2 in /opt/conda/lib/python3.10/site-packages (from torch) (3.1.6)\n",
      "Requirement already satisfied: fsspec in /opt/conda/lib/python3.10/site-packages (from torch) (2025.3.0)\n",
      "Requirement already satisfied: nvidia-cuda-nvrtc-cu12==12.6.77 in /opt/conda/lib/python3.10/site-packages (from torch) (12.6.77)\n",
      "Requirement already satisfied: nvidia-cuda-runtime-cu12==12.6.77 in /opt/conda/lib/python3.10/site-packages (from torch) (12.6.77)\n",
      "Requirement already satisfied: nvidia-cuda-cupti-cu12==12.6.80 in /opt/conda/lib/python3.10/site-packages (from torch) (12.6.80)\n",
      "Requirement already satisfied: nvidia-cudnn-cu12==9.5.1.17 in /opt/conda/lib/python3.10/site-packages (from torch) (9.5.1.17)\n",
      "Requirement already satisfied: nvidia-cublas-cu12==12.6.4.1 in /opt/conda/lib/python3.10/site-packages (from torch) (12.6.4.1)\n",
      "Requirement already satisfied: nvidia-cufft-cu12==11.3.0.4 in /opt/conda/lib/python3.10/site-packages (from torch) (11.3.0.4)\n",
      "Requirement already satisfied: nvidia-curand-cu12==10.3.7.77 in /opt/conda/lib/python3.10/site-packages (from torch) (10.3.7.77)\n",
      "Requirement already satisfied: nvidia-cusolver-cu12==11.7.1.2 in /opt/conda/lib/python3.10/site-packages (from torch) (11.7.1.2)\n",
      "Requirement already satisfied: nvidia-cusparse-cu12==12.5.4.2 in /opt/conda/lib/python3.10/site-packages (from torch) (12.5.4.2)\n",
      "Requirement already satisfied: nvidia-cusparselt-cu12==0.6.3 in /opt/conda/lib/python3.10/site-packages (from torch) (0.6.3)\n",
      "Requirement already satisfied: nvidia-nccl-cu12==2.26.2 in /opt/conda/lib/python3.10/site-packages (from torch) (2.26.2)\n",
      "Requirement already satisfied: nvidia-nvtx-cu12==12.6.77 in /opt/conda/lib/python3.10/site-packages (from torch) (12.6.77)\n",
      "Requirement already satisfied: nvidia-nvjitlink-cu12==12.6.85 in /opt/conda/lib/python3.10/site-packages (from torch) (12.6.85)\n",
      "Requirement already satisfied: nvidia-cufile-cu12==1.11.1.6 in /opt/conda/lib/python3.10/site-packages (from torch) (1.11.1.6)\n",
      "Requirement already satisfied: triton==3.3.1 in /opt/conda/lib/python3.10/site-packages (from torch) (3.3.1)\n",
      "Requirement already satisfied: setuptools>=40.8.0 in /opt/conda/lib/python3.10/site-packages (from triton==3.3.1->torch) (75.8.2)\n",
      "Requirement already satisfied: mpmath<1.4,>=1.1.0 in /opt/conda/lib/python3.10/site-packages (from sympy>=1.13.3->torch) (1.3.0)\n",
      "Requirement already satisfied: MarkupSafe>=2.0 in /opt/conda/lib/python3.10/site-packages (from jinja2->torch) (3.0.2)\n"
     ]
    }
   ],
   "source": [
    "!pip install torch"
   ]
  },
  {
   "cell_type": "code",
   "execution_count": 5,
   "id": "aca1a0f1-bfb7-4e0e-b701-a1d1652941a3",
   "metadata": {},
   "outputs": [
    {
     "name": "stdout",
     "output_type": "stream",
     "text": [
      "Requirement already satisfied: accelerate>=0.26.0 in /opt/conda/lib/python3.10/site-packages (1.7.0)\n",
      "Requirement already satisfied: numpy<3.0.0,>=1.17 in /opt/conda/lib/python3.10/site-packages (from accelerate>=0.26.0) (2.1.3)\n",
      "Requirement already satisfied: packaging>=20.0 in /opt/conda/lib/python3.10/site-packages (from accelerate>=0.26.0) (25.0)\n",
      "Requirement already satisfied: psutil in /opt/conda/lib/python3.10/site-packages (from accelerate>=0.26.0) (5.9.3)\n",
      "Requirement already satisfied: pyyaml in /opt/conda/lib/python3.10/site-packages (from accelerate>=0.26.0) (6.0.2)\n",
      "Requirement already satisfied: torch>=2.0.0 in /opt/conda/lib/python3.10/site-packages (from accelerate>=0.26.0) (2.7.1)\n",
      "Requirement already satisfied: huggingface-hub>=0.21.0 in /opt/conda/lib/python3.10/site-packages (from accelerate>=0.26.0) (0.32.4)\n",
      "Requirement already satisfied: safetensors>=0.4.3 in /opt/conda/lib/python3.10/site-packages (from accelerate>=0.26.0) (0.5.3)\n",
      "Requirement already satisfied: filelock in /opt/conda/lib/python3.10/site-packages (from huggingface-hub>=0.21.0->accelerate>=0.26.0) (3.18.0)\n",
      "Requirement already satisfied: fsspec>=2023.5.0 in /opt/conda/lib/python3.10/site-packages (from huggingface-hub>=0.21.0->accelerate>=0.26.0) (2025.3.0)\n",
      "Requirement already satisfied: requests in /opt/conda/lib/python3.10/site-packages (from huggingface-hub>=0.21.0->accelerate>=0.26.0) (2.32.3)\n",
      "Requirement already satisfied: tqdm>=4.42.1 in /opt/conda/lib/python3.10/site-packages (from huggingface-hub>=0.21.0->accelerate>=0.26.0) (4.67.1)\n",
      "Requirement already satisfied: typing-extensions>=3.7.4.3 in /opt/conda/lib/python3.10/site-packages (from huggingface-hub>=0.21.0->accelerate>=0.26.0) (4.13.0)\n",
      "Requirement already satisfied: hf-xet<2.0.0,>=1.1.2 in /opt/conda/lib/python3.10/site-packages (from huggingface-hub>=0.21.0->accelerate>=0.26.0) (1.1.3)\n",
      "Requirement already satisfied: sympy>=1.13.3 in /opt/conda/lib/python3.10/site-packages (from torch>=2.0.0->accelerate>=0.26.0) (1.14.0)\n",
      "Requirement already satisfied: networkx in /opt/conda/lib/python3.10/site-packages (from torch>=2.0.0->accelerate>=0.26.0) (3.4.2)\n",
      "Requirement already satisfied: jinja2 in /opt/conda/lib/python3.10/site-packages (from torch>=2.0.0->accelerate>=0.26.0) (3.1.6)\n",
      "Requirement already satisfied: nvidia-cuda-nvrtc-cu12==12.6.77 in /opt/conda/lib/python3.10/site-packages (from torch>=2.0.0->accelerate>=0.26.0) (12.6.77)\n",
      "Requirement already satisfied: nvidia-cuda-runtime-cu12==12.6.77 in /opt/conda/lib/python3.10/site-packages (from torch>=2.0.0->accelerate>=0.26.0) (12.6.77)\n",
      "Requirement already satisfied: nvidia-cuda-cupti-cu12==12.6.80 in /opt/conda/lib/python3.10/site-packages (from torch>=2.0.0->accelerate>=0.26.0) (12.6.80)\n",
      "Requirement already satisfied: nvidia-cudnn-cu12==9.5.1.17 in /opt/conda/lib/python3.10/site-packages (from torch>=2.0.0->accelerate>=0.26.0) (9.5.1.17)\n",
      "Requirement already satisfied: nvidia-cublas-cu12==12.6.4.1 in /opt/conda/lib/python3.10/site-packages (from torch>=2.0.0->accelerate>=0.26.0) (12.6.4.1)\n",
      "Requirement already satisfied: nvidia-cufft-cu12==11.3.0.4 in /opt/conda/lib/python3.10/site-packages (from torch>=2.0.0->accelerate>=0.26.0) (11.3.0.4)\n",
      "Requirement already satisfied: nvidia-curand-cu12==10.3.7.77 in /opt/conda/lib/python3.10/site-packages (from torch>=2.0.0->accelerate>=0.26.0) (10.3.7.77)\n",
      "Requirement already satisfied: nvidia-cusolver-cu12==11.7.1.2 in /opt/conda/lib/python3.10/site-packages (from torch>=2.0.0->accelerate>=0.26.0) (11.7.1.2)\n",
      "Requirement already satisfied: nvidia-cusparse-cu12==12.5.4.2 in /opt/conda/lib/python3.10/site-packages (from torch>=2.0.0->accelerate>=0.26.0) (12.5.4.2)\n",
      "Requirement already satisfied: nvidia-cusparselt-cu12==0.6.3 in /opt/conda/lib/python3.10/site-packages (from torch>=2.0.0->accelerate>=0.26.0) (0.6.3)\n",
      "Requirement already satisfied: nvidia-nccl-cu12==2.26.2 in /opt/conda/lib/python3.10/site-packages (from torch>=2.0.0->accelerate>=0.26.0) (2.26.2)\n",
      "Requirement already satisfied: nvidia-nvtx-cu12==12.6.77 in /opt/conda/lib/python3.10/site-packages (from torch>=2.0.0->accelerate>=0.26.0) (12.6.77)\n",
      "Requirement already satisfied: nvidia-nvjitlink-cu12==12.6.85 in /opt/conda/lib/python3.10/site-packages (from torch>=2.0.0->accelerate>=0.26.0) (12.6.85)\n",
      "Requirement already satisfied: nvidia-cufile-cu12==1.11.1.6 in /opt/conda/lib/python3.10/site-packages (from torch>=2.0.0->accelerate>=0.26.0) (1.11.1.6)\n",
      "Requirement already satisfied: triton==3.3.1 in /opt/conda/lib/python3.10/site-packages (from torch>=2.0.0->accelerate>=0.26.0) (3.3.1)\n",
      "Requirement already satisfied: setuptools>=40.8.0 in /opt/conda/lib/python3.10/site-packages (from triton==3.3.1->torch>=2.0.0->accelerate>=0.26.0) (75.8.2)\n",
      "Requirement already satisfied: mpmath<1.4,>=1.1.0 in /opt/conda/lib/python3.10/site-packages (from sympy>=1.13.3->torch>=2.0.0->accelerate>=0.26.0) (1.3.0)\n",
      "Requirement already satisfied: MarkupSafe>=2.0 in /opt/conda/lib/python3.10/site-packages (from jinja2->torch>=2.0.0->accelerate>=0.26.0) (3.0.2)\n",
      "Requirement already satisfied: charset_normalizer<4,>=2 in /opt/conda/lib/python3.10/site-packages (from requests->huggingface-hub>=0.21.0->accelerate>=0.26.0) (3.4.1)\n",
      "Requirement already satisfied: idna<4,>=2.5 in /opt/conda/lib/python3.10/site-packages (from requests->huggingface-hub>=0.21.0->accelerate>=0.26.0) (3.10)\n",
      "Requirement already satisfied: urllib3<3,>=1.21.1 in /opt/conda/lib/python3.10/site-packages (from requests->huggingface-hub>=0.21.0->accelerate>=0.26.0) (1.26.20)\n",
      "Requirement already satisfied: certifi>=2017.4.17 in /opt/conda/lib/python3.10/site-packages (from requests->huggingface-hub>=0.21.0->accelerate>=0.26.0) (2025.1.31)\n"
     ]
    }
   ],
   "source": [
    "!pip install \"accelerate>=0.26.0\""
   ]
  },
  {
   "cell_type": "code",
   "execution_count": 6,
   "id": "24444a22-2ac0-4a5b-8927-7e160a78c916",
   "metadata": {},
   "outputs": [
    {
     "name": "stdout",
     "output_type": "stream",
     "text": [
      "Torch Version: 2.7.1+cu126\n",
      "CUDA Available: False\n",
      "Accelerate Version: 1.7.0\n"
     ]
    }
   ],
   "source": [
    "print(\"Torch Version:\", torch.__version__)\n",
    "print(\"CUDA Available:\", torch.cuda.is_available())\n",
    "print(\"Accelerate Version:\", accelerate.__version__)"
   ]
  },
  {
   "cell_type": "code",
   "execution_count": 7,
   "id": "63ed4292-aca3-47c5-863e-5c6f7d2ef07f",
   "metadata": {},
   "outputs": [],
   "source": [
    "os.environ[\"TRANSFORMERS_CACHE\"] = \"./.cache/transformers\"\n",
    "os.environ[\"USE_TF\"] = \"0\"  # Nonaktifkan TensorFlow, gunakan PyTorch"
   ]
  },
  {
   "cell_type": "code",
   "execution_count": 8,
   "id": "f0b4885f-d30d-4e21-8618-149959762b8d",
   "metadata": {},
   "outputs": [
    {
     "name": "stdout",
     "output_type": "stream",
     "text": [
      "✅ Berhasil berpindah ke direktori: /home/jupyter\n"
     ]
    }
   ],
   "source": [
    "base_path = '/home/jupyter'\n",
    "\n",
    "# Cek dan ubah direktori kerja\n",
    "if os.path.exists(base_path):\n",
    "    os.chdir(base_path)\n",
    "    print(f\"✅ Berhasil berpindah ke direktori: {os.getcwd()}\")\n",
    "else:\n",
    "    print(f\"❌ Path tidak ditemukan: {target_path}\")"
   ]
  },
  {
   "cell_type": "code",
   "execution_count": 9,
   "id": "7a8717b8-2968-4c98-a017-c930cb891096",
   "metadata": {},
   "outputs": [
    {
     "name": "stdout",
     "output_type": "stream",
     "text": [
      "Kesimpulan: Pandangan masyarakat terhadap sektor pengurusan administrasi kependudukan bersifat netral. Sebagian besar tanggapan menunjukkan sikap yang tidak condong kuat ke arah positif atau negatif, seperti: Masyarakat tidak terlalu mempermasalahkan proses yang ada, namun juga tidak menunjukkan antusiasme.\n",
      "Rekomendasi Kebijakan: Tingkatkan komunikasi, akses, dan kualitas agar persepsi publik menjadi lebih positif.\n",
      "\n",
      "Kesimpulan: Sentimen publik terhadap sektor transportasi publik tergolong negatif. Respons warga mengindikasikan adanya ketidakpuasan, misalnya: Pengemudi dinilai kurang ramah dan tidak disiplin.\n",
      "Rekomendasi Kebijakan: Segera perbaiki armada tidak layak dan jadwal yang tidak konsisten. Lakukan pelatihan ulang bagi pengemudi dan evaluasi kebutuhan perluasan rute.\n",
      "\n",
      "Kesimpulan: Pandangan masyarakat terhadap sektor layanan perpustakaan bersifat netral. Sebagian besar tanggapan menunjukkan sikap yang tidak condong kuat ke arah positif atau negatif, seperti: Tidak ada komplain besar, tapi juga tidak dianggap luar biasa.\n",
      "Rekomendasi Kebijakan: Aktifkan promosi layanan agar masyarakat menyadari potensi perpustakaan. Integrasikan dengan program sekolah dan komunitas lokal.\n",
      "\n",
      "Kesimpulan: Sentimen publik terhadap sektor transportasi publik tergolong negatif. Respons warga mengindikasikan adanya ketidakpuasan, misalnya: Warga mengeluhkan keterlambatan dan kondisi armada yang tidak layak.\n",
      "Rekomendasi Kebijakan: Segera perbaiki armada tidak layak dan jadwal yang tidak konsisten. Lakukan pelatihan ulang bagi pengemudi dan evaluasi kebutuhan perluasan rute.\n",
      "\n",
      "Kesimpulan: Sentimen publik terhadap sektor transportasi publik tergolong negatif. Respons warga mengindikasikan adanya ketidakpuasan, misalnya: Jadwal keberangkatan tidak konsisten dan membingungkan penumpang.\n",
      "Rekomendasi Kebijakan: Segera perbaiki armada tidak layak dan jadwal yang tidak konsisten. Lakukan pelatihan ulang bagi pengemudi dan evaluasi kebutuhan perluasan rute.\n",
      "\n",
      "Kesimpulan: Pandangan masyarakat terhadap sektor layanan perpustakaan bersifat netral. Sebagian besar tanggapan menunjukkan sikap yang tidak condong kuat ke arah positif atau negatif, seperti: Pengunjung merasa layanan berjalan seperti biasa.\n",
      "Rekomendasi Kebijakan: Aktifkan promosi layanan agar masyarakat menyadari potensi perpustakaan. Integrasikan dengan program sekolah dan komunitas lokal.\n",
      "\n",
      "Kesimpulan: Opini publik terhadap sektor layanan pendidikan menunjukkan kecenderungan positif. Hal ini tercermin dari respon masyarakat seperti: Guru dianggap lebih aktif membimbing siswa selama pembelajaran.\n",
      "Rekomendasi Kebijakan: Lanjutkan peningkatan kualitas guru dan infrastruktur sekolah. Fokuskan perluasan program beasiswa dan digitalisasi materi ajar.\n",
      "\n",
      "Kesimpulan: Sentimen publik terhadap sektor pengurusan dokumen tergolong negatif. Respons warga mengindikasikan adanya ketidakpuasan, misalnya: Petugas tidak ramah dan kurang membantu.\n",
      "Rekomendasi Kebijakan: Reformasi prosedur agar lebih sederhana dan transparan. Perkuat pengawasan untuk memberantas pungli serta latih petugas pelayanan publik agar lebih responsif.\n",
      "\n",
      "Kesimpulan: Sentimen publik terhadap sektor pengurusan dokumen tergolong negatif. Respons warga mengindikasikan adanya ketidakpuasan, misalnya: Informasi prosedur kurang jelas dan membingungkan.\n",
      "Rekomendasi Kebijakan: Reformasi prosedur agar lebih sederhana dan transparan. Perkuat pengawasan untuk memberantas pungli serta latih petugas pelayanan publik agar lebih responsif.\n",
      "\n",
      "Kesimpulan: Sentimen publik terhadap sektor transportasi publik tergolong negatif. Respons warga mengindikasikan adanya ketidakpuasan, misalnya: Terdapat persepsi bahwa akses transportasi tidak merata di seluruh wilayah.\n",
      "Rekomendasi Kebijakan: Segera perbaiki armada tidak layak dan jadwal yang tidak konsisten. Lakukan pelatihan ulang bagi pengemudi dan evaluasi kebutuhan perluasan rute.\n",
      "\n",
      "Kesimpulan: Sentimen publik terhadap sektor transportasi publik tergolong negatif. Respons warga mengindikasikan adanya ketidakpuasan, misalnya: Kondisi halte atau terminal kurang bersih dan minim keamanan.\n",
      "Rekomendasi Kebijakan: Segera perbaiki armada tidak layak dan jadwal yang tidak konsisten. Lakukan pelatihan ulang bagi pengemudi dan evaluasi kebutuhan perluasan rute.\n",
      "\n",
      "Kesimpulan: Sentimen publik terhadap sektor transportasi publik tergolong negatif. Respons warga mengindikasikan adanya ketidakpuasan, misalnya: Terdapat persepsi bahwa akses transportasi tidak merata di seluruh wilayah.\n",
      "Rekomendasi Kebijakan: Segera perbaiki armada tidak layak dan jadwal yang tidak konsisten. Lakukan pelatihan ulang bagi pengemudi dan evaluasi kebutuhan perluasan rute.\n",
      "\n",
      "Kesimpulan: Sentimen publik terhadap sektor pengurusan dokumen tergolong negatif. Respons warga mengindikasikan adanya ketidakpuasan, misalnya: Warga harus datang berulang kali karena sistem sering error.\n",
      "Rekomendasi Kebijakan: Reformasi prosedur agar lebih sederhana dan transparan. Perkuat pengawasan untuk memberantas pungli serta latih petugas pelayanan publik agar lebih\n"
     ]
    }
   ],
   "source": [
    "file_path = \"data/processed/Sentimen Publik/dataset_narasi_kebijakan_sentimen.txt\"\n",
    "\n",
    "with open(file_path, \"r\", encoding=\"utf-8\") as file:\n",
    "    isi = file.read()  # Baca semua isi file jadi satu string\n",
    "\n",
    "print(isi[:5000])"
   ]
  },
  {
   "cell_type": "code",
   "execution_count": 10,
   "id": "ae4f6845-3e87-48bf-aa5e-5d0a940e4e2e",
   "metadata": {},
   "outputs": [
    {
     "name": "stderr",
     "output_type": "stream",
     "text": [
      "/opt/conda/lib/python3.10/site-packages/transformers/data/datasets/language_modeling.py:53: FutureWarning: This dataset will be removed from the library soon, preprocessing should be handled with the 🤗 Datasets library. You can have a look at this example script for pointers: https://github.com/huggingface/transformers/blob/main/examples/pytorch/language-modeling/run_mlm.py\n",
      "  warnings.warn(\n"
     ]
    }
   ],
   "source": [
    "# Load Tokenizer dan Model GPT-2\n",
    "\n",
    "# Load pre-trained GPT-2 dan tokenizer\n",
    "model = GPT2LMHeadModel.from_pretrained(\"gpt2\")\n",
    "tokenizer = GPT2Tokenizer.from_pretrained(\"gpt2\")\n",
    "\n",
    "# Atur token pad sebagai token akhir kalimat (eos)\n",
    "tokenizer.pad_token = tokenizer.eos_token\n",
    "model.config.pad_token_id = tokenizer.eos_token_id\n",
    "\n",
    "# Sesuaikan embedding model dengan jumlah token tokenizer\n",
    "model.resize_token_embeddings(len(tokenizer))\n",
    "\n",
    "# Load Dataset\n",
    "# NOTE: Pastikan file hanya berisi teks kesimpulan, satu per baris\n",
    "dataset = TextDataset(tokenizer=tokenizer,\n",
    "                      file_path=file_path,  # Ganti sesuai path file\n",
    "                      block_size=128,\n",
    ")\n",
    "\n",
    "# Buat data collator untuk language modeling (tanpa masked language modeling)\n",
    "data_collator = DataCollatorForLanguageModeling(tokenizer=tokenizer,\n",
    "                                                mlm=False  # Gunakan causal LM, bukan masked LM\n",
    ")"
   ]
  },
  {
   "cell_type": "code",
   "execution_count": 11,
   "id": "dd72328e-82e9-476c-80df-44ea6dedde0a",
   "metadata": {},
   "outputs": [],
   "source": [
    "# Konfigurasi training GPT-2\n",
    "training_args = TrainingArguments(\n",
    "    output_dir=\"models/llm_generator/Sentimen Publik/result\",   # Direktori untuk menyimpan model hasil fine-tuning\n",
    "    logging_dir=\"models/llm_generator/Sentimen Publik/logs\",    # Direktori untuk menyimpan log TensorBoard\n",
    "    overwrite_output_dir=True,              # Overwrite jika direktori sudah ada\n",
    "    per_device_train_batch_size=2,          # Batch size per device (GPU/CPU)\n",
    "    num_train_epochs=3,                     # Jumlah epoch pelatihan\n",
    "    save_steps=500,                         # Simpan checkpoint setiap 500 langkah\n",
    "    save_total_limit=2,                     # Maksimal 2 checkpoint disimpan\n",
    "    logging_steps=100,                      # Logging setiap 100 langkah\n",
    "    fp16=True,                              # Aktifkan mixed precision (jika menggunakan GPU dengan dukungan FP16)\n",
    "    report_to=\"tensorboard\"                 # Bisa juga \"none\" jika tidak ingin menggunakan TensorBoard\n",
    ")"
   ]
  },
  {
   "cell_type": "code",
   "execution_count": 12,
   "id": "97865729-7200-4446-a934-684d4f785165",
   "metadata": {},
   "outputs": [
    {
     "name": "stderr",
     "output_type": "stream",
     "text": [
      "/opt/conda/lib/python3.10/site-packages/torch/utils/data/dataloader.py:665: UserWarning: 'pin_memory' argument is set as true but no accelerator is found, then device pinned memory won't be used.\n",
      "  warnings.warn(warn_msg)\n",
      "`loss_type=None` was set in the config but it is unrecognised.Using the default loss: `ForCausalLMLoss`.\n"
     ]
    },
    {
     "data": {
      "text/html": [
       "\n",
       "    <div>\n",
       "      \n",
       "      <progress value='861' max='861' style='width:300px; height:20px; vertical-align: middle;'></progress>\n",
       "      [861/861 34:26, Epoch 3/3]\n",
       "    </div>\n",
       "    <table border=\"1\" class=\"dataframe\">\n",
       "  <thead>\n",
       " <tr style=\"text-align: left;\">\n",
       "      <th>Step</th>\n",
       "      <th>Training Loss</th>\n",
       "    </tr>\n",
       "  </thead>\n",
       "  <tbody>\n",
       "    <tr>\n",
       "      <td>100</td>\n",
       "      <td>2.335100</td>\n",
       "    </tr>\n",
       "    <tr>\n",
       "      <td>200</td>\n",
       "      <td>0.535700</td>\n",
       "    </tr>\n",
       "    <tr>\n",
       "      <td>300</td>\n",
       "      <td>0.292600</td>\n",
       "    </tr>\n",
       "    <tr>\n",
       "      <td>400</td>\n",
       "      <td>0.184900</td>\n",
       "    </tr>\n",
       "    <tr>\n",
       "      <td>500</td>\n",
       "      <td>0.147200</td>\n",
       "    </tr>\n",
       "    <tr>\n",
       "      <td>600</td>\n",
       "      <td>0.128700</td>\n",
       "    </tr>\n",
       "    <tr>\n",
       "      <td>700</td>\n",
       "      <td>0.114100</td>\n",
       "    </tr>\n",
       "    <tr>\n",
       "      <td>800</td>\n",
       "      <td>0.114900</td>\n",
       "    </tr>\n",
       "  </tbody>\n",
       "</table><p>"
      ],
      "text/plain": [
       "<IPython.core.display.HTML object>"
      ]
     },
     "metadata": {},
     "output_type": "display_data"
    },
    {
     "name": "stderr",
     "output_type": "stream",
     "text": [
      "/opt/conda/lib/python3.10/site-packages/torch/utils/data/dataloader.py:665: UserWarning: 'pin_memory' argument is set as true but no accelerator is found, then device pinned memory won't be used.\n",
      "  warnings.warn(warn_msg)\n"
     ]
    },
    {
     "name": "stdout",
     "output_type": "stream",
     "text": [
      "Proses fine-tuning model selesai.\n",
      "Waktu eksekusi: 2073.29 detik\n"
     ]
    }
   ],
   "source": [
    "import time\n",
    "\n",
    "start_time = time.time()\n",
    "\n",
    "# Inisialisasi Trainer untuk fine-tuning model\n",
    "trainer = Trainer(\n",
    "    model=model,                   # Model GPT-2 yang akan dilatih\n",
    "    args=training_args,            # Argumen pelatihan dari TrainingArguments\n",
    "    data_collator=data_collator,   # Collator untuk memformat batch selama pelatihan\n",
    "    train_dataset=dataset,         # Dataset yang digunakan untuk pelatihan\n",
    ")\n",
    "\n",
    "# Jalankan proses training\n",
    "trainer.train()\n",
    "\n",
    "print(\"Proses fine-tuning model selesai.\")\n",
    "print(f\"Waktu eksekusi: {time.time() - start_time:.2f} detik\")"
   ]
  },
  {
   "cell_type": "code",
   "execution_count": 13,
   "id": "6264c811-9f69-4979-8aa9-88a90e19999a",
   "metadata": {},
   "outputs": [
    {
     "data": {
      "image/png": "[encoded data removed]",
      "text/plain": [
       "<Figure size 1000x500 with 1 Axes>"
      ]
     },
     "metadata": {},
     "output_type": "display_data"
    }
   ],
   "source": [
    "import pandas as pd\n",
    "import matplotlib.pyplot as plt\n",
    "\n",
    "# Ambil data log dari state Trainer\n",
    "log_history = trainer.state.log_history\n",
    "\n",
    "# Konversi ke DataFrame untuk visualisasi\n",
    "df_logs = pd.DataFrame(log_history)\n",
    "\n",
    "# Filter hanya data loss (beberapa log mungkin untuk eval_loss, learning_rate, etc.)\n",
    "train_loss = df_logs[df_logs['loss'].notnull()]\n",
    "\n",
    "# Plot Loss\n",
    "plt.figure(figsize=(10, 5))\n",
    "plt.plot(train_loss[\"step\"], train_loss[\"loss\"], marker='o')\n",
    "plt.xlabel(\"Step\")\n",
    "plt.ylabel(\"Training Loss\")\n",
    "plt.title(\"Training Loss over Steps\")\n",
    "plt.grid(True)\n",
    "plt.tight_layout()\n",
    "plt.show()"
   ]
  },
  {
   "cell_type": "code",
   "execution_count": 14,
   "id": "4d431ac1-6cdc-42ad-9cf4-c5e2fe252fcb",
   "metadata": {},
   "outputs": [
    {
     "data": {
      "text/plain": [
       "('models/llm_generator/Sentimen Publik/gpt2-kebijakan-sentimen-publik-500-finetuned/tokenizer_config.json',\n",
       " 'models/llm_generator/Sentimen Publik/gpt2-kebijakan-sentimen-publik-500-finetuned/special_tokens_map.json',\n",
       " 'models/llm_generator/Sentimen Publik/gpt2-kebijakan-sentimen-publik-500-finetuned/vocab.json',\n",
       " 'models/llm_generator/Sentimen Publik/gpt2-kebijakan-sentimen-publik-500-finetuned/merges.txt',\n",
       " 'models/llm_generator/Sentimen Publik/gpt2-kebijakan-sentimen-publik-500-finetuned/added_tokens.json')"
      ]
     },
     "execution_count": 14,
     "metadata": {},
     "output_type": "execute_result"
    }
   ],
   "source": [
    "# Simpan model dan tokenizer setelah training\n",
    "trainer.save_model(\"models/llm_generator/Sentimen Publik/gpt2-kebijakan-sentimen-publik-500-finetuned\")\n",
    "tokenizer.save_pretrained(\"models/llm_generator/Sentimen Publik/gpt2-kebijakan-sentimen-publik-500-finetuned\")"
   ]
  },
  {
   "cell_type": "code",
   "execution_count": 15,
   "id": "9b68f751-c256-4440-9e4b-3460e18a3cba",
   "metadata": {
    "tags": []
   },
   "outputs": [
    {
     "name": "stdout",
     "output_type": "stream",
     "text": [
      "🚀 Loading model from: models/llm_generator/Sentimen Publik/gpt2-kebijakan-sentimen-publik-500-finetuned\n",
      "\n",
      "✅ Model dan tokenizer berhasil dimuat.\n",
      "✅ Total kesimpulan yang berhasil dimuat: 500\n",
      "\n",
      "🟦 KESIMPULAN (1):\n",
      "Pandangan masyarakat terhadap sektor pengurusan administrasi kependudukan bersifat netral. Sebagian besar tanggapan menunjukkan sikap yang tidak condong kuat ke arah positif atau negatif, seperti: Masyarakat tidak terlalu mempermasalahkan proses yang ada, namun juga tidak menunjukkan antusiasme.\n",
      "🟩 REKOMENDASI:\n",
      "Tingkatkan komunikasi, akses, dan kualitas agar persepsi publik menjadi lebih positif.\n",
      "\n",
      "Kesimpulan: Pandangan masyarakat terhadap sektor pengurusan administrasi kependudukan bersifat netral. Sebagian besar tanggapan menunjukkan sikap yang tidak condong kuat ke a\n",
      "====================================================================================================\n",
      "🟦 KESIMPULAN (2):\n",
      "Sentimen publik terhadap sektor transportasi publik tergolong negatif. Respons warga mengindikasikan adanya ketidakpuasan, misalnya: Pengemudi dinilai kurang ramah dan tidak disiplin.\n",
      "🟩 REKOMENDASI:\n",
      "Segera perbaiki armada tidak layak dan jadwal yang tidak konsisten. Lakukan pelatihan ulang bagi pengemudi dan evaluasi kebutuhan perluasan rute.\n",
      "\n",
      "Kesimpulan: Sentimen publik terhadap sektor transportasi publik tergolong negatif. Respons warga mengindikasikan adanya ketidak\n",
      "====================================================================================================\n",
      "🟦 KESIMPULAN (3):\n",
      "Pandangan masyarakat terhadap sektor layanan perpustakaan bersifat netral. Sebagian besar tanggapan menunjukkan sikap yang tidak condong kuat ke arah positif atau negatif, seperti: Tidak ada komplain besar, tapi juga tidak dianggap luar biasa.\n",
      "🟩 REKOMENDASI:\n",
      "Tingkatkan komunikasi, akses, dan kualitas agar persepsi publik menjadi lebih positif.\n",
      "\n",
      "Kesimpulan: Opini publik terhadap sektor layanan kesehatan menunjukkan kecenderungan positif. Hal ini tercermin dari respon masyarakat seperti: Fasilitas rawat inap kini le\n",
      "====================================================================================================\n",
      "🟦 KESIMPULAN (4):\n",
      "Sentimen publik terhadap sektor transportasi publik tergolong negatif. Respons warga mengindikasikan adanya ketidakpuasan, misalnya: Warga mengeluhkan keterlambatan dan kondisi armada yang tidak layak.\n",
      "🟩 REKOMENDASI:\n",
      "Segera perbaiki armada tidak layak dan jadwal yang tidak konsisten. Lakukan pelatihan ulang bagi pengemudi dan evaluasi kebutuhan perluasan rute.\n",
      "\n",
      "Kesimpulan: Sentimen publik terhadap sektor transportasi publik tergolong negatif. Respons warga mengindikasikan adanya ketidak\n",
      "====================================================================================================\n",
      "🟦 KESIMPULAN (5):\n",
      "Sentimen publik terhadap sektor transportasi publik tergolong negatif. Respons warga mengindikasikan adanya ketidakpuasan, misalnya: Jadwal keberangkatan tidak konsisten dan membingungkan penumpang.\n",
      "🟩 REKOMENDASI:\n",
      "Reformasi prosedur agar lebih sederhana dan transparan. Perkuat pengawasan untuk memberantas pungli serta latih petugas pelayanan publik agar lebih responsif.\n",
      "\n",
      "Kesimpulan: Sentimen publik terhadap sektor transportasi publik tergolong negatif. Respons warga mengindikasikan adanya ketid\n",
      "====================================================================================================\n",
      "🟦 KESIMPULAN (6):\n",
      "Pandangan masyarakat terhadap sektor layanan perpustakaan bersifat netral. Sebagian besar tanggapan menunjukkan sikap yang tidak condong kuat ke arah positif atau negatif, seperti: Pengunjung merasa layanan berjalan seperti biasa.\n",
      "🟩 REKOMENDASI:\n",
      "Aktifkan promosi layanan agar masyarakat menyadari potensi perpustakaan. Integrasikan dengan program sekolah dan komunitas lokal.\n",
      "\n",
      "Kesimpulan: Pandangan masyarakat terhadap sektor layanan perpustakaan bersifat netral. Sebagian besar tanggapan menunjukkan sikap yang tidak cond\n",
      "====================================================================================================\n",
      "🟦 KESIMPULAN (7):\n",
      "Opini publik terhadap sektor layanan pendidikan menunjukkan kecenderungan positif. Hal ini tercermin dari respon masyarakat seperti: Guru dianggap lebih aktif membimbing siswa selama pembelajaran.\n",
      "🟩 REKOMENDASI:\n",
      "Lanjutkan peningkatan kualitas guru dan infrastruktur sekolah. Fokuskan perluasan program beasiswa dan digitalisasi materi ajar.\n",
      "\n",
      "Kesimpulan: Opini publik terhadap sektor layanan pendidikan menunjukkan kecenderungan positif. Hal ini tercermin dari respon masyarakat seperti: Guru di\n",
      "====================================================================================================\n",
      "🟦 KESIMPULAN (8):\n",
      "Sentimen publik terhadap sektor pengurusan dokumen tergolong negatif. Respons warga mengindikasikan adanya ketidakpuasan, misalnya: Petugas tidak ramah dan kurang membantu.\n",
      "🟩 REKOMENDASI:\n",
      "Reformasi prosedur agar lebih sederhana dan transparan. Perkuat pengawasan untuk memberantas pungli serta latih petugas pelayanan publik agar lebih responsif.\n",
      "\n",
      "Kesimpulan: Sentimen publik terhadap sektor pengurusan dokumen tergolong negatif. Respons warga mengindikasikan ad\n",
      "====================================================================================================\n",
      "🟦 KESIMPULAN (9):\n",
      "Sentimen publik terhadap sektor pengurusan dokumen tergolong negatif. Respons warga mengindikasikan adanya ketidakpuasan, misalnya: Informasi prosedur kurang jelas dan membingungkan.\n",
      "🟩 REKOMENDASI:\n",
      "Reformasi prosedur agar lebih sederhana dan transparan. Perkuat pengawasan untuk memberantas pungli serta latih petugas pelayanan publik agar lebih responsif.\n",
      "\n",
      "Kesimpulan: Sentimen publik terhadap sektor pengurusan dokumen tergolong negatif. Respons warga mengindikasikan ad\n",
      "====================================================================================================\n",
      "🟦 KESIMPULAN (10):\n",
      "Sentimen publik terhadap sektor transportasi publik tergolong negatif. Respons warga mengindikasikan adanya ketidakpuasan, misalnya: Terdapat persepsi bahwa akses transportasi tidak merata di seluruh wilayah.\n",
      "🟩 REKOMENDASI:\n",
      "Segera perbaiki armada tidak layak dan jadwal yang tidak konsisten. Lakukan pelatihan ulang bagi pengemudi dan evaluasi kebutuhan perluasan rute.\n",
      "\n",
      "Kesimpulan: Sentimen publik terhadap sektor transportasi publik tergolong negatif. Respons warga mengindikasikan adanya ketidak\n",
      "====================================================================================================\n"
     ]
    }
   ],
   "source": [
    "# === Konfigurasi ===\n",
    "MODEL_PATH = \"models/llm_generator/Sentimen Publik/gpt2-kebijakan-sentimen-publik-500-finetuned\"\n",
    "DATA_PATH = \"data/processed/Sentimen Publik/dataset_narasi_kebijakan_sentimen.txt\"\n",
    "DEVICE = \"cpu\"  # Ubah ke 'cuda' jika pakai GPU\n",
    "MAX_SAMPLES = 10  # Batasi jumlah sampel untuk prediksi\n",
    "\n",
    "# === Load Model dan Tokenizer ===\n",
    "def load_model_and_tokenizer(model_path, device=\"cpu\"):\n",
    "    print(f\"🚀 Loading model from: {model_path}\\n\")\n",
    "    tokenizer = AutoTokenizer.from_pretrained(model_path)\n",
    "    model = AutoModelForCausalLM.from_pretrained(model_path)\n",
    "    model.to(device)\n",
    "    print(\"✅ Model dan tokenizer berhasil dimuat.\")\n",
    "    return model, tokenizer\n",
    "\n",
    "# === Load Kesimpulan dari File ===\n",
    "def load_kesimpulan(file_path):\n",
    "    if not os.path.exists(file_path):\n",
    "        raise FileNotFoundError(f\"File tidak ditemukan: {file_path}\")\n",
    "    \n",
    "    kesimpulan_list = []\n",
    "    with open(file_path, 'r', encoding='utf-8') as f:\n",
    "        text = f.read()\n",
    "    \n",
    "    entries = text.strip().split('\\n\\n')\n",
    "    for entry in entries:\n",
    "        if \"Kesimpulan:\" in entry and \"Rekomendasi Kebijakan:\" in entry:\n",
    "            try:\n",
    "                kesimpulan = entry.split(\"Kesimpulan:\")[1].split(\"Rekomendasi Kebijakan:\")[0].strip()\n",
    "                kesimpulan_list.append(kesimpulan)\n",
    "            except IndexError:\n",
    "                continue\n",
    "\n",
    "    print(f\"✅ Total kesimpulan yang berhasil dimuat: {len(kesimpulan_list)}\\n\")\n",
    "    \n",
    "    return kesimpulan_list\n",
    "\n",
    "# === Generate Rekomendasi ===\n",
    "def generate_rekomendasi(model, tokenizer, kesimpulan, device=\"cpu\"):\n",
    "    prompt = f\"Kesimpulan: {kesimpulan}\\nRekomendasi Penanganan:\"\n",
    "    inputs = tokenizer.encode_plus(prompt,\n",
    "                                   return_tensors=\"pt\",\n",
    "                                   padding=True,\n",
    "                                   truncation=True)\n",
    "    input_ids = inputs[\"input_ids\"].to(device)\n",
    "    attention_mask = inputs[\"attention_mask\"].to(device)\n",
    "\n",
    "    output = model.generate(\n",
    "        input_ids=input_ids,\n",
    "        attention_mask=attention_mask,\n",
    "        max_new_tokens=100,\n",
    "        do_sample=True,\n",
    "        top_k=50,\n",
    "        top_p=0.95,\n",
    "        temperature=0.7,\n",
    "        pad_token_id=tokenizer.eos_token_id\n",
    "    )\n",
    "\n",
    "    decoded = tokenizer.decode(output[0], skip_special_tokens=True)\n",
    "    rekomendasi = decoded.replace(prompt, \"\").strip()\n",
    "    return rekomendasi\n",
    "\n",
    "# === Main ===\n",
    "def main():\n",
    "    model, tokenizer = load_model_and_tokenizer(MODEL_PATH, DEVICE)\n",
    "    kesimpulan_list = load_kesimpulan(DATA_PATH)\n",
    "\n",
    "    for i, kesimpulan in enumerate(kesimpulan_list[:MAX_SAMPLES]):\n",
    "        rekomendasi = generate_rekomendasi(model, tokenizer, kesimpulan, DEVICE)\n",
    "        print(f\"🟦 KESIMPULAN ({i+1}):\\n{kesimpulan}\")\n",
    "        print(f\"🟩 REKOMENDASI:\\n{rekomendasi}\")\n",
    "        print(\"=\" * 100)\n",
    "\n",
    "if __name__ == \"__main__\":\n",
    "    main()"
   ]
  }
 ],
 "metadata": {
  "environment": {
   "kernel": "conda-base-py",
   "name": "workbench-notebooks.m129",
   "type": "gcloud",
   "uri": "us-docker.pkg.dev/deeplearning-platform-release/gcr.io/workbench-notebooks:m129"
  },
  "kernelspec": {
   "display_name": "Python 3 (ipykernel)",
   "language": "python",
   "name": "conda-base-py"
  },
  "language_info": {
   "codemirror_mode": {
    "name": "ipython",
    "version": 3
   },
   "file_extension": ".py",
   "mimetype": "text/x-python",
   "name": "python",
   "nbconvert_exporter": "python",
   "pygments_lexer": "ipython3",
   "version": "3.10.16"
  }
 },
 "nbformat": 4,
 "nbformat_minor": 5
}
