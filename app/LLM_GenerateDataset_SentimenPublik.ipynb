{
 "cells": [
  {
   "cell_type": "code",
   "execution_count": 6,
   "id": "c0c1e0c4-adf9-4abf-aa2d-1db41539d2e1",
   "metadata": {},
   "outputs": [],
   "source": [
    "import random\n",
    "import os"
   ]
  },
  {
   "cell_type": "code",
   "execution_count": 25,
   "id": "afc8f787-d1ae-4f8a-bd21-bea1dc711884",
   "metadata": {},
   "outputs": [
    {
     "name": "stdout",
     "output_type": "stream",
     "text": [
      "✅ Berhasil berpindah ke direktori: /home/jupyter\n"
     ]
    }
   ],
   "source": [
    "base_path = '/home/jupyter'\n",
    "\n",
    "# Cek dan ubah direktori kerja\n",
    "if os.path.exists(base_path):\n",
    "    os.chdir(base_path)\n",
    "    print(f\"✅ Berhasil berpindah ke direktori: {os.getcwd()}\")\n",
    "else:\n",
    "    print(f\"❌ Path tidak ditemukan: {target_path}\")"
   ]
  },
  {
   "cell_type": "code",
   "execution_count": 40,
   "id": "d1d7fa1e-e9b7-418b-b025-a750fc381983",
   "metadata": {
    "tags": []
   },
   "outputs": [],
   "source": [
    "struktur_sentimen_publik = [\n",
    "    {\n",
    "        \"sentimen\": \"positif\",\n",
    "        \"interpretasi_list\": [\n",
    "            {\n",
    "                \"sektor_pelayanan\": \"layanan kesehatan\",\n",
    "                \"insight\": [\n",
    "                    \"Masyarakat puas dengan peningkatan layanan di puskesmas dan rumah sakit daerah\",\n",
    "                    \"Program vaksinasi atau BPJS diapresiasi dan dianggap berjalan baik\",\n",
    "                    \"Petugas medis dinilai ramah dan sigap dalam menangani pasien\",\n",
    "                    \"Fasilitas rawat inap kini lebih bersih dan nyaman dibandingkan sebelumnya\",\n",
    "                    \"Pendaftaran online mengurangi waktu tunggu dan memudahkan pasien\"\n",
    "                ]\n",
    "            },\n",
    "            {\n",
    "                \"sektor_pelayanan\": \"layanan pendidikan\",\n",
    "                \"insight\": [\n",
    "                    \"Guru dianggap lebih aktif membimbing siswa selama pembelajaran\",\n",
    "                    \"Program beasiswa dianggap membantu keluarga tidak mampu\",\n",
    "                    \"Fasilitas sekolah seperti perpustakaan dan laboratorium membaik\",\n",
    "                    \"Digitalisasi kelas dan materi ajar diterima baik oleh siswa dan orang tua\",\n",
    "                    \"Kurikulum dinilai lebih relevan dengan kebutuhan zaman\"\n",
    "                ]\n",
    "            }\n",
    "        ]\n",
    "    },\n",
    "    {\n",
    "        \"sentimen\": \"negatif\",\n",
    "        \"interpretasi_list\": [\n",
    "            {\n",
    "                \"sektor_pelayanan\": \"transportasi publik\",\n",
    "                \"insight\": [\n",
    "                    \"Warga mengeluhkan keterlambatan dan kondisi armada yang tidak layak\",\n",
    "                    \"Terdapat persepsi bahwa akses transportasi tidak merata di seluruh wilayah\",\n",
    "                    \"Pengemudi dinilai kurang ramah dan tidak disiplin\",\n",
    "                    \"Kondisi halte atau terminal kurang bersih dan minim keamanan\",\n",
    "                    \"Jadwal keberangkatan tidak konsisten dan membingungkan penumpang\"\n",
    "                ]\n",
    "            },\n",
    "            {\n",
    "                \"sektor_pelayanan\": \"pengurusan dokumen\",\n",
    "                \"insight\": [\n",
    "                    \"Proses terlalu lambat dan birokrasi berbelit\",\n",
    "                    \"Petugas tidak ramah dan kurang membantu\",\n",
    "                    \"Warga harus datang berulang kali karena sistem sering error\",\n",
    "                    \"Informasi prosedur kurang jelas dan membingungkan\",\n",
    "                    \"Biaya tak resmi atau pungli masih dilaporkan oleh masyarakat\"\n",
    "                ]\n",
    "            }\n",
    "        ]\n",
    "    },\n",
    "    {\n",
    "        \"sentimen\": \"netral\",\n",
    "        \"interpretasi_list\": [\n",
    "            {\n",
    "                \"sektor_pelayanan\": \"pengurusan administrasi kependudukan\",\n",
    "                \"insight\": [\n",
    "                    \"Masyarakat tidak terlalu mempermasalahkan proses yang ada, namun juga tidak menunjukkan antusiasme\",\n",
    "                    \"Beberapa warga menganggap proses berjalan standar, belum ada terobosan berarti\",\n",
    "                    \"Proses berlangsung sesuai prosedur, meski tanpa inovasi yang menonjol\",\n",
    "                    \"Layanan cukup informatif tapi kurang interaktif\",\n",
    "                    \"Tidak banyak keluhan, namun juga tidak ada pujian\"\n",
    "                ]\n",
    "            },\n",
    "            {\n",
    "                \"sektor_pelayanan\": \"layanan perpustakaan\",\n",
    "                \"insight\": [\n",
    "                    \"Pengunjung merasa layanan berjalan seperti biasa\",\n",
    "                    \"Buku-buku tersedia cukup lengkap, walau koleksi tidak terlalu diperbarui\",\n",
    "                    \"Petugas cukup membantu, namun tidak proaktif\",\n",
    "                    \"Fasilitas cukup, tapi tidak terlalu menarik perhatian masyarakat\",\n",
    "                    \"Tidak ada komplain besar, tapi juga tidak dianggap luar biasa\"\n",
    "                ]\n",
    "            }\n",
    "        ]\n",
    "    }\n",
    "]"
   ]
  },
  {
   "cell_type": "code",
   "execution_count": 41,
   "id": "a32ec407-1eaa-41d4-8094-df9b6ff4518e",
   "metadata": {
    "tags": []
   },
   "outputs": [],
   "source": [
    "import json\n",
    "\n",
    "# Simpan ke file JSON\n",
    "with open(\"data/processed/Sentimen Publik/data_sentimen_publik.json\", \"w\", encoding=\"utf-8\") as f:\n",
    "    json.dump(struktur_sentimen_publik, f, indent=4, ensure_ascii=False)"
   ]
  },
  {
   "cell_type": "code",
   "execution_count": 42,
   "id": "9f44b8ed-61fc-40c0-882c-6da2760dd011",
   "metadata": {
    "tags": []
   },
   "outputs": [],
   "source": [
    "def buat_kesimpulan_sentimen(sentimen_label, struktur_data, sektor_teks=None):\n",
    "    sentimen_label = sentimen_label.lower()\n",
    "\n",
    "    for entri in struktur_data:\n",
    "        if entri[\"sentimen\"] == sentimen_label:\n",
    "            interpretasi_list = entri[\"interpretasi_list\"]\n",
    "\n",
    "            # Filter berdasarkan sektor jika ada\n",
    "            if sektor_teks:\n",
    "                interpretasi_list = [i for i in interpretasi_list if sektor_teks in i[\"sektor_pelayanan\"].lower()]\n",
    "                if not interpretasi_list:\n",
    "                    interpretasi_list = entri[\"interpretasi_list\"]\n",
    "\n",
    "            interpretasi = random.choice(interpretasi_list)\n",
    "            sektor = interpretasi[\"sektor_pelayanan\"]\n",
    "            insight = random.choice(interpretasi[\"insight\"])\n",
    "\n",
    "            if sentimen_label == \"positif\":\n",
    "                return f\"Opini publik terhadap sektor {sektor} menunjukkan kecenderungan positif. Hal ini tercermin dari respon masyarakat seperti: {insight}.\"\n",
    "\n",
    "            elif sentimen_label == \"negatif\":\n",
    "                return f\"Sentimen publik terhadap sektor {sektor} tergolong negatif. Respons warga mengindikasikan adanya ketidakpuasan, misalnya: {insight}.\"\n",
    "\n",
    "            elif sentimen_label == \"netral\":\n",
    "                return f\"Pandangan masyarakat terhadap sektor {sektor} bersifat netral. Sebagian besar tanggapan menunjukkan sikap yang tidak condong kuat ke arah positif atau negatif, seperti: {insight}.\"\n",
    "\n",
    "    return \"Data sentimen tidak ditemukan atau tidak sesuai.\""
   ]
  },
  {
   "cell_type": "code",
   "execution_count": 43,
   "id": "52df392c-25d6-4813-a27d-5ae959f3c4e2",
   "metadata": {
    "tags": []
   },
   "outputs": [
    {
     "name": "stdout",
     "output_type": "stream",
     "text": [
      "Opini publik terhadap sektor layanan kesehatan menunjukkan kecenderungan positif. Hal ini tercermin dari respon masyarakat seperti: Petugas medis dinilai ramah dan sigap dalam menangani pasien.\n"
     ]
    }
   ],
   "source": [
    "print(buat_kesimpulan_sentimen(\"positif\", struktur_sentimen_publik, sektor_teks=\"layanan kesehatan\"))"
   ]
  },
  {
   "cell_type": "code",
   "execution_count": 44,
   "id": "79ac9a9e-c171-47e9-b4a7-76b49475268a",
   "metadata": {
    "tags": []
   },
   "outputs": [],
   "source": [
    "def get_rekomendasi_kebijakan_sentimen_publik(sentimen, sektor):\n",
    "    sentimen = sentimen.lower()\n",
    "    sektor = sektor.lower()\n",
    "\n",
    "    # Kamus rekomendasi spesifik\n",
    "    rekomendasi_map = {\n",
    "        \"layanan kesehatan\": {\n",
    "            \"positif\": (\n",
    "                \"Pertahankan kualitas pelayanan medis dan perluas cakupan program seperti BPJS dan vaksinasi. \"\n",
    "                \"Lakukan dokumentasi praktik baik sebagai model untuk wilayah lain.\"\n",
    "            ),\n",
    "            \"negatif\": (\n",
    "                \"Lakukan audit menyeluruh terhadap fasilitas kesehatan, termasuk ketersediaan tenaga medis dan peralatan. \"\n",
    "                \"Tingkatkan pelatihan SDM dan perbaiki sistem antrean serta layanan gawat darurat.\"\n",
    "            ),\n",
    "            \"netral\": (\n",
    "                \"Tingkatkan komunikasi publik mengenai manfaat layanan kesehatan. \"\n",
    "                \"Kembangkan inovasi pelayanan berbasis digital untuk menarik partisipasi lebih aktif dari masyarakat.\"\n",
    "            ),\n",
    "        },\n",
    "        \"transportasi publik\": {\n",
    "            \"positif\": (\n",
    "                \"Skalakan model layanan transportasi yang telah berhasil ke rute lain. \"\n",
    "                \"Pertahankan jadwal tepat waktu dan kondisi armada yang baik.\"\n",
    "            ),\n",
    "            \"negatif\": (\n",
    "                \"Segera perbaiki armada tidak layak dan jadwal yang tidak konsisten. \"\n",
    "                \"Lakukan pelatihan ulang bagi pengemudi dan evaluasi kebutuhan perluasan rute.\"\n",
    "            ),\n",
    "            \"netral\": (\n",
    "                \"Lakukan survei pengguna untuk mengetahui prioritas perbaikan layanan. \"\n",
    "                \"Tingkatkan pengalaman pengguna dengan sistem informasi real-time.\"\n",
    "            ),\n",
    "        },\n",
    "        \"layanan pendidikan\": {\n",
    "            \"positif\": (\n",
    "                \"Lanjutkan peningkatan kualitas guru dan infrastruktur sekolah. \"\n",
    "                \"Fokuskan perluasan program beasiswa dan digitalisasi materi ajar.\"\n",
    "            ),\n",
    "            \"negatif\": (\n",
    "                \"Evaluasi kurikulum dan dukungan sarana belajar terutama di sekolah pinggiran. \"\n",
    "                \"Perbaiki distribusi guru dan fasilitas untuk menciptakan pemerataan kualitas.\"\n",
    "            ),\n",
    "            \"netral\": (\n",
    "                \"Bangun forum aspirasi antara sekolah, siswa, dan orang tua untuk mendengar kebutuhan aktual. \"\n",
    "                \"Dorong inovasi kecil yang membangun keterlibatan.\"\n",
    "            ),\n",
    "        },\n",
    "        \"pengurusan dokumen\": {\n",
    "            \"positif\": (\n",
    "                \"Kembangkan sistem daring (online) lebih lanjut dan integrasi lintas instansi untuk efisiensi. \"\n",
    "                \"Jadikan pelayanan sebagai model reformasi birokrasi digital.\"\n",
    "            ),\n",
    "            \"negatif\": (\n",
    "                \"Reformasi prosedur agar lebih sederhana dan transparan. \"\n",
    "                \"Perkuat pengawasan untuk memberantas pungli serta latih petugas pelayanan publik agar lebih responsif.\"\n",
    "            ),\n",
    "            \"netral\": (\n",
    "                \"Sosialisasikan alur layanan yang jelas dan kembangkan sistem antrean terjadwal. \"\n",
    "                \"Buka kanal feedback publik yang langsung ditindaklanjuti.\"\n",
    "            ),\n",
    "        },\n",
    "        \"layanan perpustakaan\": {\n",
    "            \"positif\": (\n",
    "                \"Lanjutkan dukungan koleksi berkualitas dan kegiatan literasi. \"\n",
    "                \"Perluas akses digital serta jam layanan yang fleksibel.\"\n",
    "            ),\n",
    "            \"negatif\": (\n",
    "                \"Segarkan koleksi, perbaiki fasilitas fisik, dan jadikan perpustakaan sebagai pusat kegiatan komunitas. \"\n",
    "                \"Berdayakan petugas agar lebih proaktif dan ramah.\"\n",
    "            ),\n",
    "            \"netral\": (\n",
    "                \"Aktifkan promosi layanan agar masyarakat menyadari potensi perpustakaan. \"\n",
    "                \"Integrasikan dengan program sekolah dan komunitas lokal.\"\n",
    "            ),\n",
    "        }\n",
    "    }\n",
    "\n",
    "    # Fallback umum jika sektor tidak dikenal\n",
    "    default_rekomendasi = {\n",
    "        \"positif\": (\n",
    "            \"Pertahankan kualitas layanan yang sudah diapresiasi masyarakat dan jadikan sebagai model replikasi.\"\n",
    "        ),\n",
    "        \"negatif\": (\n",
    "            \"Segera lakukan evaluasi mendalam dan perbaiki area kritis yang menjadi sorotan publik.\"\n",
    "        ),\n",
    "        \"netral\": (\n",
    "            \"Tingkatkan komunikasi, akses, dan kualitas agar persepsi publik menjadi lebih positif.\"\n",
    "        )\n",
    "    }\n",
    "\n",
    "    if sektor in rekomendasi_map and sentimen in rekomendasi_map[sektor]:\n",
    "        return rekomendasi_map[sektor][sentimen]\n",
    "    elif sentimen in default_rekomendasi:\n",
    "        return default_rekomendasi[sentimen]\n",
    "    else:\n",
    "        return \"Belum ada rekomendasi spesifik untuk kombinasi sektor dan sentimen ini.\""
   ]
  },
  {
   "cell_type": "code",
   "execution_count": 45,
   "id": "91ff3865-796c-4b0b-985d-f65f5a4ab647",
   "metadata": {
    "tags": []
   },
   "outputs": [
    {
     "name": "stdout",
     "output_type": "stream",
     "text": [
      "Segera perbaiki armada tidak layak dan jadwal yang tidak konsisten. Lakukan pelatihan ulang bagi pengemudi dan evaluasi kebutuhan perluasan rute.\n"
     ]
    }
   ],
   "source": [
    "print(get_rekomendasi_kebijakan_sentimen_publik(\"negatif\", \"transportasi publik\"))"
   ]
  },
  {
   "cell_type": "code",
   "execution_count": 46,
   "id": "d2a06932-f2e8-4f68-a7f9-351994c1fc88",
   "metadata": {
    "tags": []
   },
   "outputs": [
    {
     "name": "stdout",
     "output_type": "stream",
     "text": [
      "Dataset narasi sentimen publik berhasil digenerate dan tersimpan.\n",
      "Waktu eksekusi: 0.01 detik\n"
     ]
    }
   ],
   "source": [
    "import time\n",
    "import random\n",
    "\n",
    "# Path output\n",
    "output_path = 'data/processed/Sentimen Publik/dataset_narasi_kebijakan_sentimen.txt'\n",
    "total_data = 500\n",
    "generated = 0\n",
    "\n",
    "start_time = time.time()\n",
    "\n",
    "with open(output_path, 'w', encoding='utf-8') as f:\n",
    "    while generated < total_data:\n",
    "        # Pilih sentimen secara acak\n",
    "        sentimen = random.choice([\"positif\", \"negatif\", \"netral\"])\n",
    "\n",
    "        # Buat narasi/kesimpulan dari struktur\n",
    "        kesimpulan = buat_kesimpulan_sentimen(sentimen, struktur_sentimen_publik)\n",
    "\n",
    "        # Ambil sektor dari kesimpulan\n",
    "        sektor_found = None\n",
    "        for entri in struktur_sentimen_publik:\n",
    "            for interpretasi in entri[\"interpretasi_list\"]:\n",
    "                if interpretasi[\"sektor_pelayanan\"].lower() in kesimpulan.lower():\n",
    "                    sektor_found = interpretasi[\"sektor_pelayanan\"].lower()\n",
    "                    break\n",
    "            if sektor_found:\n",
    "                break\n",
    "\n",
    "        if not sektor_found:\n",
    "            continue  # Lewati jika sektor tidak ditemukan\n",
    "\n",
    "        # Dapatkan rekomendasi kebijakan berdasarkan sentimen dan sektor\n",
    "        rekomendasi = get_rekomendasi_kebijakan_sentimen_publik(sentimen, sektor_found)\n",
    "\n",
    "        # Lewati jika tidak ada rekomendasi relevan\n",
    "        if \"tidak ditemukan\" in rekomendasi.lower():\n",
    "            continue\n",
    "\n",
    "        # Gabungkan sebagai satu narasi final\n",
    "        final_narasi = (\n",
    "            f\"Kesimpulan: {kesimpulan}\\n\"\n",
    "            f\"Rekomendasi Kebijakan: {rekomendasi}\\n\\n\"\n",
    "        )\n",
    "\n",
    "        # Simpan ke file\n",
    "        f.write(final_narasi)\n",
    "        generated += 1\n",
    "\n",
    "print(\"Dataset narasi sentimen publik berhasil digenerate dan tersimpan.\")\n",
    "print(f\"Waktu eksekusi: {time.time() - start_time:.2f} detik\")"
   ]
  },
  {
   "cell_type": "code",
   "execution_count": 47,
   "id": "26a1c927-1aa3-41c0-a7a6-418e4ba83033",
   "metadata": {
    "tags": []
   },
   "outputs": [
    {
     "name": "stdout",
     "output_type": "stream",
     "text": [
      "Kesimpulan: Pandangan masyarakat terhadap sektor pengurusan administrasi kependudukan bersifat netral. Sebagian besar tanggapan menunjukkan sikap yang tidak condong kuat ke arah positif atau negatif, seperti: Masyarakat tidak terlalu mempermasalahkan proses yang ada, namun juga tidak menunjukkan antusiasme.\n",
      "Rekomendasi Kebijakan: Tingkatkan komunikasi, akses, dan kualitas agar persepsi publik menjadi lebih positif.\n",
      "\n",
      "Kesimpulan: Sentimen publik terhadap sektor transportasi publik tergolong negatif. Respons warga mengindikasikan adanya ketidakpuasan, misalnya: Pengemudi dinilai kurang ramah dan tidak disiplin.\n",
      "Rekomendasi Kebijakan: Segera perbaiki armada tidak layak dan jadwal yang tidak konsisten. Lakukan pelatihan ulang bagi pengemudi dan evaluasi kebutuhan perluasan rute.\n",
      "\n",
      "Kesimpulan: Pandangan masyarakat terhadap sektor layanan perpustakaan bersifat netral. Sebagian besar tanggapan menunjukkan sikap yang tidak condong kuat ke arah positif atau negatif, seperti: Tidak ada komplain besar, tapi juga tidak dianggap luar biasa.\n",
      "Rekomendasi Kebijakan: Aktifkan promosi layanan agar masyarakat menyadari potensi perpustakaan. Integrasikan dengan program sekolah dan komunitas lokal.\n",
      "\n",
      "Kesimpulan: Sentimen publik terhadap sektor transportasi publik tergolong negatif. Respons warga mengindikasikan adanya ketidakpuasan, misalnya: Warga mengeluhkan keterlambatan dan kondisi armada yang tidak layak.\n",
      "Rekomendasi Kebijakan: Segera perbaiki armada tidak layak dan jadwal yang tidak konsisten. Lakukan pelatihan ulang bagi pengemudi dan evaluasi kebutuhan perluasan rute.\n",
      "\n",
      "Kesimpulan: Sentimen publik terhadap sektor transportasi publik tergolong negatif. Respons warga mengindikasikan adanya ketidakpuasan, misalnya: Jadwal keberangkatan tidak konsisten dan membingungkan penumpang.\n",
      "Rekomendasi Kebijakan: Segera perbaiki armada tidak layak dan jadwal yang tidak konsisten. Lakukan pelatihan ulang bagi pengemudi dan evaluasi kebutuhan perluasan rute.\n",
      "\n",
      "Kesimpulan: Pandangan masyarakat terhadap sektor layanan perpustakaan bersifat netral. Sebagian besar tanggapan menunjukkan sikap yang tidak condong kuat ke arah positif atau negatif, seperti: Pengunjung merasa layanan berjalan seperti biasa.\n",
      "Rekomendasi Kebijakan: Aktifkan promosi layanan agar masyarakat menyadari potensi perpustakaan. Integrasikan dengan program sekolah dan komunitas lokal.\n",
      "\n",
      "Kesimpulan: Opini publik terhadap sektor layanan pendidikan menunjukkan kecenderungan positif. Hal ini tercermin dari respon masyarakat seperti: Guru dianggap lebih aktif membimbing siswa selama pembelajaran.\n",
      "Rekomendasi Kebijakan: Lanjutkan peningkatan kualitas guru dan infrastruktur sekolah. Fokuskan perluasan program beasiswa dan digitalisasi materi ajar.\n",
      "\n",
      "Kesimpulan: Sentimen publik terhadap sektor pengurusan dokumen tergolong negatif. Respons warga mengindikasikan adanya ketidakpuasan, misalnya: Petugas tidak ramah dan kurang membantu.\n",
      "Rekomendasi Kebijakan: Reformasi prosedur agar lebih sederhana dan transparan. Perkuat pengawasan untuk memberantas pungli serta latih petugas pelayanan publik agar lebih responsif.\n",
      "\n",
      "Kesimpulan: Sentimen publik terhadap sektor pengurusan dokumen tergolong negatif. Respons warga mengindikasikan adanya ketidakpuasan, misalnya: Informasi prosedur kurang jelas dan membingungkan.\n",
      "Rekomendasi Kebijakan: Reformasi prosedur agar lebih sederhana dan transparan. Perkuat pengawasan untuk memberantas pungli serta latih petugas pelayanan publik agar lebih responsif.\n",
      "\n",
      "Kesimpulan: Sentimen publik terhadap sektor transportasi publik tergolong negatif. Respons warga mengindikasikan adanya ketidakpuasan, misalnya: Terdapat persepsi bahwa akses transportasi tidak merata di seluruh wilayah.\n",
      "Rekomendasi Kebijakan: Segera perbaiki armada tidak layak dan jadwal yang tidak konsisten. Lakukan pelatihan ulang bagi pengemudi dan evaluasi kebutuhan perluasan rute.\n",
      "\n",
      "Kesimpulan: Sentimen publik terhadap sektor transportasi publik tergolong negatif. Respons warga mengindikasikan adanya ketidakpuasan, misalnya: Kondisi halte atau terminal kurang bersih dan minim keamanan.\n",
      "Rekomendasi Kebijakan: Segera perbaiki armada tidak layak dan jadwal yang tidak konsisten. Lakukan pelatihan ulang bagi pengemudi dan evaluasi kebutuhan perluasan rute.\n",
      "\n",
      "Kesimpulan: Sentimen publik terhadap sektor transportasi publik tergolong negatif. Respons warga mengindikasikan adanya ketidakpuasan, misalnya: Terdapat persepsi bahwa akses transportasi tidak merata di seluruh wilayah.\n",
      "Rekomendasi Kebijakan: Segera perbaiki armada tidak layak dan jadwal yang tidak konsisten. Lakukan pelatihan ulang bagi pengemudi dan evaluasi kebutuhan perluasan rute.\n",
      "\n",
      "Kesimpulan: Sentimen publik terhadap sektor pengurusan dokumen tergolong negatif. Respons warga mengindikasikan adanya ketidakpuasan, misalnya: Warga harus datang berulang kali karena sistem sering error.\n",
      "Rekomendasi Kebijakan: Reformasi prosedur agar lebih sederhana dan transparan. Perkuat pengawasan untuk memberantas pungli serta latih petugas pelayanan publik agar lebih\n"
     ]
    }
   ],
   "source": [
    "with open(output_path, \"r\", encoding=\"utf-8\") as file:\n",
    "    isi = file.read()  # Baca semua isi file jadi satu string\n",
    "\n",
    "print(isi[:5000])"
   ]
  },
  {
   "cell_type": "code",
   "execution_count": 19,
   "id": "7f15001b-ab10-4ea1-931a-92fd944380bc",
   "metadata": {
    "tags": []
   },
   "outputs": [],
   "source": [
    "peta_sektor = {\n",
    "    \"layanan kesehatan\": [\"puskesmas\", \"rumah sakit\", \"dokter\", \"vaksin\", \"bpjs\"],\n",
    "    \"transportasi publik\": [\"angkot\", \"bus\", \"kereta\", \"halte\", \"terminal\", \"transportasi\"],\n",
    "    \"layanan pendidikan\": [\"sekolah\", \"guru\", \"siswa\", \"beasiswa\", \"kelas\", \"belajar\"],\n",
    "    \"pengurusan dokumen\": [\"ktp\", \"kk\", \"akta\", \"dokumen\", \"capil\", \"surat\"],\n",
    "    \"pengurusan administrasi kependudukan\": [\"disdukcapil\", \"nik\", \"kependudukan\"],\n",
    "    \"layanan perpustakaan\": [\"buku\", \"perpustakaan\", \"bacaan\", \"koleksi\"]\n",
    "}"
   ]
  },
  {
   "cell_type": "code",
   "execution_count": 20,
   "id": "b921515d-1942-4103-a150-c4028ea6c6f6",
   "metadata": {
    "tags": []
   },
   "outputs": [],
   "source": [
    "def deteksi_sektor(teks):\n",
    "    teks = teks.lower()\n",
    "    for sektor, keyword_list in peta_sektor.items():\n",
    "        if any(kata in teks for kata in keyword_list):\n",
    "            return sektor\n",
    "    return None  # jika tidak terdeteksi"
   ]
  },
  {
   "cell_type": "code",
   "execution_count": 22,
   "id": "34e180ce-a94a-46db-b1ac-9608abf8b479",
   "metadata": {
    "tags": []
   },
   "outputs": [
    {
     "name": "stderr",
     "output_type": "stream",
     "text": [
      "2025-06-11 04:36:31.896312: E external/local_xla/xla/stream_executor/cuda/cuda_fft.cc:467] Unable to register cuFFT factory: Attempting to register factory for plugin cuFFT when one has already been registered\n",
      "WARNING: All log messages before absl::InitializeLog() is called are written to STDERR\n",
      "E0000 00:00:1749616592.225557   41508 cuda_dnn.cc:8579] Unable to register cuDNN factory: Attempting to register factory for plugin cuDNN when one has already been registered\n",
      "E0000 00:00:1749616592.320589   41508 cuda_blas.cc:1407] Unable to register cuBLAS factory: Attempting to register factory for plugin cuBLAS when one has already been registered\n",
      "W0000 00:00:1749616593.101957   41508 computation_placer.cc:177] computation placer already registered. Please check linkage and avoid linking the same target more than once.\n",
      "W0000 00:00:1749616593.102002   41508 computation_placer.cc:177] computation placer already registered. Please check linkage and avoid linking the same target more than once.\n",
      "W0000 00:00:1749616593.102005   41508 computation_placer.cc:177] computation placer already registered. Please check linkage and avoid linking the same target more than once.\n",
      "W0000 00:00:1749616593.102007   41508 computation_placer.cc:177] computation placer already registered. Please check linkage and avoid linking the same target more than once.\n",
      "2025-06-11 04:36:33.185743: I tensorflow/core/platform/cpu_feature_guard.cc:210] This TensorFlow binary is optimized to use available CPU instructions in performance-critical operations.\n",
      "To enable the following instructions: AVX2 FMA, in other operations, rebuild TensorFlow with the appropriate compiler flags.\n"
     ]
    }
   ],
   "source": [
    "import numpy as np\n",
    "from tensorflow.keras.preprocessing.sequence import pad_sequences\n",
    "\n",
    "def prediksi_sentimen(teks):\n",
    "    seq = tokenizer.texts_to_sequences([teks])\n",
    "    padded = pad_sequences(seq, maxlen=max_length, padding='post')\n",
    "    pred = model.predict(padded)\n",
    "    label_index = np.argmax(pred, axis=1)[0]\n",
    "    skor = pred[0]\n",
    "    label_map = {0: 'negatif', 1: 'netral', 2: 'positif'}\n",
    "    label = label_map[label_index]\n",
    "    return label, skor"
   ]
  },
  {
   "cell_type": "code",
   "execution_count": null,
   "id": "a731ad56-81a2-4ab8-973f-82ad4f328122",
   "metadata": {},
   "outputs": [],
   "source": [
    "from tensorflow.keras.models import load_model\n",
    "from tensorflow.keras.preprocessing.text import Tokenizer\n",
    "\n",
    "model = load_model(\"models/sentimen_model.h5\")\n",
    "tokenizer = Tokenizer(num_words=5000)\n",
    "tokenizer.fit_on_texts(list_kalimat_training)\n",
    "max_length = 100"
   ]
  },
  {
   "cell_type": "code",
   "execution_count": 24,
   "id": "71aeedf4-dab6-4264-9d68-66152a91e594",
   "metadata": {
    "tags": []
   },
   "outputs": [
    {
     "ename": "NameError",
     "evalue": "name 'tokenizer' is not defined",
     "output_type": "error",
     "traceback": [
      "\u001b[0;31m---------------------------------------------------------------------------\u001b[0m",
      "\u001b[0;31mNameError\u001b[0m                                 Traceback (most recent call last)",
      "Cell \u001b[0;32mIn[24], line 2\u001b[0m\n\u001b[1;32m      1\u001b[0m kalimat \u001b[38;5;241m=\u001b[39m \u001b[38;5;124m\"\u001b[39m\u001b[38;5;124mSaya sangat terbantu dengan layanan vaksinasi di puskesmas\u001b[39m\u001b[38;5;124m\"\u001b[39m\n\u001b[0;32m----> 2\u001b[0m label_sentimen, _ \u001b[38;5;241m=\u001b[39m \u001b[43mprediksi_sentimen\u001b[49m\u001b[43m(\u001b[49m\u001b[43mkalimat\u001b[49m\u001b[43m)\u001b[49m\n\u001b[1;32m      3\u001b[0m sektor_terdeteksi \u001b[38;5;241m=\u001b[39m deteksi_sektor(kalimat)\n\u001b[1;32m      4\u001b[0m narasi \u001b[38;5;241m=\u001b[39m buat_kesimpulan_sentimen(label_sentimen, struktur_sentimen_publik, sektor_terdeteksi)\n",
      "Cell \u001b[0;32mIn[22], line 5\u001b[0m, in \u001b[0;36mprediksi_sentimen\u001b[0;34m(teks)\u001b[0m\n\u001b[1;32m      4\u001b[0m \u001b[38;5;28;01mdef\u001b[39;00m\u001b[38;5;250m \u001b[39m\u001b[38;5;21mprediksi_sentimen\u001b[39m(teks):\n\u001b[0;32m----> 5\u001b[0m     seq \u001b[38;5;241m=\u001b[39m \u001b[43mtokenizer\u001b[49m\u001b[38;5;241m.\u001b[39mtexts_to_sequences([teks])\n\u001b[1;32m      6\u001b[0m     padded \u001b[38;5;241m=\u001b[39m pad_sequences(seq, maxlen\u001b[38;5;241m=\u001b[39mmax_length, padding\u001b[38;5;241m=\u001b[39m\u001b[38;5;124m'\u001b[39m\u001b[38;5;124mpost\u001b[39m\u001b[38;5;124m'\u001b[39m)\n\u001b[1;32m      7\u001b[0m     pred \u001b[38;5;241m=\u001b[39m model\u001b[38;5;241m.\u001b[39mpredict(padded)\n",
      "\u001b[0;31mNameError\u001b[0m: name 'tokenizer' is not defined"
     ]
    }
   ],
   "source": [
    "kalimat = \"Saya sangat terbantu dengan layanan vaksinasi di puskesmas\"\n",
    "label_sentimen, _ = prediksi_sentimen(kalimat)\n",
    "sektor_terdeteksi = deteksi_sektor(kalimat)\n",
    "narasi = buat_kesimpulan_sentimen(label_sentimen, struktur_sentimen_publik, sektor_terdeteksi)\n",
    "\n",
    "print(narasi)"
   ]
  },
  {
   "cell_type": "code",
   "execution_count": null,
   "id": "3375aecd-c61c-49e7-a576-05d218b3f70b",
   "metadata": {},
   "outputs": [],
   "source": []
  }
 ],
 "metadata": {
  "environment": {
   "kernel": "conda-base-py",
   "name": "workbench-notebooks.m129",
   "type": "gcloud",
   "uri": "us-docker.pkg.dev/deeplearning-platform-release/gcr.io/workbench-notebooks:m129"
  },
  "kernelspec": {
   "display_name": "Python 3 (ipykernel)",
   "language": "python",
   "name": "conda-base-py"
  },
  "language_info": {
   "codemirror_mode": {
    "name": "ipython",
    "version": 3
   },
   "file_extension": ".py",
   "mimetype": "text/x-python",
   "name": "python",
   "nbconvert_exporter": "python",
   "pygments_lexer": "ipython3",
   "version": "3.10.16"
  }
 },
 "nbformat": 4,
 "nbformat_minor": 5
}
