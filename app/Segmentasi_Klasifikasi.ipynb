{
  "cells": [
    {
      "cell_type": "markdown",
      "metadata": {
        "id": "U-I95_XS-Ry5"
      },
      "source": [
        "## Klasifikasi Wilayah"
      ]
    },
    {
      "cell_type": "markdown",
      "metadata": {
        "id": "Q8Glmdf5-dzI"
      },
      "source": [
        "### 1. Import Library"
      ]
    },
    {
      "cell_type": "code",
      "execution_count": 21,
      "metadata": {
        "id": "3TRrm5jq-KVG"
      },
      "outputs": [],
      "source": [
        "import pandas as pd\n",
        "import numpy as np\n",
        "import matplotlib.pyplot as plt\n",
        "import seaborn as sns\n",
        "import os\n",
        "import joblib\n",
        "from sklearn.model_selection import train_test_split\n",
        "from sklearn.preprocessing import LabelEncoder, StandardScaler, MinMaxScaler\n",
        "from sklearn.neighbors import KNeighborsClassifier\n",
        "from sklearn.ensemble import RandomForestClassifier\n",
        "from sklearn.linear_model import LogisticRegression\n",
        "from imblearn.over_sampling import SMOTE\n",
        "from sklearn.metrics import confusion_matrix, accuracy_score, precision_score, recall_score, f1_score"
      ]
    },
    {
      "cell_type": "markdown",
      "metadata": {
        "id": "cH2pFvR--h3X"
      },
      "source": [
        "### 2. Dataset Understanding"
      ]
    },
    {
      "cell_type": "code",
      "execution_count": 22,
      "metadata": {
        "colab": {
          "base_uri": "https://localhost:8080/",
          "height": 206
        },
        "id": "UOlSseEu-mvA",
        "outputId": "3660029d-3a14-4954-e6b2-100c9aaf4244"
      },
      "outputs": [
        {
          "data": {
            "text/html": [
              "<div>\n",
              "<style scoped>\n",
              "    .dataframe tbody tr th:only-of-type {\n",
              "        vertical-align: middle;\n",
              "    }\n",
              "\n",
              "    .dataframe tbody tr th {\n",
              "        vertical-align: top;\n",
              "    }\n",
              "\n",
              "    .dataframe thead th {\n",
              "        text-align: right;\n",
              "    }\n",
              "</style>\n",
              "<table border=\"1\" class=\"dataframe\">\n",
              "  <thead>\n",
              "    <tr style=\"text-align: right;\">\n",
              "      <th></th>\n",
              "      <th>province</th>\n",
              "      <th>cities_reg</th>\n",
              "      <th>poorpeople_percentage</th>\n",
              "      <th>reg_gdp</th>\n",
              "      <th>life_exp</th>\n",
              "      <th>avg_schooltime</th>\n",
              "      <th>exp_percap</th>\n",
              "      <th>Cluster</th>\n",
              "    </tr>\n",
              "  </thead>\n",
              "  <tbody>\n",
              "    <tr>\n",
              "      <th>0</th>\n",
              "      <td>Aceh</td>\n",
              "      <td>Simeulue</td>\n",
              "      <td>18.98</td>\n",
              "      <td>2.275</td>\n",
              "      <td>65.240</td>\n",
              "      <td>9.48</td>\n",
              "      <td>7148.0</td>\n",
              "      <td>0</td>\n",
              "    </tr>\n",
              "    <tr>\n",
              "      <th>1</th>\n",
              "      <td>Aceh</td>\n",
              "      <td>Aceh Singkil</td>\n",
              "      <td>20.36</td>\n",
              "      <td>2.425</td>\n",
              "      <td>67.355</td>\n",
              "      <td>8.68</td>\n",
              "      <td>8776.0</td>\n",
              "      <td>0</td>\n",
              "    </tr>\n",
              "    <tr>\n",
              "      <th>2</th>\n",
              "      <td>Aceh</td>\n",
              "      <td>Aceh Selatan</td>\n",
              "      <td>13.18</td>\n",
              "      <td>5.531</td>\n",
              "      <td>64.360</td>\n",
              "      <td>8.88</td>\n",
              "      <td>8180.0</td>\n",
              "      <td>0</td>\n",
              "    </tr>\n",
              "    <tr>\n",
              "      <th>3</th>\n",
              "      <td>Aceh</td>\n",
              "      <td>Aceh Tenggara</td>\n",
              "      <td>13.41</td>\n",
              "      <td>5.063</td>\n",
              "      <td>68.155</td>\n",
              "      <td>9.67</td>\n",
              "      <td>8030.0</td>\n",
              "      <td>0</td>\n",
              "    </tr>\n",
              "    <tr>\n",
              "      <th>4</th>\n",
              "      <td>Aceh</td>\n",
              "      <td>Aceh Timur</td>\n",
              "      <td>14.45</td>\n",
              "      <td>10.616</td>\n",
              "      <td>68.705</td>\n",
              "      <td>8.21</td>\n",
              "      <td>8577.0</td>\n",
              "      <td>0</td>\n",
              "    </tr>\n",
              "  </tbody>\n",
              "</table>\n",
              "</div>"
            ],
            "text/plain": [
              "  province     cities_reg  poorpeople_percentage  reg_gdp  life_exp  \\\n",
              "0     Aceh       Simeulue                  18.98    2.275    65.240   \n",
              "1     Aceh   Aceh Singkil                  20.36    2.425    67.355   \n",
              "2     Aceh   Aceh Selatan                  13.18    5.531    64.360   \n",
              "3     Aceh  Aceh Tenggara                  13.41    5.063    68.155   \n",
              "4     Aceh     Aceh Timur                  14.45   10.616    68.705   \n",
              "\n",
              "   avg_schooltime  exp_percap  Cluster  \n",
              "0            9.48      7148.0        0  \n",
              "1            8.68      8776.0        0  \n",
              "2            8.88      8180.0        0  \n",
              "3            9.67      8030.0        0  \n",
              "4            8.21      8577.0        0  "
            ]
          },
          "execution_count": 22,
          "metadata": {},
          "output_type": "execute_result"
        }
      ],
      "source": [
        "df = pd.read_csv(\"../data/segmentasi_labelled_dataset.csv\")\n",
        "df.head()"
      ]
    },
    {
      "cell_type": "code",
      "execution_count": 23,
      "metadata": {
        "colab": {
          "base_uri": "https://localhost:8080/"
        },
        "id": "oYkkYpV4_OzQ",
        "outputId": "96aedb51-ab1b-488c-e5bc-7bd932675e64"
      },
      "outputs": [
        {
          "name": "stdout",
          "output_type": "stream",
          "text": [
            "<class 'pandas.core.frame.DataFrame'>\n",
            "RangeIndex: 514 entries, 0 to 513\n",
            "Data columns (total 8 columns):\n",
            " #   Column                 Non-Null Count  Dtype  \n",
            "---  ------                 --------------  -----  \n",
            " 0   province               514 non-null    object \n",
            " 1   cities_reg             514 non-null    object \n",
            " 2   poorpeople_percentage  514 non-null    float64\n",
            " 3   reg_gdp                514 non-null    float64\n",
            " 4   life_exp               514 non-null    float64\n",
            " 5   avg_schooltime         514 non-null    float64\n",
            " 6   exp_percap             514 non-null    float64\n",
            " 7   Cluster                514 non-null    int64  \n",
            "dtypes: float64(5), int64(1), object(2)\n",
            "memory usage: 32.2+ KB\n"
          ]
        }
      ],
      "source": [
        "df.info()"
      ]
    },
    {
      "cell_type": "markdown",
      "metadata": {
        "id": "8BHEJyIH-nBY"
      },
      "source": [
        "### 3. Preprocessing"
      ]
    },
    {
      "cell_type": "code",
      "execution_count": 24,
      "metadata": {
        "colab": {
          "base_uri": "https://localhost:8080/"
        },
        "id": "8lX7KXa2-saY",
        "outputId": "bcf0745e-1ed3-439a-e658-05213103f87f"
      },
      "outputs": [],
      "source": [
        "# Dataset yg digunakan adalah numerik\n",
        "numeric_column = df.select_dtypes(include=['float64']).columns\n",
        "numeric_fetures = df[numeric_column]\n",
        "\n",
        "# Standardisasi\n",
        "scaler = StandardScaler()\n",
        "numeric_fetures = scaler.fit_transform(numeric_fetures)"
      ]
    },
    {
      "cell_type": "code",
      "execution_count": 25,
      "metadata": {
        "id": "v_1A6qMsAaNx"
      },
      "outputs": [],
      "source": [
        "# Data Splitting\n",
        "X = numeric_fetures\n",
        "y = df['Cluster']\n",
        "\n",
        "# Split data ke train & test set\n",
        "X_train, X_test, y_train, y_test = train_test_split(X, y, test_size=0.2, random_state=42)"
      ]
    },
    {
      "cell_type": "code",
      "execution_count": 26,
      "metadata": {
        "id": "snJ9gXoMA1Np"
      },
      "outputs": [],
      "source": [
        "# Oversampling dengan SMOTE\n",
        "smote = SMOTE(sampling_strategy=0.8, random_state=42)\n",
        "X_train_resampled, y_train_resampled = smote.fit_resample(X_train, y_train)"
      ]
    },
    {
      "cell_type": "markdown",
      "metadata": {
        "id": "KKUo-gOF-uxz"
      },
      "source": [
        "### 4. Modelling"
      ]
    },
    {
      "cell_type": "code",
      "execution_count": 27,
      "metadata": {
        "id": "AOJjub_k-w7h"
      },
      "outputs": [],
      "source": [
        "# Inisialisasi Algoritma Klasifikasi\n",
        "knn = KNeighborsClassifier().fit(X_train_resampled,y_train_resampled)\n",
        "rf = LogisticRegression().fit(X_train_resampled,y_train_resampled)"
      ]
    },
    {
      "cell_type": "markdown",
      "metadata": {
        "id": "-MNISBlC-xmY"
      },
      "source": [
        "### 5. Evaluasi"
      ]
    },
    {
      "cell_type": "code",
      "execution_count": 28,
      "metadata": {
        "colab": {
          "base_uri": "https://localhost:8080/",
          "height": 559
        },
        "id": "mQY6EDdr-2ao",
        "outputId": "223ab073-56cb-42b7-dd7b-8756165ed995"
      },
      "outputs": [
        {
          "name": "stdout",
          "output_type": "stream",
          "text": [
            "                       Model  Accuracy  Precision  Recall  F1-Score\n",
            "0  K-Nearest Neighbors (KNN)  0.990291        1.0     0.5  0.666667\n",
            "1         Random Forest (RF)  0.990291        1.0     0.5  0.666667\n"
          ]
        },
        {
          "data": {
            "image/png": "[encoded data removed]",
            "text/plain": [
              "<Figure size 1200x500 with 4 Axes>"
            ]
          },
          "metadata": {},
          "output_type": "display_data"
        }
      ],
      "source": [
        "def evaluate_model(model, X_test, y_test, threshold=0.5):\n",
        "    # y_pred = model.predict(X_test)\n",
        "    y_probs = model.predict_proba(X_test)[:, 1]\n",
        "\n",
        "    # Terapkan threshold baru\n",
        "    y_pred = (y_probs >= threshold).astype(int)\n",
        "    cm = confusion_matrix(y_test, y_pred)\n",
        "    results = {\n",
        "        'Confusion Matrix': cm,\n",
        "        'Accuracy': accuracy_score(y_test, y_pred),\n",
        "        'Precision': precision_score(y_test, y_pred),\n",
        "        'Recall': recall_score(y_test, y_pred),\n",
        "        'F1-Score': f1_score(y_test, y_pred)\n",
        "    }\n",
        "    return results\n",
        "\n",
        "threshold_value = 0.5\n",
        "results = {\n",
        "    'K-Nearest Neighbors (KNN)': evaluate_model(knn, X_test, y_test, threshold=threshold_value),\n",
        "    'Random Forest (RF)': evaluate_model(rf, X_test, y_test, threshold=threshold_value),\n",
        "}\n",
        "\n",
        "# Buat DataFrame untuk meringkas hasil\n",
        "summary_df = pd.DataFrame(columns=['Model', 'Accuracy', 'Precision', 'Recall', 'F1-Score'])\n",
        "\n",
        "# Isi DataFrame dengan hasil\n",
        "rows = []\n",
        "for model_name, metrics in results.items():\n",
        "    rows.append({\n",
        "        'Model': model_name,\n",
        "        'Accuracy': metrics['Accuracy'],\n",
        "        'Precision': metrics['Precision'],\n",
        "        'Recall': metrics['Recall'],\n",
        "        'F1-Score': metrics['F1-Score']\n",
        "    })\n",
        "\n",
        "# Konversi daftar kamus ke DataFrame\n",
        "summary_df = pd.DataFrame(rows)\n",
        "\n",
        "# Tampilkan DataFrame\n",
        "print(summary_df)\n",
        "\n",
        "\n",
        "# Generate predictions\n",
        "y_pred_rf = rf.predict(X_test)\n",
        "y_pred_knn = knn.predict(X_test)\n",
        "\n",
        "# Create subplots\n",
        "plt.figure(figsize=(12, 5))\n",
        "\n",
        "# Random Forest Confusion Matrix\n",
        "plt.subplot(1, 2, 1)\n",
        "cm_rf = confusion_matrix(y_test, y_pred_rf)\n",
        "sns.heatmap(cm_rf, annot=True, fmt='d', cmap='Blues',\n",
        "            xticklabels=np.unique(y_test), yticklabels=np.unique(y_test))\n",
        "plt.title('Random Forest Confusion Matrix')\n",
        "plt.xlabel('Predicted')\n",
        "plt.ylabel('Actual')\n",
        "\n",
        "# KNN Confusion Matrix\n",
        "plt.subplot(1, 2, 2)\n",
        "cm_knn = confusion_matrix(y_test, y_pred_knn)\n",
        "sns.heatmap(cm_knn, annot=True, fmt='d', cmap='Oranges',\n",
        "            xticklabels=np.unique(y_test), yticklabels=np.unique(y_test))\n",
        "plt.title('KNN Confusion Matrix')\n",
        "plt.xlabel('Predicted')\n",
        "plt.ylabel('Actual')\n",
        "\n",
        "plt.tight_layout()\n",
        "plt.show()\n"
      ]
    },
    {
      "cell_type": "code",
      "execution_count": 29,
      "metadata": {
        "colab": {
          "base_uri": "https://localhost:8080/"
        },
        "id": "JCxeRMxn3TpM",
        "outputId": "b57fe102-eef3-410c-cde6-781275bfcc04"
      },
      "outputs": [
        {
          "name": "stdout",
          "output_type": "stream",
          "text": [
            "Model dan scaler telah tersimpan di: ../models/segmentasi_bundle.pkl\n"
          ]
        }
      ],
      "source": [
        "# simpan model\n",
        "bundle = {\n",
        "    \"model\": rf,\n",
        "    \"scaler\": scaler\n",
        "}\n",
        "\n",
        "\n",
        "path = \"../models/segmentasi_bundle.pkl\"\n",
        "os.makedirs(os.path.dirname(path), exist_ok=True)\n",
        "joblib.dump(bundle, path)\n",
        "print(f\"Model dan scaler telah tersimpan di: {path}\")"
      ]
    }
  ],
  "metadata": {
    "colab": {
      "provenance": []
    },
    "kernelspec": {
      "display_name": "Latihan_Prediksi_dengan_Run_ID-fOoC6OdF",
      "language": "python",
      "name": "python3"
    },
    "language_info": {
      "codemirror_mode": {
        "name": "ipython",
        "version": 3
      },
      "file_extension": ".py",
      "mimetype": "text/x-python",
      "name": "python",
      "nbconvert_exporter": "python",
      "pygments_lexer": "ipython3",
      "version": "3.10.6"
    }
  },
  "nbformat": 4,
  "nbformat_minor": 0
}
