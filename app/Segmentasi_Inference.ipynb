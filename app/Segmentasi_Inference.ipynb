{
  "cells": [
    {
      "cell_type": "code",
      "execution_count": 3,
      "metadata": {
        "id": "WejVrSJKcS6D"
      },
      "outputs": [],
      "source": [
        "import pandas as pd\n",
        "import numpy as np\n",
        "import joblib\n",
        "import os"
      ]
    },
    {
      "cell_type": "code",
      "execution_count": 4,
      "metadata": {
        "colab": {
          "base_uri": "https://localhost:8080/"
        },
        "id": "0GCLdAx2ct8c",
        "outputId": "e40e5fc6-7d0f-4b01-9214-f0e4144660ca"
      },
      "outputs": [
        {
          "name": "stdout",
          "output_type": "stream",
          "text": [
            "Wilayah ini diprediksi masuk ke dalam **Pusat Ekonomi dengan Daya Beli Tinggi**.\n",
            "Detail karakteristik wilayah:\n",
            "- Persentase orang miskin: **12.5%**\n",
            "- Produk Domestik Regional Bruto (PDRB): **Rp 15,000,000**\n",
            "- Angka Harapan Hidup: **71.3 tahun**\n",
            "- Rata-rata Lama Sekolah: **8.7 tahun**\n",
            "- Pengeluaran per Kapita: **Rp 3,200,000**\n"
          ]
        }
      ],
      "source": [
        "# Load bundle\n",
        "bundle_path = '../models/segmentasi_bundle.pkl'\n",
        "\n",
        "if not os.path.exists(bundle_path):\n",
        "    raise FileNotFoundError(f\"Bundle tidak ditemukan di: {bundle_path}\")\n",
        "\n",
        "bundle = joblib.load(bundle_path)\n",
        "model = bundle[\"model\"]\n",
        "scaler = bundle[\"scaler\"]\n",
        "\n",
        "# Data baru\n",
        "data_baru = pd.DataFrame([{\n",
        "    'poorpeople_percentage': 12.5,\n",
        "    'reg_gdp': 15000000,\n",
        "    'life_exp': 71.3,\n",
        "    'avg_schooltime': 8.7,\n",
        "    'exp_percap': 3200000\n",
        "}])\n",
        "\n",
        "# Standardisasi dan prediksi\n",
        "data_baru_scaled = scaler.transform(data_baru)\n",
        "prediksi = model.predict(data_baru_scaled)\n",
        "cluster_id = prediksi[0]\n",
        "\n",
        "# Mapping label\n",
        "cluster_labels = {\n",
        "    0: \"Wilayah Berkembang dengan Tingkat Kemiskinan Moderat\",\n",
        "    1: \"Pusat Ekonomi dengan Daya Beli Tinggi\"\n",
        "}\n",
        "predicted_label = cluster_labels.get(cluster_id, \"Cluster tidak dikenal\")\n",
        "\n",
        "# Output\n",
        "print(f\"Wilayah ini diprediksi masuk ke dalam **{predicted_label}**.\")\n",
        "print(f\"Detail karakteristik wilayah:\")\n",
        "print(f\"- Persentase orang miskin: **{data_baru['poorpeople_percentage'].iloc[0]}%**\")\n",
        "print(f\"- Produk Domestik Regional Bruto (PDRB): **Rp {data_baru['reg_gdp'].iloc[0]:,.0f}**\")\n",
        "print(f\"- Angka Harapan Hidup: **{data_baru['life_exp'].iloc[0]} tahun**\")\n",
        "print(f\"- Rata-rata Lama Sekolah: **{data_baru['avg_schooltime'].iloc[0]} tahun**\")\n",
        "print(f\"- Pengeluaran per Kapita: **Rp {data_baru['exp_percap'].iloc[0]:,.0f}**\")"
      ]
    }
  ],
  "metadata": {
    "colab": {
      "provenance": []
    },
    "kernelspec": {
      "display_name": "Latihan_Prediksi_dengan_Run_ID-fOoC6OdF",
      "language": "python",
      "name": "python3"
    },
    "language_info": {
      "codemirror_mode": {
        "name": "ipython",
        "version": 3
      },
      "file_extension": ".py",
      "mimetype": "text/x-python",
      "name": "python",
      "nbconvert_exporter": "python",
      "pygments_lexer": "ipython3",
      "version": "3.10.6"
    }
  },
  "nbformat": 4,
  "nbformat_minor": 0
}
