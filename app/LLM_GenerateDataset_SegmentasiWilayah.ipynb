{
 "cells": [
  {
   "cell_type": "code",
   "execution_count": 36,
   "id": "780ff33e-85c9-49da-a429-29e30e02885e",
   "metadata": {
    "tags": []
   },
   "outputs": [],
   "source": [
    "import random\n",
    "import os"
   ]
  },
  {
   "cell_type": "code",
   "execution_count": 37,
   "id": "78095351-a2c3-4363-adbe-701530b03b0b",
   "metadata": {
    "tags": []
   },
   "outputs": [
    {
     "name": "stdout",
     "output_type": "stream",
     "text": [
      "✅ Berhasil berpindah ke direktori: /home/jupyter\n"
     ]
    }
   ],
   "source": [
    "base_path = '/home/jupyter'\n",
    "\n",
    "# Cek dan ubah direktori kerja\n",
    "if os.path.exists(base_path):\n",
    "    os.chdir(base_path)\n",
    "    print(f\"✅ Berhasil berpindah ke direktori: {os.getcwd()}\")\n",
    "else:\n",
    "    print(f\"❌ Path tidak ditemukan: {target_path}\")"
   ]
  },
  {
   "cell_type": "code",
   "execution_count": 54,
   "id": "713a600e-e873-4570-bd9f-b6ea623a3b03",
   "metadata": {},
   "outputs": [],
   "source": [
    "struktur_segmentasi_wilayah= [\n",
    "    {\n",
    "        \"cluster\": \"Pusat Ekonomi dengan Daya Beli Tinggi\",\n",
    "        \"interpretasi_list\": [\n",
    "            {\n",
    "                \"interpretasi\": \"Tingkat kemiskinan cenderung rendah, meskipun masih terdapat kantong-kantong kemiskinan tertentu\",\n",
    "                \"insight\": [\n",
    "                        \"Pemerataan hasil pembangunan belum sepenuhnya tercapai, terutama di wilayah pinggiran kota atau komunitas marginal\",\n",
    "                        \"Ketimpangan sosial dapat muncul di balik kemajuan ekonomi makro\",\n",
    "                        \"Masih dibutuhkan program inklusif untuk menjangkau populasi rentan\",\n",
    "                        \"Potensi munculnya tekanan sosial dari kelompok yang belum terangkat secara ekonomi\"\n",
    "                ]\n",
    "            },\n",
    "            {\n",
    "                \"interpretasi\": \"Nilai PDRB per kapita tinggi, mencerminkan kontribusi ekonomi daerah yang kuat dari sektor-sektor produktif seperti perdagangan, industri, dan jasa\",\n",
    "                \"insight\": [\n",
    "                        \"Ketergantungan terhadap sektor tertentu bisa menjadi risiko bila tidak ada diversifikasi\",\n",
    "                        \"Pertumbuhan ekonomi belum tentu berdampak langsung pada semua kelompok masyarakat\",\n",
    "                        \"Peluang besar untuk mengembangkan industri berbasis inovasi dan teknologi\",\n",
    "                        \"Menarik bagi investor dan tenaga kerja terampil\",\n",
    "                        \"Memungkinkan peran daerah sebagai pusat pertumbuhan regional\"\n",
    "                ]\n",
    "            },\n",
    "            {\n",
    "                \"interpretasi\": \"Pelayanan publik seperti kesehatan, sanitasi, dan pengelolaan lingkungan relatif sudah baik dan merata\",\n",
    "                \"insight\": [\n",
    "                        \"Kualitas hidup masyarakat cenderung tinggi dan berkelanjutan\",\n",
    "                        \"Daerah ini siap menjadi model tata kelola wilayah berkelanjutan\",\n",
    "                        \"Memungkinkan pengembangan smart city berbasis pelayanan publik\",\n",
    "                        \"Menjadi magnet urbanisasi karena layanan publik yang unggul\"\n",
    "                ]\n",
    "            },\n",
    "            {\n",
    "                \"interpretasi\": \"Tingkat pendidikan masyarakat relatif tinggi dengan rata-rata lama sekolah yang memadai\",\n",
    "                \"insight\": [\n",
    "                        \"Sumber daya manusia (SDM) potensial untuk pasar kerja modern dan digital\",\n",
    "                        \"Peluang untuk pengembangan ekonomi kreatif dan berbasis pengetahuan\",\n",
    "                        \"Bisa menjadi pusat pendidikan dan pelatihan regional\",\n",
    "                        \"Daya saing tenaga kerja tinggi di tingkat nasional maupun global\"\n",
    "                ]\n",
    "            },\n",
    "            {\n",
    "                \"interpretasi\": \"Kemampuan konsumsi masyarakat tinggi, menandakan daya beli yang kuat dan sektor ekonomi domestik yang hidup\",\n",
    "                \"insight\": [\n",
    "                        \"Lingkungan yang subur untuk pertumbuhan sektor UMKM dan ritel\",\n",
    "                        \"Potensi besar untuk digitalisasi layanan dan transaksi\",\n",
    "                        \"Mengindikasikan preferensi konsumsi yang beragam, termasuk sektor premium\",\n",
    "                        \"Menunjukkan stabilitas ekonomi mikro rumah tangga\"\n",
    "                ]\n",
    "            }\n",
    "        ]\n",
    "    },\n",
    "    {\n",
    "        \"cluster\": \"Wilayah Berkembang dengan Tingkat Kemiskinan Moderat\",\n",
    "        \"interpretasi_list\": [\n",
    "            {\n",
    "                \"interpretasi\": \"Tingkat kemiskinan belum tinggi, tetapi masih cukup signifikan dan memerlukan perhatian khusus\",\n",
    "                \"insight\": [\n",
    "                        \"Indikasi adanya mobilitas ekonomi yang mulai tumbuh\",\n",
    "                        \"Perlu penguatan program berbasis kebutuhan dasar (basic needs approach)\",\n",
    "                        \"Segmen masyarakat berisiko kembali miskin jika terjadi krisis ekonomi\",\n",
    "                        \"Ketergantungan terhadap program bantuan sosial masih tinggi\"\n",
    "                ]\n",
    "            },\n",
    "            {\n",
    "                \"interpretasi\": \"Nilai PDRB per kapita cukup tinggi namun tidak tersebar merata, umumnya bertumpu pada beberapa sektor unggulan\",\n",
    "                \"insight\": [\n",
    "                        \"Distribusi pembangunan belum menyentuh semua lapisan masyarakat\",\n",
    "                        \"Perlu transformasi struktural untuk menyebarkan manfaat ekonomi\",\n",
    "                        \"Ketimpangan antarwilayah atau antarprofesi bisa memicu friksi sosial\",\n",
    "                        \"Pertumbuhan ekonomi bisa stagnan jika terlalu tergantung pada sektor tunggal\"\n",
    "                ]\n",
    "            },\n",
    "            {\n",
    "                \"interpretasi\": \"Harapan hidup cukup tinggi, mencerminkan perbaikan dalam pelayanan kesehatan dan kualitas hidup masyarakat\",\n",
    "                \"insight\": [\n",
    "                        \"Perlu kesinambungan program promotif dan preventif di bidang kesehatan\",\n",
    "                        \"Populasi usia lanjut meningkat, memerlukan adaptasi kebijakan jangka panjang\",\n",
    "                        \"Peluang untuk pengembangan ekonomi kesehatan dan layanan lansia\",\n",
    "                        \"Kualitas lingkungan hidup berpengaruh terhadap keberlanjutan angka ini\"\n",
    "                ]\n",
    "            },\n",
    "            {\n",
    "                \"interpretasi\": \"Akses pendidikan menengah dan tinggi masih terbatas, menyebabkan rata-rata lama sekolah rendah\",\n",
    "                \"insight\": [\n",
    "                        \"Kurangnya infrastruktur pendidikan di wilayah perdesaan\",\n",
    "                        \"Keterbatasan ekonomi rumah tangga menjadi penghalang lanjut sekolah\",\n",
    "                        \"Ancaman putus sekolah tinggi di tingkat SMP/SMA\",\n",
    "                        \"Generasi muda rentan terjebak dalam pekerjaan informal\"\n",
    "                ]\n",
    "            },\n",
    "            {\n",
    "                \"interpretasi\": \"Kemampuan konsumsi masyarakat masih terbatas, menunjukkan daya beli yang rendah\",\n",
    "                \"insight\": [\n",
    "                        \"Sektor perdagangan dan jasa belum berkembang optimal\",\n",
    "                        \"Ketergantungan terhadap subsistensi dan ekonomi informal masih tinggi\",\n",
    "                        \"Risiko ketahanan pangan dan gizi buruk lebih besar\",\n",
    "                        \"Rendahnya konsumsi berdampak pada lambatnya pertumbuhan ekonomi lokal\"\n",
    "                ]\n",
    "            }\n",
    "        ]\n",
    "    }\n",
    "]"
   ]
  },
  {
   "cell_type": "code",
   "execution_count": 48,
   "id": "57b26b72-5617-457b-80ca-8ad3a183c453",
   "metadata": {
    "tags": []
   },
   "outputs": [],
   "source": [
    "import json\n",
    "\n",
    "# Simpan ke file JSON\n",
    "with open(\"data/processed/Segmentasi Wilayah/data_segmentasi_wilayah.json\", \"w\", encoding=\"utf-8\") as f:\n",
    "    json.dump(struktur_kesimpulan_segmentasi_wilayah, f, indent=4, ensure_ascii=False)"
   ]
  },
  {
   "cell_type": "code",
   "execution_count": 46,
   "id": "d82603b0-b65d-4c00-b5ba-5d494b1ffe52",
   "metadata": {
    "tags": []
   },
   "outputs": [],
   "source": [
    "def buat_narasi_kebijakan(data_list):\n",
    "    \"\"\"\n",
    "    Menghasilkan narasi analisis acak berdasarkan data segmentasi wilayah.\n",
    "    \"\"\"\n",
    "    # 1. Pilih satu klaster wilayah secara acak\n",
    "    cluster_data = random.choice(data_list)\n",
    "    cluster_name = cluster_data[\"cluster\"]\n",
    "\n",
    "    # 2. Dari klaster terpilih, pilih satu set interpretasi secara acak\n",
    "    interpretasi_data = random.choice(cluster_data[\"interpretasi_list\"])\n",
    "    interpretasi_text = interpretasi_data[\"interpretasi\"]\n",
    "\n",
    "    # 3. Dari interpretasi terpilih, pilih satu insight secara acak sebagai penjelasan\n",
    "    #    Menambahkan pengecekan untuk memastikan list insight tidak kosong\n",
    "    list_insight = interpretasi_data[\"insight\"]\n",
    "    if list_insight:\n",
    "        selected_insight = random.choice(list_insight)\n",
    "    else:\n",
    "        # Fallback jika list insight kosong\n",
    "        selected_insight = \"belum ada analisis mendalam yang tersedia.\"\n",
    "\n",
    "    # 4. Susun narasi menggunakan template\n",
    "\n",
    "    narasi = (\n",
    "        f\"Wilayah ini dapat diklasifikasikan sebagai {cluster_name} \"\n",
    "        f\"yang umumnya memiliki {interpretasi_text} \"\n",
    "        f\"dengan kata lain {selected_insight.lower()}\"\n",
    "    )\n",
    "\n",
    "    return narasi"
   ]
  },
  {
   "cell_type": "code",
   "execution_count": 47,
   "id": "b5b46f33-5b6b-47a6-875e-a2c7ac85c425",
   "metadata": {
    "tags": []
   },
   "outputs": [
    {
     "name": "stdout",
     "output_type": "stream",
     "text": [
      "Wilayah ini dapat diklasifikasikan sebagai Wilayah Berkembang dengan Tingkat Kemiskinan Moderat yang umumnya memiliki Rata-rata pengeluaran per kapita masih rendah dengan kata lain daya beli masyarakat secara umum masih lemah, yang menyebabkan pasar lokal tidak berkembang dan didominasi oleh transaksi barang kebutuhan pokok\n"
     ]
    }
   ],
   "source": [
    "print(buat_narasi_kebijakan(struktur_kesimpulan_segmentasi_wilayah))"
   ]
  },
  {
   "cell_type": "code",
   "execution_count": 49,
   "id": "bf2d8b2c-d2c7-4724-9352-bf1ae8634fc2",
   "metadata": {},
   "outputs": [],
   "source": [
    "def get_rekomendasi_kebijakan_wilayah(cluster, interpretasi):\n",
    "    cluster = cluster.lower()\n",
    "    interpretasi = interpretasi.lower()\n",
    "\n",
    "    if \"pusat ekonomi\" in cluster:\n",
    "        if \"kemiskinan\" in interpretasi:\n",
    "            return (\n",
    "                \"Fokuskan program pengentasan kemiskinan pada kantong-kantong urban melalui pendekatan individu atau keluarga. \"\n",
    "                \"Prioritaskan bantuan untuk hunian layak, transportasi terjangkau, dan akses ke pekerjaan formal. Gunakan data spasial mikro untuk targeting yang presisi.\"\n",
    "            )\n",
    "        elif \"pdrb per kapita\" in interpretasi:\n",
    "            return (\n",
    "                \"Diversifikasi sektor ekonomi untuk mengurangi ketergantungan pada sektor unggulan. \"\n",
    "                \"Dorong inovasi dan inkubasi usaha baru di sektor kreatif dan teknologi lokal untuk ketahanan ekonomi jangka panjang.\"\n",
    "            )\n",
    "        elif \"layanan publik\" in interpretasi:\n",
    "            return (\n",
    "                \"Alihkan fokus dari pembangunan fisik ke peningkatan kualitas layanan publik. \"\n",
    "                \"Dorong partisipasi masyarakat dalam pemantauan layanan dan adopsi teknologi untuk pelayanan cerdas (smart services).\"\n",
    "            )\n",
    "        elif \"lama sekolah\" in interpretasi:\n",
    "            return (\n",
    "                \"Perkuat koneksi antara pendidikan tinggi dan kebutuhan pasar kerja. \"\n",
    "                \"Fasilitasi career center dan pelatihan ulang (reskilling) untuk menghadapi dinamika pasar tenaga kerja yang kompetitif.\"\n",
    "            )\n",
    "        elif \"pengeluaran per kapita\" in interpretasi:\n",
    "            return (\n",
    "                \"Perkuat literasi keuangan untuk mencegah lonjakan utang konsumtif. \"\n",
    "                \"Dorong investasi masyarakat ke sektor produktif, seperti UMKM dan ekonomi kreatif lokal.\"\n",
    "            )\n",
    "\n",
    "    elif \"wilayah berkembang\" in cluster:\n",
    "        if \"kemiskinan\" in interpretasi:\n",
    "            return (\n",
    "                \"Tingkatkan program perlindungan sosial untuk kelompok rentan (vulnerable non-poor). \"\n",
    "                \"Perluas akses terhadap pendidikan dan pelatihan kerja, serta fasilitasi keterhubungan ke pasar dan modal usaha kecil.\"\n",
    "            )\n",
    "        elif \"pdrb per kapita\" in interpretasi:\n",
    "            return (\n",
    "                \"Integrasikan sektor unggulan dengan ekonomi lokal melalui program kemitraan dan transfer teknologi. \"\n",
    "                \"Pastikan hasil ekonomi tidak hanya mengalir keluar, tetapi mendukung ekonomi kerakyatan melalui koperasi dan BUMDes.\"\n",
    "            )\n",
    "        elif \"harapan hidup\" in interpretasi:\n",
    "            return (\n",
    "                \"Perkuat layanan kesehatan rujukan dan promotif-preventif di luar pusat pertumbuhan. \"\n",
    "                \"Tingkatkan kesadaran gaya hidup sehat dan bangun infrastruktur kesehatan yang merata.\"\n",
    "            )\n",
    "        elif \"lama sekolah\" in interpretasi:\n",
    "            return (\n",
    "                \"Bangun insentif bagi keluarga untuk melanjutkan pendidikan anak, termasuk beasiswa bersyarat dan transportasi sekolah. \"\n",
    "                \"Dekatkan akses pendidikan menengah melalui sekolah satelit atau boarding sekolah negeri di daerah tertinggal.\"\n",
    "            )\n",
    "        elif \"pengeluaran per kapita\" in interpretasi:\n",
    "            return (\n",
    "                \"Dorong penguatan pasar lokal dengan mendukung UMKM, koperasi, dan pertanian rakyat. \"\n",
    "                \"Perluas akses terhadap layanan keuangan inklusif untuk meningkatkan tabungan dan investasi rumah tangga.\"\n",
    "            )\n",
    "\n",
    "    return \"Rekomendasi kebijakan tidak ditemukan. Pastikan cluster dan interpretasi sesuai.\""
   ]
  },
  {
   "cell_type": "code",
   "execution_count": 50,
   "id": "4fd73c4b-5d14-4919-8965-73d043d14c2c",
   "metadata": {},
   "outputs": [
    {
     "name": "stdout",
     "output_type": "stream",
     "text": [
      "Fokuskan program pengentasan kemiskinan pada kantong-kantong urban melalui pendekatan individu atau keluarga. Prioritaskan bantuan untuk hunian layak, transportasi terjangkau, dan akses ke pekerjaan formal. Gunakan data spasial mikro untuk targeting yang presisi.\n"
     ]
    }
   ],
   "source": [
    "print(get_rekomendasi_kebijakan_wilayah(\n",
    "    \"Pusat Ekonomi dengan Daya Beli Tinggi\",\n",
    "    \"Persentase kemiskinan sangat rendah, namun masih ada kantong kemiskinan.\"\n",
    "))"
   ]
  },
  {
   "cell_type": "code",
   "execution_count": null,
   "id": "ca056b61-2b84-48c4-b190-6a16456d5a9f",
   "metadata": {},
   "outputs": [],
   "source": [
    "# Konversi struktur_narasi_sampah ke struktur_sampah yang mudah diakses\n",
    "struktur_sampah = {}\n",
    "for kategori_item in struktur_narasi_sampah:\n",
    "    kategori = kategori_item[\"kategori\"].lower()\n",
    "    entri_list = []\n",
    "    for karakteristik_item in kategori_item[\"karakteristik_list\"]:\n",
    "        karakteristik = karakteristik_item[\"karakteristik\"].lower()\n",
    "        for sumber_item in karakteristik_item[\"sumber_dan_dampak\"]:\n",
    "            entri = {\n",
    "                \"sumber\": sumber_item[\"sumber\"],\n",
    "                \"karakteristik\": [karakteristik],\n",
    "                \"dampak\": sumber_item.get(\"dampak\", [])\n",
    "            }\n",
    "            entri_list.append(entri)\n",
    "    struktur_sampah[kategori] = entri_list\n",
    "\n",
    "# Daftar kategori sampah\n",
    "kategori_sampah = list(struktur_sampah.keys())"
   ]
  },
  {
   "cell_type": "code",
   "execution_count": 55,
   "id": "d3c28652-bfe0-4e01-b40f-94225b25b786",
   "metadata": {
    "tags": []
   },
   "outputs": [
    {
     "name": "stdout",
     "output_type": "stream",
     "text": [
      "Dataset narasi kebijakan sampah berhasil digenerate dan tersimpan.\n",
      "Waktu eksekusi: 0.01 detik\n"
     ]
    }
   ],
   "source": [
    "import time\n",
    "import random\n",
    "\n",
    "# Generate dataset narasi kebijakan\n",
    "output_path = 'data/processed/Segmentasi Wilayah/dataset_narasi_kebijakan_wilayah.txt'\n",
    "total_data = 500\n",
    "generated = 0\n",
    "\n",
    "start_time = time.time()\n",
    "\n",
    "with open(output_path, 'w', encoding='utf-8') as f:\n",
    "    while generated < total_data:\n",
    "        cluster = random.choice(struktur_segmentasi_wilayah)\n",
    "        cluster_name = cluster[\"cluster\"]\n",
    "        interpretasi_item = random.choice(cluster[\"interpretasi_list\"])\n",
    "\n",
    "        interpretasi_text = interpretasi_item[\"interpretasi\"]\n",
    "        insight_list = interpretasi_item[\"insight\"]\n",
    "        \n",
    "        if insight_list:\n",
    "            selected_insight = random.choice(insight_list)\n",
    "        else:\n",
    "            selected_insight = \"belum ada analisis mendalam yang tersedia.\"\n",
    "\n",
    "        kesimpulan = (\n",
    "            f\"Wilayah ini dapat diklasifikasikan sebagai {cluster_name} \"\n",
    "            f\"yang umumnya memiliki {interpretasi_text} \"\n",
    "            f\"dengan kata lain {selected_insight.lower()}.\"\n",
    "        )\n",
    "\n",
    "        rekomendasi = get_rekomendasi_kebijakan_wilayah(cluster_name, interpretasi_text)\n",
    "\n",
    "        if \"tidak ditemukan\" in rekomendasi.lower():\n",
    "            continue\n",
    "\n",
    "        final_narasi = (\n",
    "            f\"Kesimpulan: {kesimpulan}\\n\"\n",
    "            f\"Rekomendasi Kebijakan: {rekomendasi}\\n\\n\"\n",
    "        )\n",
    "\n",
    "        f.write(final_narasi)\n",
    "        generated += 1\n",
    "\n",
    "print(\"Dataset narasi kebijakan sampah berhasil digenerate dan tersimpan.\")\n",
    "print(f\"Waktu eksekusi: {time.time() - start_time:.2f} detik\")"
   ]
  },
  {
   "cell_type": "code",
   "execution_count": 56,
   "id": "ac7517c6-96f5-4a94-85a1-53081132896f",
   "metadata": {},
   "outputs": [
    {
     "name": "stdout",
     "output_type": "stream",
     "text": [
      "Kesimpulan: Wilayah ini dapat diklasifikasikan sebagai Pusat Ekonomi dengan Daya Beli Tinggi yang umumnya memiliki Tingkat pendidikan masyarakat relatif tinggi dengan rata-rata lama sekolah yang memadai dengan kata lain daya saing tenaga kerja tinggi di tingkat nasional maupun global.\n",
      "Rekomendasi Kebijakan: Perkuat koneksi antara pendidikan tinggi dan kebutuhan pasar kerja. Fasilitasi career center dan pelatihan ulang (reskilling) untuk menghadapi dinamika pasar tenaga kerja yang kompetitif.\n",
      "\n",
      "Kesimpulan: Wilayah ini dapat diklasifikasikan sebagai Wilayah Berkembang dengan Tingkat Kemiskinan Moderat yang umumnya memiliki Nilai PDRB per kapita cukup tinggi namun tidak tersebar merata, umumnya bertumpu pada beberapa sektor unggulan dengan kata lain perlu transformasi struktural untuk menyebarkan manfaat ekonomi.\n",
      "Rekomendasi Kebijakan: Integrasikan sektor unggulan dengan ekonomi lokal melalui program kemitraan dan transfer teknologi. Pastikan hasil ekonomi tidak hanya mengalir keluar, tetapi mendukung ekonomi kerakyatan melalui koperasi dan BUMDes.\n",
      "\n",
      "Kesimpulan: Wilayah ini dapat diklasifikasikan sebagai Wilayah Berkembang dengan Tingkat Kemiskinan Moderat yang umumnya memiliki Nilai PDRB per kapita cukup tinggi namun tidak tersebar merata, umumnya bertumpu pada beberapa sektor unggulan dengan kata lain perlu transformasi struktural untuk menyebarkan manfaat ekonomi.\n",
      "Rekomendasi Kebijakan: Integrasikan sektor unggulan dengan ekonomi lokal melalui program kemitraan dan transfer teknologi. Pastikan hasil ekonomi tidak hanya mengalir keluar, tetapi mendukung ekonomi kerakyatan melalui koperasi dan BUMDes.\n",
      "\n",
      "Kesimpulan: Wilayah ini dapat diklasifikasikan sebagai Wilayah Berkembang dengan Tingkat Kemiskinan Moderat yang umumnya memiliki Harapan hidup cukup tinggi, mencerminkan perbaikan dalam pelayanan kesehatan dan kualitas hidup masyarakat dengan kata lain perlu kesinambungan program promotif dan preventif di bidang kesehatan.\n",
      "Rekomendasi Kebijakan: Perkuat layanan kesehatan rujukan dan promotif-preventif di luar pusat pertumbuhan. Tingkatkan kesadaran gaya hidup sehat dan bangun infrastruktur kesehatan yang merata.\n",
      "\n",
      "Kesimpulan: Wilayah ini dapat diklasifikasikan sebagai Wilayah Berkembang dengan Tingkat Kemiskinan Moderat yang umumnya memiliki Tingkat kemiskinan belum tinggi, tetapi masih cukup signifikan dan memerlukan perhatian khusus dengan kata lain indikasi adanya mobilitas ekonomi yang mulai tumbuh.\n",
      "Rekomendasi Kebijakan: Tingkatkan program perlindungan sosial untuk kelompok rentan (vulnerable non-poor). Perluas akses terhadap pendidikan dan pelatihan kerja, serta fasilitasi keterhubungan ke pasar dan modal usaha kecil.\n",
      "\n",
      "Kesimpulan: Wilayah ini dapat diklasifikasikan sebagai Pusat Ekonomi dengan Daya Beli Tinggi yang umumnya memiliki Pelayanan publik seperti kesehatan, sanitasi, dan pengelolaan lingkungan relatif sudah baik dan merata dengan kata lain kualitas hidup masyarakat cenderung tinggi dan berkelanjutan.\n",
      "Rekomendasi Kebijakan: Alihkan fokus dari pembangunan fisik ke peningkatan kualitas layanan publik. Dorong partisipasi masyarakat dalam pemantauan layanan dan adopsi teknologi untuk pelayanan cerdas (smart services).\n",
      "\n",
      "Kesimpulan: Wilayah ini dapat diklasifikasikan sebagai Wilayah Berkembang dengan Tingkat Kemiskinan Moderat yang umumnya memiliki Tingkat kemiskinan belum tinggi, tetapi masih cukup signifikan dan memerlukan perhatian khusus dengan kata lain ketergantungan terhadap program bantuan sosial masih tinggi.\n",
      "Rekomendasi Kebijakan: Tingkatkan program perlindungan sosial untuk kelompok rentan (vulnerable non-poor). Perluas akses terhadap pendidikan dan pelatihan kerja, serta fasilitasi keterhubungan ke pasar dan modal usaha kecil.\n",
      "\n",
      "Kesimpulan: Wilayah ini dapat diklasifikasikan sebagai Wilayah Berkembang dengan Tingkat Kemiskinan Moderat yang umumnya memiliki Akses pendidikan menengah dan tinggi masih terbatas, menyebabkan rata-rata lama sekolah rendah dengan kata lain keterbatasan ekonomi rumah tangga menjadi penghalang lanjut sekolah.\n",
      "Rekomendasi Kebijakan: Bangun insentif bagi keluarga untuk melanjutkan pendidikan anak, termasuk beasiswa bersyarat dan transportasi sekolah. Dekatkan akses pendidikan menengah melalui sekolah satelit atau boarding sekolah negeri di daerah tertinggal.\n",
      "\n",
      "Kesimpulan: Wilayah ini dapat diklasifikasikan sebagai Pusat Ekonomi dengan Daya Beli Tinggi yang umumnya memiliki Pelayanan publik seperti kesehatan, sanitasi, dan pengelolaan lingkungan relatif sudah baik dan merata dengan kata lain kualitas hidup masyarakat cenderung tinggi dan berkelanjutan.\n",
      "Rekomendasi Kebijakan: Alihkan fokus dari pembangunan fisik ke peningkatan kualitas layanan publik. Dorong partisipasi masyarakat dalam pemantauan layanan dan adopsi teknologi untuk pelayanan cerdas (smart services).\n",
      "\n",
      "Kesimpulan: Wilayah ini dapat diklasifikasikan sebagai Pusat Ekonomi dengan Daya Beli Tinggi yang umumnya memiliki Nilai PDRB per kapita tinggi, mencerminkan kontribusi ekonomi daerah yang kuat dari sektor-sekt\n"
     ]
    }
   ],
   "source": [
    "with open(output_path, \"r\", encoding=\"utf-8\") as file:\n",
    "    isi = file.read()  # Baca semua isi file jadi satu string\n",
    "\n",
    "print(isi[:5000])"
   ]
  },
  {
   "cell_type": "code",
   "execution_count": null,
   "id": "711e5b88-7ffa-4fc1-ac1d-6a1f86725bea",
   "metadata": {},
   "outputs": [],
   "source": []
  }
 ],
 "metadata": {
  "environment": {
   "kernel": "conda-base-py",
   "name": "workbench-notebooks.m129",
   "type": "gcloud",
   "uri": "us-docker.pkg.dev/deeplearning-platform-release/gcr.io/workbench-notebooks:m129"
  },
  "kernelspec": {
   "display_name": "Python 3 (ipykernel)",
   "language": "python",
   "name": "conda-base-py"
  },
  "language_info": {
   "codemirror_mode": {
    "name": "ipython",
    "version": 3
   },
   "file_extension": ".py",
   "mimetype": "text/x-python",
   "name": "python",
   "nbconvert_exporter": "python",
   "pygments_lexer": "ipython3",
   "version": "3.10.16"
  }
 },
 "nbformat": 4,
 "nbformat_minor": 5
}
